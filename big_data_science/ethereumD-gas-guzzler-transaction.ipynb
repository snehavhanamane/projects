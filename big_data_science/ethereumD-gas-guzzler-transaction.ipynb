{
 "cells": [
  {
   "cell_type": "code",
   "execution_count": 1,
   "id": "e7217ee9-09e1-46cd-ad77-4bc8cc0f217e",
   "metadata": {},
   "outputs": [],
   "source": [
    "import sys, string\n",
    "import os\n",
    "import socket\n",
    "import time\n",
    "from time import gmtime, strftime\n",
    "import operator\n",
    "import boto3\n",
    "import json\n",
    "import findspark\n",
    "from pyspark.sql import SparkSession\n",
    "from datetime import datetime\n"
   ]
  },
  {
   "cell_type": "code",
   "execution_count": 2,
   "id": "f99f4a1b-ea39-41a8-a5bf-fb5d84ad4652",
   "metadata": {},
   "outputs": [],
   "source": [
    "findspark.init()"
   ]
  },
  {
   "cell_type": "code",
   "execution_count": 3,
   "id": "52f30ddd-edf2-4645-8c79-345f331a88ac",
   "metadata": {},
   "outputs": [],
   "source": [
    "spark = SparkSession\\\n",
    "        .builder\\\n",
    "        .appName(\"ethereum-sneha-C\")\\\n",
    "        .getOrCreate()"
   ]
  },
  {
   "cell_type": "code",
   "execution_count": 4,
   "id": "3126e724-b393-4299-80e2-a5b2c20e13bd",
   "metadata": {},
   "outputs": [],
   "source": [
    "def filter_transaction_line(line):\n",
    "    try:\n",
    "        fields = line.split(',')\n",
    "        if len(fields) != 7 or int(fields[3]) ==0 or fields[0] == 'block_number':\n",
    "            return False\n",
    "        else:\n",
    "            str(fields[2]) # convert to_address to string \n",
    "            return True\n",
    "    except:\n",
    "        return False\n",
    "\n",
    "def filter_contracts_line(line):\n",
    "    try:\n",
    "        fields = line.split(',')\n",
    "        if len(fields) != 5 or fields[0] == 'address':\n",
    "            return False\n",
    "        else:\n",
    "            str(fields[0]) # convert address to string \n",
    "            return True\n",
    "    except:\n",
    "        return False\n",
    "\n",
    "      \n",
    "    \n"
   ]
  },
  {
   "cell_type": "code",
   "execution_count": 5,
   "id": "5cf18556-6fb2-472e-83a0-241633401a9f",
   "metadata": {},
   "outputs": [],
   "source": [
    "transactions_file = spark.sparkContext.textFile(\"./transactions.csv\").filter(filter_transaction_line)\n",
    "contracts_file = spark.sparkContext.textFile(\"./contract.csv\").filter(filter_contracts_line)"
   ]
  },
  {
   "cell_type": "code",
   "execution_count": 7,
   "id": "1d27b07f-1b2c-4a7e-877a-fb984aced638",
   "metadata": {},
   "outputs": [],
   "source": [
    "weekly_gas_transactions = transactions_file.map(lambda x: (( x.split(',')[2], strftime('%Y-%m W%W', gmtime(int(x.split(',')[-1])))) , ( int(x.split(',')[4]), 1)))\n",
    "\n",
    "weekly_gas_transactions_reduced = weekly_gas_transactions.reduceByKey(lambda a, b: (a[0]+b[0], a[1]+b[1]))\n",
    "\n",
    "weekly_gas_transactions_key_map = weekly_gas_transactions_reduced.map(lambda x: ( x[0][0], (x[0][1], x[1][0], x[1][1])))\n",
    "\n",
    "weekly_gas_transactions_contracts_joined = weekly_gas_transactions_key_map.leftOuterJoin(contracts_file.map(lambda x: ( x.split(',')[0], 'contract')))\n",
    "\n",
    "weekly_gas_transactions_contracts_key_map = weekly_gas_transactions_contracts_joined.map(lambda x: (('Wallet' if x[1][1] is None else x[1][1], x[1][0][0]),(x[1][0][1], x[1][0][2])))\n",
    "\n",
    "weekly_gas_transactions_contracts_reduced = weekly_gas_transactions_contracts_key_map.reduceByKey(lambda a, b: (a[0]+b[0], a[1]+b[1]))\n",
    "step7 = weekly_gas_transactions_contracts_reduced.mapValues(lambda x: x[0]/x[1])\n",
    "step8 = step7.map(lambda x: (x[0][1], (x[0][0], x[1])))\n",
    "step9 = step8.sortByKey()"
   ]
  },
  {
   "cell_type": "code",
   "execution_count": 8,
   "id": "20285655-a53a-484f-837d-b9a127905bdb",
   "metadata": {},
   "outputs": [
    {
     "data": {
      "text/plain": [
       "[('2016-09 W37', ('Wallet', 62250.0)), ('2016-09 W37', ('contract', 55500.0))]"
      ]
     },
     "execution_count": 8,
     "metadata": {},
     "output_type": "execute_result"
    }
   ],
   "source": [
    "step9.collect()[:5]"
   ]
  },
  {
   "cell_type": "code",
   "execution_count": null,
   "id": "1a757663-d2b0-4090-b828-45d178f8d243",
   "metadata": {},
   "outputs": [],
   "source": []
  }
 ],
 "metadata": {
  "kernelspec": {
   "display_name": "Python 3 (ipykernel)",
   "language": "python",
   "name": "python3"
  },
  "language_info": {
   "codemirror_mode": {
    "name": "ipython",
    "version": 3
   },
   "file_extension": ".py",
   "mimetype": "text/x-python",
   "name": "python",
   "nbconvert_exporter": "python",
   "pygments_lexer": "ipython3",
   "version": "3.9.12"
  }
 },
 "nbformat": 4,
 "nbformat_minor": 5
}
