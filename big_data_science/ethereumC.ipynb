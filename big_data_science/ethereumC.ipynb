{
 "cells": [
  {
   "cell_type": "code",
   "execution_count": 1,
   "id": "e7217ee9-09e1-46cd-ad77-4bc8cc0f217e",
   "metadata": {},
   "outputs": [],
   "source": [
    "import sys, string\n",
    "import os\n",
    "import socket\n",
    "import time\n",
    "from time import gmtime, strftime\n",
    "import operator\n",
    "import boto3\n",
    "import json\n",
    "import findspark\n",
    "from pyspark.sql import SparkSession\n",
    "from datetime import datetime\n"
   ]
  },
  {
   "cell_type": "code",
   "execution_count": 2,
   "id": "f99f4a1b-ea39-41a8-a5bf-fb5d84ad4652",
   "metadata": {},
   "outputs": [],
   "source": [
    "findspark.init()"
   ]
  },
  {
   "cell_type": "code",
   "execution_count": 3,
   "id": "52f30ddd-edf2-4645-8c79-345f331a88ac",
   "metadata": {},
   "outputs": [],
   "source": [
    "spark = SparkSession\\\n",
    "        .builder\\\n",
    "        .appName(\"ethereum-sneha-C\")\\\n",
    "        .getOrCreate()"
   ]
  },
  {
   "cell_type": "code",
   "execution_count": 4,
   "id": "3126e724-b393-4299-80e2-a5b2c20e13bd",
   "metadata": {},
   "outputs": [],
   "source": [
    "def good_block_line(line):\n",
    "    try:\n",
    "        fields = line.split(',')\n",
    "        # print(len(fields))\n",
    "        # print(fields[0])\n",
    "        if len(fields) != 19 or fields[0] == 'number':\n",
    "            return False\n",
    "        else:\n",
    "            return True\n",
    "        # int(feilds[6])\n",
    "        # return True\n",
    "    except:\n",
    "        return False\n"
   ]
  },
  {
   "cell_type": "code",
   "execution_count": 5,
   "id": "5cf18556-6fb2-472e-83a0-241633401a9f",
   "metadata": {},
   "outputs": [],
   "source": [
    "blocks_file = spark.sparkContext.textFile(\"./blocks.csv\")\n"
   ]
  },
  {
   "cell_type": "code",
   "execution_count": 6,
   "id": "690b5dbd-caef-467d-ae5c-e8830a10079b",
   "metadata": {},
   "outputs": [],
   "source": [
    "clean_blocks = blocks_file.filter(good_block_line)"
   ]
  },
  {
   "cell_type": "code",
   "execution_count": 7,
   "id": "ac29027d-8b4b-444e-b8a7-be1ad680e5a5",
   "metadata": {},
   "outputs": [],
   "source": [
    "miner_sizes = clean_blocks.map(lambda x: (x.split(',')[9], int(x.split(',')[12]))).reduceByKey(lambda a,b: a+b)"
   ]
  },
  {
   "cell_type": "code",
   "execution_count": 8,
   "id": "b0516098-b3b3-4bfd-b0b8-e938a3569e22",
   "metadata": {},
   "outputs": [],
   "source": [
    "sorted_miners = miner_sizes.sortBy(lambda x: x[1], False)"
   ]
  },
  {
   "cell_type": "code",
   "execution_count": 10,
   "id": "73cff210-4dd5-4922-a5f4-396b86d6555f",
   "metadata": {},
   "outputs": [
    {
     "data": {
      "text/plain": [
       "[('0x52bc44d5378309ee2abf1539bf71de1b7d7be3b5', 3712),\n",
       " ('0x2a65aca4d5fc5b5c859090a6c34d164135398226', 2570),\n",
       " ('0x95581ea0c5b362933f3523138f54d51eae817211', 897)]"
      ]
     },
     "execution_count": 10,
     "metadata": {},
     "output_type": "execute_result"
    }
   ],
   "source": [
    "sorted_miners.collect()"
   ]
  },
  {
   "cell_type": "code",
   "execution_count": 12,
   "id": "5e1bcc05-5586-453c-b9bb-7ed2da3b621b",
   "metadata": {},
   "outputs": [
    {
     "data": {
      "text/plain": [
       "10"
      ]
     },
     "execution_count": 12,
     "metadata": {},
     "output_type": "execute_result"
    }
   ],
   "source": [
    "len(clean_blocks.collect())"
   ]
  },
  {
   "cell_type": "code",
   "execution_count": 13,
   "id": "d1d3366b-48a5-4727-8aa6-e06c0b221aa6",
   "metadata": {},
   "outputs": [
    {
     "data": {
      "text/plain": [
       "[('0x2a65aca4d5fc5b5c859090a6c34d164135398226', 2570),\n",
       " ('0x95581ea0c5b362933f3523138f54d51eae817211', 897),\n",
       " ('0x52bc44d5378309ee2abf1539bf71de1b7d7be3b5', 3712)]"
      ]
     },
     "execution_count": 13,
     "metadata": {},
     "output_type": "execute_result"
    }
   ],
   "source": [
    "miner_sizes.collect()"
   ]
  },
  {
   "cell_type": "code",
   "execution_count": null,
   "id": "99ee65af-2fe0-47b8-9f78-2a97e1307c78",
   "metadata": {},
   "outputs": [],
   "source": []
  }
 ],
 "metadata": {
  "kernelspec": {
   "display_name": "Python 3 (ipykernel)",
   "language": "python",
   "name": "python3"
  },
  "language_info": {
   "codemirror_mode": {
    "name": "ipython",
    "version": 3
   },
   "file_extension": ".py",
   "mimetype": "text/x-python",
   "name": "python",
   "nbconvert_exporter": "python",
   "pygments_lexer": "ipython3",
   "version": "3.9.12"
  }
 },
 "nbformat": 4,
 "nbformat_minor": 5
}
