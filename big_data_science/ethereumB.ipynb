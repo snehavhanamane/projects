{
 "cells": [
  {
   "cell_type": "code",
   "execution_count": 1,
   "id": "e7217ee9-09e1-46cd-ad77-4bc8cc0f217e",
   "metadata": {},
   "outputs": [],
   "source": [
    "import sys, string\n",
    "import os\n",
    "import socket\n",
    "import time\n",
    "from time import gmtime, strftime\n",
    "import operator\n",
    "import boto3\n",
    "import json\n",
    "import findspark\n",
    "from pyspark.sql import SparkSession\n",
    "from datetime import datetime\n"
   ]
  },
  {
   "cell_type": "code",
   "execution_count": 2,
   "id": "f99f4a1b-ea39-41a8-a5bf-fb5d84ad4652",
   "metadata": {},
   "outputs": [],
   "source": [
    "findspark.init()"
   ]
  },
  {
   "cell_type": "code",
   "execution_count": 3,
   "id": "52f30ddd-edf2-4645-8c79-345f331a88ac",
   "metadata": {},
   "outputs": [],
   "source": [
    "spark = SparkSession\\\n",
    "        .builder\\\n",
    "        .appName(\"ethereum-sneha\")\\\n",
    "        .getOrCreate()"
   ]
  },
  {
   "cell_type": "code",
   "execution_count": 4,
   "id": "3126e724-b393-4299-80e2-a5b2c20e13bd",
   "metadata": {},
   "outputs": [],
   "source": [
    "def good_contract_line(line):\n",
    "    try:\n",
    "        fields = line.split(',')\n",
    "        # print(len(fields))\n",
    "        # print(fields[0])\n",
    "        if len(fields) != 5 or fields[0] == 'address':\n",
    "            return False\n",
    "        else:\n",
    "            return True\n",
    "        # int(feilds[6])\n",
    "        # return True\n",
    "    except:\n",
    "        return False\n",
    "\n",
    "\n",
    "def good_trans_line(line):\n",
    "    try:\n",
    "        fields = line.split(',')\n",
    "        # print(len(fields))\n",
    "        # print(fields[0])\n",
    "        if len(fields) != 7 or fields[0] == 'block_number':\n",
    "            return False\n",
    "        else:\n",
    "            return True\n",
    "        int(feilds[6])\n",
    "        # return True\n",
    "    except:\n",
    "        return False\n",
    "\n"
   ]
  },
  {
   "cell_type": "code",
   "execution_count": 5,
   "id": "5cf18556-6fb2-472e-83a0-241633401a9f",
   "metadata": {},
   "outputs": [],
   "source": [
    "contracts_file = spark.sparkContext.textFile(\"./contract.csv\")\n"
   ]
  },
  {
   "cell_type": "code",
   "execution_count": 6,
   "id": "690b5dbd-caef-467d-ae5c-e8830a10079b",
   "metadata": {},
   "outputs": [],
   "source": [
    "clean_contracts = contracts_file.filter(good_contract_line)"
   ]
  },
  {
   "cell_type": "code",
   "execution_count": 7,
   "id": "2513604e-86c1-44be-bb0d-b58b545c4b53",
   "metadata": {},
   "outputs": [],
   "source": [
    "contracts_address = clean_contracts.map(lambda x: (x.split(',')[0], 1))"
   ]
  },
  {
   "cell_type": "code",
   "execution_count": 8,
   "id": "41a991f7-a162-4686-895d-422ea5bf3332",
   "metadata": {},
   "outputs": [],
   "source": [
    "# transaction_file.collect()[:5]\n",
    "transaction_file = spark.sparkContext.textFile(\"./transactions.csv\")\n",
    "clean_transactions = transaction_file.filter(good_trans_line)\n"
   ]
  },
  {
   "cell_type": "code",
   "execution_count": 9,
   "id": "b2bce422-0582-45ac-8ac5-14bb827b07c7",
   "metadata": {},
   "outputs": [],
   "source": [
    "transactions_sent_ether_address = clean_transactions.map(lambda y: (y.split(',')[2], float(y.split(',')[3])))"
   ]
  },
  {
   "cell_type": "code",
   "execution_count": 10,
   "id": "c2a20384-1a53-4303-9ede-43d825b2430b",
   "metadata": {},
   "outputs": [],
   "source": [
    "transactions_to_address = transactions_sent_ether_address.reduceByKey(operator.add)"
   ]
  },
  {
   "cell_type": "code",
   "execution_count": 11,
   "id": "d450359f-8393-470e-b50e-1406abbc1680",
   "metadata": {},
   "outputs": [],
   "source": [
    "transaction_contracts_join = transactions_to_address.join(contracts_address)"
   ]
  },
  {
   "cell_type": "code",
   "execution_count": 12,
   "id": "a159c78f-28ee-4900-97e2-c52a2bfab7a9",
   "metadata": {},
   "outputs": [],
   "source": [
    "top_10_contracts = transaction_contracts_join.takeOrdered(10, key = lambda z: -z[1][0])\n"
   ]
  },
  {
   "cell_type": "code",
   "execution_count": 13,
   "id": "df8244cb-dfbf-492b-8013-a818738a2819",
   "metadata": {},
   "outputs": [
    {
     "data": {
      "text/plain": [
       "[('0x996035cae22cd90ae5e993d0832cfac4db239109', (4477970000000000.0, 1)),\n",
       " ('0xcd9a70f197238f0ee7045080368dc7d07502b353', (2100000000000000.0, 1))]"
      ]
     },
     "execution_count": 13,
     "metadata": {},
     "output_type": "execute_result"
    }
   ],
   "source": [
    "# for record in top_10_contracts:\n",
    "#     print(\"{}: {};{}\".format(record[0], record[1][0], record[1][1]))\n",
    "top_10_contracts"
   ]
  },
  {
   "cell_type": "code",
   "execution_count": 14,
   "id": "e02675c9-3bab-4c05-b954-ab297a39be0b",
   "metadata": {},
   "outputs": [
    {
     "data": {
      "text/plain": [
       "['2280135,0x44130614587f420c4019b7ae9fbf763982cdf2fe,0xe94b04a0fed112f3664e45adb2b8915693dd5ff3,1.00001816E+018,132650,20000000000,1474174806',\n",
       " '2280135,0x5af3fa46441acdc8048cff7b5c00b1fb89ffa752,0x5845b8f77109be22c93b4b75a3ad02283b7cc9d8,3.77792107478E+017,21000,20000000000,1474174806']"
      ]
     },
     "execution_count": 14,
     "metadata": {},
     "output_type": "execute_result"
    }
   ],
   "source": [
    "clean_transactions.collect()[:2]"
   ]
  },
  {
   "cell_type": "code",
   "execution_count": 15,
   "id": "e43d9ece-8956-4e64-8318-6bc85df4c421",
   "metadata": {},
   "outputs": [
    {
     "data": {
      "text/plain": [
       "['0x9a78bba29a2633b4b3162a28ce498c98daee5af8,false,false,8623545,2019-09-26 08:50:33 UTC',\n",
       " '0x85aa7fbc06e3f959aa358159db60e063171314db,false,false,8621323,2019-09-26 00:29:37 UTC']"
      ]
     },
     "execution_count": 15,
     "metadata": {},
     "output_type": "execute_result"
    }
   ],
   "source": [
    "clean_contracts.collect()[:2]"
   ]
  },
  {
   "cell_type": "code",
   "execution_count": 16,
   "id": "dcc53119-9dba-4ed7-8990-6614caf8d94e",
   "metadata": {},
   "outputs": [
    {
     "data": {
      "text/plain": [
       "[('0x9a78bba29a2633b4b3162a28ce498c98daee5af8', 1),\n",
       " ('0x85aa7fbc06e3f959aa358159db60e063171314db', 1)]"
      ]
     },
     "execution_count": 16,
     "metadata": {},
     "output_type": "execute_result"
    }
   ],
   "source": [
    "contracts_address.collect()[:2]"
   ]
  },
  {
   "cell_type": "code",
   "execution_count": 17,
   "id": "250f58ff-89d4-4776-b6f8-2402d2bd4534",
   "metadata": {},
   "outputs": [
    {
     "data": {
      "text/plain": [
       "[('0x8b3b35fd0bfdaba763174771b310839e542acd18', 1.0821151e+18),\n",
       " ('0x94f3a2d4bd7ae87ca889ff905303671b5999f1e9', 1.08119166e+18),\n",
       " ('0xd2408df325d776bd922808d975b36cd0cc469f26', 1.00170607593967e+18),\n",
       " ('0xfdc77b9cb732eb8c896b152e28294521f5f62e67', 0.0),\n",
       " ('0x5bc109a431bc1c9b654c33270350048fd26b789a', 1.07094254e+18)]"
      ]
     },
     "execution_count": 17,
     "metadata": {},
     "output_type": "execute_result"
    }
   ],
   "source": [
    "transactions_to_address.collect()[:5]"
   ]
  },
  {
   "cell_type": "code",
   "execution_count": 18,
   "id": "0dbfafae-61af-4828-88d0-7d84e2091133",
   "metadata": {},
   "outputs": [
    {
     "data": {
      "text/plain": [
       "[('0x996035cae22cd90ae5e993d0832cfac4db239109', (4477970000000000.0, 1)),\n",
       " ('0xcd9a70f197238f0ee7045080368dc7d07502b353', (2100000000000000.0, 1))]"
      ]
     },
     "execution_count": 18,
     "metadata": {},
     "output_type": "execute_result"
    }
   ],
   "source": [
    "transaction_contracts_join.collect()"
   ]
  },
  {
   "cell_type": "code",
   "execution_count": 19,
   "id": "aa99d107-ea97-4efe-a785-5cda7a4fea6f",
   "metadata": {},
   "outputs": [
    {
     "data": {
      "text/plain": [
       "[('0x996035cae22cd90ae5e993d0832cfac4db239109', (4477970000000000.0, 1)),\n",
       " ('0xcd9a70f197238f0ee7045080368dc7d07502b353', (2100000000000000.0, 1))]"
      ]
     },
     "execution_count": 19,
     "metadata": {},
     "output_type": "execute_result"
    }
   ],
   "source": [
    "top_10_contracts"
   ]
  },
  {
   "cell_type": "code",
   "execution_count": null,
   "id": "73cff210-4dd5-4922-a5f4-396b86d6555f",
   "metadata": {},
   "outputs": [],
   "source": []
  },
  {
   "cell_type": "code",
   "execution_count": null,
   "id": "5e1bcc05-5586-453c-b9bb-7ed2da3b621b",
   "metadata": {},
   "outputs": [],
   "source": []
  }
 ],
 "metadata": {
  "kernelspec": {
   "display_name": "Python 3 (ipykernel)",
   "language": "python",
   "name": "python3"
  },
  "language_info": {
   "codemirror_mode": {
    "name": "ipython",
    "version": 3
   },
   "file_extension": ".py",
   "mimetype": "text/x-python",
   "name": "python",
   "nbconvert_exporter": "python",
   "pygments_lexer": "ipython3",
   "version": "3.9.12"
  }
 },
 "nbformat": 4,
 "nbformat_minor": 5
}
