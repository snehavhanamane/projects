{
 "cells": [
  {
   "cell_type": "code",
   "execution_count": 1,
   "id": "e7217ee9-09e1-46cd-ad77-4bc8cc0f217e",
   "metadata": {},
   "outputs": [],
   "source": [
    "import sys, string\n",
    "import os\n",
    "import socket\n",
    "import time\n",
    "from time import gmtime, strftime\n",
    "import operator\n",
    "import boto3\n",
    "import json\n",
    "import findspark\n",
    "from pyspark.sql import SparkSession\n",
    "from datetime import datetime\n"
   ]
  },
  {
   "cell_type": "code",
   "execution_count": 2,
   "id": "f99f4a1b-ea39-41a8-a5bf-fb5d84ad4652",
   "metadata": {},
   "outputs": [],
   "source": [
    "findspark.init()"
   ]
  },
  {
   "cell_type": "code",
   "execution_count": 3,
   "id": "52f30ddd-edf2-4645-8c79-345f331a88ac",
   "metadata": {},
   "outputs": [],
   "source": [
    "spark = SparkSession\\\n",
    "        .builder\\\n",
    "        .appName(\"ethereum-sneha-C\")\\\n",
    "        .getOrCreate()"
   ]
  },
  {
   "cell_type": "code",
   "execution_count": 4,
   "id": "3126e724-b393-4299-80e2-a5b2c20e13bd",
   "metadata": {},
   "outputs": [],
   "source": [
    "def filter_transaction_line(line):\n",
    "    try:\n",
    "        fields = line.split(',')\n",
    "        if len(fields) != 7 or int(fields[3]) ==0 or fields[0] == 'block_number':\n",
    "            return False\n",
    "        else:\n",
    "            str(fields[2]) # convert to_address to string \n",
    "            float(fields[3]) # convert value to float\n",
    "            int(fields[6]) # convert timestamp to int\n",
    "            return True\n",
    "    except:\n",
    "        return False\n",
    "        \n",
    "def filter_scams_line(line):\n",
    "    try:\n",
    "        fields = line.split(',')\n",
    "        if len(fields) != 8 or fields[0] == 'id':\n",
    "            return False\n",
    "        else:\n",
    "            str(fields[4]) # convert scam category to string \n",
    "            str(fields[6]) # convert scam address to string \n",
    "            return True\n",
    "    except:\n",
    "        return False\n",
    "def mapper_transactions(line):\n",
    "    try:\n",
    "        fields = line.split(',')\n",
    "        to_addr = fields[2]\n",
    "        wei = int(fields[3])\n",
    "        raw_timestamp = int(fields[6])\n",
    "        year_month = time.strftime('%Y-%m', time.gmtime(raw_timestamp))\n",
    "\n",
    "        key = to_addr\n",
    "        value = ( year_month, wei, 1 )\n",
    "        return (key, value)\n",
    "    except:\n",
    "        pass\n",
    "\n",
    "        \n",
    "    \n"
   ]
  },
  {
   "cell_type": "code",
   "execution_count": 5,
   "id": "5cf18556-6fb2-472e-83a0-241633401a9f",
   "metadata": {},
   "outputs": [],
   "source": [
    "transactions_file = spark.sparkContext.textFile(\"./transactions.csv\").filter(filter_transaction_line)\n",
    "# calculate value received at each address in each month\n",
    "monthly_value_at_address = transactions_file.map(lambda x: ( x.split(',')[2], (strftime('%Y-%m', gmtime(int(x.split(',')[6]))), float(x.split(',')[3]), 1)))\n",
    "# monthly_value_at_address = transactions_file.map(mapper_transactions)\n"
   ]
  },
  {
   "cell_type": "code",
   "execution_count": 6,
   "id": "1d27b07f-1b2c-4a7e-877a-fb984aced638",
   "metadata": {},
   "outputs": [],
   "source": [
    "scams_file = spark.sparkContext.textFile(\"./scams.csv\").filter(filter_scams_line)\n",
    "# scam_addresses = scams_file.map(lambda x: (x.split(',')[6], x.split(',')[4]))\n",
    "scam_addresses = scams_file.map(lambda x: (x.split(',')[6], ( x.split(',')[0], x.split(',')[4])))"
   ]
  },
  {
   "cell_type": "code",
   "execution_count": 7,
   "id": "7061ad35-881b-489b-a3a5-8f25f0829062",
   "metadata": {},
   "outputs": [],
   "source": [
    "# Join Transactions and Scams\n",
    "transactions_scams_joined = monthly_value_at_address.join(scam_addresses)"
   ]
  },
  {
   "cell_type": "code",
   "execution_count": 8,
   "id": "e0f48e1c-85bd-4050-b045-0b93eb984f3d",
   "metadata": {},
   "outputs": [
    {
     "data": {
      "text/plain": [
       "[('0x8fb3a29cad1393852b8a88f6fb9e30ea8ac307cf',\n",
       "  (('2016-09', 6621260000000000.0, 1),\n",
       "   ('0x8fb3a29cad1393852b8a88f6fb9e30ea8ac307cf', 'Scamming')))]"
      ]
     },
     "execution_count": 8,
     "metadata": {},
     "output_type": "execute_result"
    }
   ],
   "source": [
    "transactions_scams_joined.collect()"
   ]
  },
  {
   "cell_type": "code",
   "execution_count": 9,
   "id": "5703dd5f-8c70-4d2e-9fde-ab9a83e8dd09",
   "metadata": {},
   "outputs": [],
   "source": [
    "# step3 = transactions_scams_joined.map(lambda x: ((x[1][1], x[1][0][0]), (x[1][0][1], x[1][0][2])))\n",
    "step3 = transactions_scams_joined.map(lambda x: ((x[1][1][0], x[1][1][1], x[1][0][0]), (x[1][0][1], x[1][0][2])))\n",
    "step4 = step3.reduceByKey(lambda a, b: (a[0]+b[0], a[1]+b[1]) )\n",
    "step5 = step4.map(lambda x: '{},{},{},{},{}'.format(x[0][0], x[0][1], float(x[1][0]/1000000000000000000), x[1][1], float(x[1][0]/1000000000000000000)/x[1][1]))"
   ]
  },
  {
   "cell_type": "code",
   "execution_count": 10,
   "id": "99ee65af-2fe0-47b8-9f78-2a97e1307c78",
   "metadata": {},
   "outputs": [
    {
     "data": {
      "text/plain": [
       "[('0x8fb3a29cad1393852b8a88f6fb9e30ea8ac307cf',\n",
       "  ('2016-09', 6621260000000000.0, 1)),\n",
       " ('0x5ade579853416fe093874dec1a511271d66f60b3',\n",
       "  ('2016-09', 2145019333590000.0, 1)),\n",
       " ('0xe3a1f697cca3403d3e351821fdbaa33326372d89',\n",
       "  ('2016-09', 2452260368565000.0, 1)),\n",
       " ('0x99e71413683a5d4bff6782caaa1750618a1a361e',\n",
       "  ('2016-09', 1000000000000000.0, 1)),\n",
       " ('0x99e71413683a5d4bff6782caaa1750618a1a361e',\n",
       "  ('2016-09', 1000000000000000.0, 1))]"
      ]
     },
     "execution_count": 10,
     "metadata": {},
     "output_type": "execute_result"
    }
   ],
   "source": [
    "monthly_value_at_address.collect()[:5]"
   ]
  },
  {
   "cell_type": "code",
   "execution_count": 11,
   "id": "0b76f533-0877-461d-aedb-bc9119710c06",
   "metadata": {},
   "outputs": [
    {
     "data": {
      "text/plain": [
       "[('0x00e01a648ff41346cdeb873182383333d2184dd1',\n",
       "  ('0x00e01a648ff41346cdeb873182383333d2184dd1', 'Phishing')),\n",
       " ('0x858457daa7e087ad74cdeeceab8419079bc2ca03',\n",
       "  ('0x858457daa7e087ad74cdeeceab8419079bc2ca03', 'Phishing')),\n",
       " ('0x4cdc1cba0aeb5539f2e0ba158281e67e0e54a9b1',\n",
       "  ('0x4cdc1cba0aeb5539f2e0ba158281e67e0e54a9b1', 'Phishing')),\n",
       " ('0x11c058c3efbf53939fb6872b09a2b5cf2410a1e2c3f3c867664e43a626d878c0',\n",
       "  ('0x11c058c3efbf53939fb6872b09a2b5cf2410a1e2c3f3c867664e43a626d878c0',\n",
       "   'Phishing')),\n",
       " ('0x2dfe2e0522cc1f050edcc7a05213bb55bbb36884ec9468fc39eccc013c65b5e4',\n",
       "  ('0x11c058c3efbf53939fb6872b09a2b5cf2410a1e2c3f3c867664e43a626d878c0',\n",
       "   'Phishing'))]"
      ]
     },
     "execution_count": 11,
     "metadata": {},
     "output_type": "execute_result"
    }
   ],
   "source": [
    "scam_addresses.collect()[:5]"
   ]
  },
  {
   "cell_type": "code",
   "execution_count": 12,
   "id": "c72e6a33-12aa-40cf-a3c7-d94b80200f0f",
   "metadata": {},
   "outputs": [
    {
     "data": {
      "text/plain": [
       "[('0x8fb3a29cad1393852b8a88f6fb9e30ea8ac307cf',\n",
       "  (('2016-09', 6621260000000000.0, 1),\n",
       "   ('0x8fb3a29cad1393852b8a88f6fb9e30ea8ac307cf', 'Scamming')))]"
      ]
     },
     "execution_count": 12,
     "metadata": {},
     "output_type": "execute_result"
    }
   ],
   "source": [
    "transactions_scams_joined.collect()"
   ]
  },
  {
   "cell_type": "code",
   "execution_count": 13,
   "id": "62b55c9e-67db-4c21-8e38-a1a210df61c7",
   "metadata": {},
   "outputs": [
    {
     "data": {
      "text/plain": [
       "['0x8fb3a29cad1393852b8a88f6fb9e30ea8ac307cf,Scamming,0.00662126,1,0.00662126']"
      ]
     },
     "execution_count": 13,
     "metadata": {},
     "output_type": "execute_result"
    }
   ],
   "source": [
    "step5.collect()"
   ]
  },
  {
   "cell_type": "code",
   "execution_count": null,
   "id": "1a757663-d2b0-4090-b828-45d178f8d243",
   "metadata": {},
   "outputs": [],
   "source": []
  }
 ],
 "metadata": {
  "kernelspec": {
   "display_name": "Python 3 (ipykernel)",
   "language": "python",
   "name": "python3"
  },
  "language_info": {
   "codemirror_mode": {
    "name": "ipython",
    "version": 3
   },
   "file_extension": ".py",
   "mimetype": "text/x-python",
   "name": "python",
   "nbconvert_exporter": "python",
   "pygments_lexer": "ipython3",
   "version": "3.9.12"
  }
 },
 "nbformat": 4,
 "nbformat_minor": 5
}
