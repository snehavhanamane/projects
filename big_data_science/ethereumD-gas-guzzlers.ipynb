{
 "cells": [
  {
   "cell_type": "code",
   "execution_count": 6,
   "id": "e7217ee9-09e1-46cd-ad77-4bc8cc0f217e",
   "metadata": {},
   "outputs": [],
   "source": [
    "import sys, string\n",
    "import os\n",
    "import socket\n",
    "import time\n",
    "from time import gmtime, strftime\n",
    "import operator\n",
    "import boto3\n",
    "import json\n",
    "import findspark\n",
    "from pyspark.sql import SparkSession\n",
    "from datetime import datetime\n"
   ]
  },
  {
   "cell_type": "code",
   "execution_count": 7,
   "id": "f99f4a1b-ea39-41a8-a5bf-fb5d84ad4652",
   "metadata": {},
   "outputs": [],
   "source": [
    "findspark.init()"
   ]
  },
  {
   "cell_type": "code",
   "execution_count": 8,
   "id": "52f30ddd-edf2-4645-8c79-345f331a88ac",
   "metadata": {},
   "outputs": [],
   "source": [
    "spark = SparkSession\\\n",
    "        .builder\\\n",
    "        .appName(\"ethereum-sneha-D\")\\\n",
    "        .getOrCreate()"
   ]
  },
  {
   "cell_type": "code",
   "execution_count": 9,
   "id": "3126e724-b393-4299-80e2-a5b2c20e13bd",
   "metadata": {},
   "outputs": [],
   "source": [
    "def filter_transaction_line(line):\n",
    "    try:\n",
    "        fields = line.split(',')\n",
    "        if len(fields) != 7 or fields[0] == 'block_number':\n",
    "            return False\n",
    "        else:\n",
    "            str(fields[2]) # convert to_address to string \n",
    "            int(fields[5]) # convert gas price to float\n",
    "            int(fields[6]) # convert timestamp to int\n",
    "            return True\n",
    "    except:\n",
    "        return False\n",
    "        \n",
    "\n",
    "\n",
    "    \n"
   ]
  },
  {
   "cell_type": "code",
   "execution_count": 12,
   "id": "5cf18556-6fb2-472e-83a0-241633401a9f",
   "metadata": {},
   "outputs": [],
   "source": [
    "transactions_file = spark.sparkContext.textFile(\"./transactions.csv\").filter(filter_transaction_line)\n",
    "# calculate value received at each address in each month\n",
    "weekly_gas_price_map = transactions_file.map(lambda x: (strftime('%Y-%m W%W', gmtime(int(x.split(',')[6]))), (int(x.split(',')[5]), 1)))"
   ]
  },
  {
   "cell_type": "code",
   "execution_count": 14,
   "id": "5d79af7f-9444-4de8-b594-670467aada83",
   "metadata": {},
   "outputs": [
    {
     "data": {
      "text/plain": [
       "[('2016-09 W37', (20000000000, 1)),\n",
       " ('2016-09 W37', (20000000000, 1)),\n",
       " ('2016-09 W37', (20000000000, 1)),\n",
       " ('2016-09 W37', (20000000000, 1)),\n",
       " ('2016-09 W37', (20000000000, 1))]"
      ]
     },
     "execution_count": 14,
     "metadata": {},
     "output_type": "execute_result"
    }
   ],
   "source": [
    "weekly_gas_price_map.collect()[:5]"
   ]
  },
  {
   "cell_type": "code",
   "execution_count": 23,
   "id": "38529a28-9a0c-4dee-890a-b578f44dc5cc",
   "metadata": {},
   "outputs": [],
   "source": [
    "weekly_gas_price_reduce = weekly_gas_price_map.reduceByKey(lambda a, b: (a[0]+b[0], a[1]+b[1]))\n",
    "# weekly_gas_price_reduce = weekly_gas_price_map.reduceByKey(lambda a, b: a+b)\n",
    "\n",
    "remap = weekly_gas_price_reduce.mapValues(lambda x: int(round(x[0]/x[1]/1000000000)) if x[1] > 0 else 0)\n",
    "# remap = weekly_gas_price_reduce.mapValues(lambda x: int(round(x[0]/x[1])) if x[1] > 0 else 0)\n",
    "\n",
    "sorted_weekly_gas_price = remap.sortByKey()"
   ]
  },
  {
   "cell_type": "code",
   "execution_count": 24,
   "id": "0b76f533-0877-461d-aedb-bc9119710c06",
   "metadata": {},
   "outputs": [
    {
     "data": {
      "text/plain": [
       "[('2016-09 W37', 23)]"
      ]
     },
     "execution_count": 24,
     "metadata": {},
     "output_type": "execute_result"
    }
   ],
   "source": [
    "sorted_weekly_gas_price.collect()"
   ]
  },
  {
   "cell_type": "code",
   "execution_count": null,
   "id": "1a757663-d2b0-4090-b828-45d178f8d243",
   "metadata": {},
   "outputs": [],
   "source": []
  }
 ],
 "metadata": {
  "kernelspec": {
   "display_name": "Python 3 (ipykernel)",
   "language": "python",
   "name": "python3"
  },
  "language_info": {
   "codemirror_mode": {
    "name": "ipython",
    "version": 3
   },
   "file_extension": ".py",
   "mimetype": "text/x-python",
   "name": "python",
   "nbconvert_exporter": "python",
   "pygments_lexer": "ipython3",
   "version": "3.9.12"
  }
 },
 "nbformat": 4,
 "nbformat_minor": 5
}
