{
 "cells": [
  {
   "cell_type": "code",
   "execution_count": 1,
   "id": "e7217ee9-09e1-46cd-ad77-4bc8cc0f217e",
   "metadata": {},
   "outputs": [],
   "source": [
    "import sys, string\n",
    "import os\n",
    "import socket\n",
    "import time\n",
    "from time import gmtime, strftime\n",
    "import operator\n",
    "import boto3\n",
    "import json\n",
    "import findspark\n",
    "from pyspark.sql import SparkSession\n",
    "from datetime import datetime\n"
   ]
  },
  {
   "cell_type": "code",
   "execution_count": 2,
   "id": "f99f4a1b-ea39-41a8-a5bf-fb5d84ad4652",
   "metadata": {},
   "outputs": [],
   "source": [
    "findspark.init()"
   ]
  },
  {
   "cell_type": "code",
   "execution_count": 3,
   "id": "52f30ddd-edf2-4645-8c79-345f331a88ac",
   "metadata": {},
   "outputs": [],
   "source": [
    "spark = SparkSession\\\n",
    "        .builder\\\n",
    "        .appName(\"ethereum-sneha\")\\\n",
    "        .getOrCreate()"
   ]
  },
  {
   "cell_type": "code",
   "execution_count": 4,
   "id": "3126e724-b393-4299-80e2-a5b2c20e13bd",
   "metadata": {},
   "outputs": [],
   "source": [
    "def good_trans_line(line):\n",
    "    try:\n",
    "        fields = line.split(',')\n",
    "        # print(len(fields))\n",
    "        # print(fields[0])\n",
    "        if len(fields) != 7 or fields[0] == 'block_number':\n",
    "            return False\n",
    "        else:\n",
    "            return True\n",
    "        int(feilds[6])\n",
    "        # return True\n",
    "    except:\n",
    "        return False\n",
    "\n",
    "# def good_trans_line(line):\n",
    "#     return True\n",
    "\n"
   ]
  },
  {
   "cell_type": "code",
   "execution_count": 5,
   "id": "5cf18556-6fb2-472e-83a0-241633401a9f",
   "metadata": {},
   "outputs": [],
   "source": [
    "transaction_file = spark.sparkContext.textFile(\"./transactions_mini.csv\")"
   ]
  },
  {
   "cell_type": "code",
   "execution_count": 6,
   "id": "41a991f7-a162-4686-895d-422ea5bf3332",
   "metadata": {},
   "outputs": [
    {
     "data": {
      "text/plain": [
       "['block_number,from_address,to_address,value,gas,gas_price,block_timestamp',\n",
       " '2280135,0x44130614587f420c4019b7ae9fbf763982cdf2fe,0xe94b04a0fed112f3664e45adb2b8915693dd5ff3,1.00E+18,132650,20000000000,1474174806',\n",
       " '2280135,0x5af3fa46441acdc8048cff7b5c00b1fb89ffa752,0x5845b8f77109be22c93b4b75a3ad02283b7cc9d8,3.78E+17,21000,20000000000,1474174806',\n",
       " '2280135,0x2a65aca4d5fc5b5c859090a6c34d164135398226,0x281dc96ac9d41102ffef09e1410ba4b58e6bb072,1.09E+18,90000,20000000000,1474174806',\n",
       " '2280135,0xac4361f56c82ed59d533d45129f407015d84702a,0x41f274c0023f83391de4e0733c609df5a124c3d4,0,1200000,20000000000,1474174806']"
      ]
     },
     "execution_count": 6,
     "metadata": {},
     "output_type": "execute_result"
    }
   ],
   "source": [
    "transaction_file.collect()[:5]"
   ]
  },
  {
   "cell_type": "code",
   "execution_count": 7,
   "id": "c2a20384-1a53-4303-9ede-43d825b2430b",
   "metadata": {},
   "outputs": [],
   "source": [
    "clean_transactions = transaction_file.filter(good_trans_line)"
   ]
  },
  {
   "cell_type": "code",
   "execution_count": 8,
   "id": "2789df35-166d-4bb6-b9c3-d4ea726c6025",
   "metadata": {},
   "outputs": [
    {
     "data": {
      "text/plain": [
       "['2280135,0x44130614587f420c4019b7ae9fbf763982cdf2fe,0xe94b04a0fed112f3664e45adb2b8915693dd5ff3,1.00E+18,132650,20000000000,1474174806',\n",
       " '2280135,0x5af3fa46441acdc8048cff7b5c00b1fb89ffa752,0x5845b8f77109be22c93b4b75a3ad02283b7cc9d8,3.78E+17,21000,20000000000,1474174806']"
      ]
     },
     "execution_count": 8,
     "metadata": {},
     "output_type": "execute_result"
    }
   ],
   "source": [
    "clean_transactions.collect()[:2]"
   ]
  },
  {
   "cell_type": "code",
   "execution_count": 9,
   "id": "14edb4d7-afa5-47f8-bdef-e49fe72b1a1a",
   "metadata": {},
   "outputs": [],
   "source": [
    "transaction = clean_transactions.map(lambda b: strftime(\"%Y-%m\", gmtime(int(b.split(',')[-1]))))"
   ]
  },
  {
   "cell_type": "code",
   "execution_count": 10,
   "id": "ca578603-fc40-42cb-a381-5b6d7184e440",
   "metadata": {},
   "outputs": [
    {
     "data": {
      "text/plain": [
       "['2016-09', '2016-09']"
      ]
     },
     "execution_count": 10,
     "metadata": {},
     "output_type": "execute_result"
    }
   ],
   "source": [
    "transaction.collect()[:2]"
   ]
  },
  {
   "cell_type": "code",
   "execution_count": 11,
   "id": "82d07057-7411-4d3c-b13b-db603c0e0155",
   "metadata": {},
   "outputs": [],
   "source": [
    "transactions_monthly= transaction.map(lambda month: (month, 1)).reduceByKey(lambda a, b: a+b)"
   ]
  },
  {
   "cell_type": "code",
   "execution_count": 12,
   "id": "45e7057c-4cdd-4105-a5df-35524d317a3d",
   "metadata": {},
   "outputs": [
    {
     "data": {
      "text/plain": [
       "[('2016-09', 1000)]"
      ]
     },
     "execution_count": 12,
     "metadata": {},
     "output_type": "execute_result"
    }
   ],
   "source": [
    "transactions_monthly.collect()"
   ]
  },
  {
   "cell_type": "code",
   "execution_count": 13,
   "id": "c3a6ead6-cc6b-47fe-9aa5-0a6cb7e037f7",
   "metadata": {},
   "outputs": [],
   "source": [
    "sorted_month_year= transactions_monthly.sortBy(lambda x: x[0])"
   ]
  },
  {
   "cell_type": "code",
   "execution_count": 14,
   "id": "b5325865-b688-4f01-9d0b-87a0a30d3d6c",
   "metadata": {},
   "outputs": [
    {
     "data": {
      "text/plain": [
       "[('2016-09', 1000)]"
      ]
     },
     "execution_count": 14,
     "metadata": {},
     "output_type": "execute_result"
    }
   ],
   "source": [
    "sorted_month_year.collect()"
   ]
  },
  {
   "cell_type": "code",
   "execution_count": 15,
   "id": "d8562318-9264-44b0-8fe2-8ae6cd7fdec4",
   "metadata": {},
   "outputs": [],
   "source": [
    "monthly_values = clean_transactions.map(lambda b: (time.strftime(\"%Y-%m\", time.gmtime(int(b.split(',')[-1]))), float(b.split(',')[3])))"
   ]
  },
  {
   "cell_type": "code",
   "execution_count": 16,
   "id": "d6abfb78-9394-4249-a333-0f9643df2821",
   "metadata": {},
   "outputs": [],
   "source": [
    "monthly_sum = monthly_values.aggregateByKey((0.0, 0), lambda accumulator, value: (accumulator[0]+ value, accumulator[1] + 1), lambda accumulator1, accumulator2: (accumulator1[0] + accumulator2[0], accumulator1[1] + accumulator2[1]))"
   ]
  },
  {
   "cell_type": "code",
   "execution_count": 17,
   "id": "970767de-d973-43f0-b877-21c319b9b348",
   "metadata": {},
   "outputs": [
    {
     "data": {
      "text/plain": [
       "[('2016-09', (9.047547928212606e+23, 1000))]"
      ]
     },
     "execution_count": 17,
     "metadata": {},
     "output_type": "execute_result"
    }
   ],
   "source": [
    "monthly_sum.collect()"
   ]
  },
  {
   "cell_type": "code",
   "execution_count": 18,
   "id": "6d72ded9-f50d-402a-a116-e1f04b5e73d0",
   "metadata": {},
   "outputs": [],
   "source": [
    "monthly_average = monthly_sum.mapValues(lambda x: round(x[0]/ x[1], 2))"
   ]
  },
  {
   "cell_type": "code",
   "execution_count": 19,
   "id": "cadbbe68-7d39-475e-abaa-3e03a2d2c39e",
   "metadata": {},
   "outputs": [
    {
     "data": {
      "text/plain": [
       "[('2016-09', 9.047547928212606e+20)]"
      ]
     },
     "execution_count": 19,
     "metadata": {},
     "output_type": "execute_result"
    }
   ],
   "source": [
    "monthly_average.collect()"
   ]
  },
  {
   "cell_type": "code",
   "execution_count": 20,
   "id": "8c3317f6-d08e-48a7-8925-f9c55e2bf2e9",
   "metadata": {},
   "outputs": [],
   "source": [
    "avg_sorted = monthly_average.sortByKey()"
   ]
  },
  {
   "cell_type": "code",
   "execution_count": 21,
   "id": "7b7f0adf-7673-4aaf-b5da-2ec9a0c9893a",
   "metadata": {},
   "outputs": [
    {
     "data": {
      "text/plain": [
       "[('2016-09', 9.047547928212606e+20)]"
      ]
     },
     "execution_count": 21,
     "metadata": {},
     "output_type": "execute_result"
    }
   ],
   "source": [
    "avg_sorted.collect()"
   ]
  },
  {
   "cell_type": "code",
   "execution_count": null,
   "id": "aa99d107-ea97-4efe-a785-5cda7a4fea6f",
   "metadata": {},
   "outputs": [],
   "source": []
  },
  {
   "cell_type": "code",
   "execution_count": null,
   "id": "73cff210-4dd5-4922-a5f4-396b86d6555f",
   "metadata": {},
   "outputs": [],
   "source": []
  }
 ],
 "metadata": {
  "kernelspec": {
   "display_name": "Python 3 (ipykernel)",
   "language": "python",
   "name": "python3"
  },
  "language_info": {
   "codemirror_mode": {
    "name": "ipython",
    "version": 3
   },
   "file_extension": ".py",
   "mimetype": "text/x-python",
   "name": "python",
   "nbconvert_exporter": "python",
   "pygments_lexer": "ipython3",
   "version": "3.9.12"
  }
 },
 "nbformat": 4,
 "nbformat_minor": 5
}
