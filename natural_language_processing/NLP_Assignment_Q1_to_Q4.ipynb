{
 "cells": [
  {
   "cell_type": "markdown",
   "metadata": {
    "id": "X_ESZjYCDFqN"
   },
   "source": [
    "# NLP Assignment 1 (40% of grade): Text classification for Fake News Detection\n",
    "\n",
    "This coursework will involve you implementing functions for a text classifier, which you will train to detect **fake news** in a corpus of approx. 10,000 statements, which will be split into a 80%/20% training/test split. \n",
    "\n",
    "In this template you are given the basis for that implementation, though some of the functions are missing, which you have to fill in.\n",
    "\n",
    "Follow the instructions file **NLP_Assignment_1_Instructions.pdf** for details of each question - the outline of what needs to be achieved for each question is as below.\n",
    "\n",
    "You must submit all **ipython notebooks and extra resources you need to run the code if you've added them** in the code submission, and a **2 page report (pdf)** in the report submission on QMPlus where you report your methods and findings according to the instructions file for each question."
   ]
  },
  {
   "cell_type": "code",
   "execution_count": 1,
   "metadata": {
    "colab": {
     "base_uri": "https://localhost:8080/"
    },
    "id": "U5VUCXShDFqZ",
    "outputId": "8c939bb7-1f6b-464c-b735-15a208aa8c93"
   },
   "outputs": [
    {
     "name": "stdout",
     "output_type": "stream",
     "text": [
      "Requirement already satisfied: nltk in c:\\users\\gadad\\anaconda3\\lib\\site-packages (3.7)\n",
      "Requirement already satisfied: joblib in c:\\users\\gadad\\anaconda3\\lib\\site-packages (from nltk) (1.1.0)\n",
      "Requirement already satisfied: regex>=2021.8.3 in c:\\users\\gadad\\anaconda3\\lib\\site-packages (from nltk) (2022.3.15)\n",
      "Requirement already satisfied: click in c:\\users\\gadad\\anaconda3\\lib\\site-packages (from nltk) (8.0.4)\n",
      "Requirement already satisfied: tqdm in c:\\users\\gadad\\anaconda3\\lib\\site-packages (from nltk) (4.64.0)\n",
      "Requirement already satisfied: colorama in c:\\users\\gadad\\anaconda3\\lib\\site-packages (from click->nltk) (0.4.4)\n"
     ]
    }
   ],
   "source": [
    "!pip install nltk"
   ]
  },
  {
   "cell_type": "code",
   "execution_count": 2,
   "metadata": {
    "colab": {
     "base_uri": "https://localhost:8080/"
    },
    "id": "UhUYZv-SDFqf",
    "outputId": "300c0514-1e87-4a49-976f-dc48a1902e50"
   },
   "outputs": [
    {
     "name": "stderr",
     "output_type": "stream",
     "text": [
      "[nltk_data] Downloading package punkt to\n",
      "[nltk_data]     C:\\Users\\gadad\\AppData\\Roaming\\nltk_data...\n",
      "[nltk_data]   Package punkt is already up-to-date!\n"
     ]
    }
   ],
   "source": [
    "import csv    # csv reader\n",
    "import nltk\n",
    "nltk.download('punkt')                         \n",
    "from sklearn.svm import LinearSVC\n",
    "from nltk.classify import SklearnClassifier\n",
    "from sklearn.pipeline import Pipeline\n",
    "from sklearn.metrics import precision_recall_fscore_support # to report on precision and recall\n",
    "import numpy as np\n",
    "from nltk.tokenize import word_tokenize\n",
    "from nltk.probability import FreqDist\n",
    "from sklearn import metrics\n"
   ]
  },
  {
   "cell_type": "code",
   "execution_count": 3,
   "metadata": {
    "id": "L_Bw6-rSDFqg"
   },
   "outputs": [],
   "source": [
    "def load_data(path):\n",
    "    \"\"\"Load data from a tab-separated file and append it to raw_data.\"\"\"\n",
    "    # mentioning encoding =\"utf-8\" to avoid python compatiblity error\n",
    "    with open(path) as f:\n",
    "        reader = csv.reader(f, delimiter='\\t')\n",
    "        for line in reader:\n",
    "            if line[0] == \"Id\":  # skip header\n",
    "                continue\n",
    "            (label, text) = parse_data_line(line)\n",
    "            raw_data.append((text, label))\n",
    "\n",
    "def split_and_preprocess_data(percentage):\n",
    "\n",
    "    \"\"\"Split the data between train_data and test_data according to the percentage\n",
    "    and performs the preprocessing.\"\"\"\n",
    "    num_samples = len(raw_data)\n",
    "    num_training_samples = int((percentage * num_samples))\n",
    "    for (text, label) in raw_data[:num_training_samples]:\n",
    "        train_data.append((to_feature_vector(pre_process(text)),label))\n",
    "    for (text, label) in raw_data[num_training_samples:]:\n",
    "        test_data.append((to_feature_vector(pre_process(text)),label))"
   ]
  },
  {
   "cell_type": "markdown",
   "metadata": {
    "id": "fG27YWj-DFqj"
   },
   "source": [
    "# Question 1: Input and Basic preprocessing (10 marks)"
   ]
  },
  {
   "cell_type": "code",
   "execution_count": 4,
   "metadata": {
    "id": "vMmIuQWUDFqk"
   },
   "outputs": [],
   "source": [
    "def convert_label(label):\n",
    "    \"\"\"Converts the multiple classes into two,\n",
    "    making it a binary distinction between fake news and real.\"\"\"\n",
    "    #return label\n",
    "    # Converting the multiclass labels to binary label\n",
    "    labels_map = {\n",
    "        'true': 'REAL',\n",
    "        'mostly-true': 'REAL',\n",
    "        'half-true': 'REAL',\n",
    "        'false': 'FAKE',\n",
    "        'barely-true': 'FAKE',\n",
    "        'pants-fire': 'FAKE'\n",
    "    }\n",
    "    return labels_map[label]\n",
    "\n",
    "\n",
    "def parse_data_line(data_line):\n",
    "    # Should return a tuple of the label as just FAKE or REAL and the statement\n",
    "    # e.g. (label, statement)\n",
    "    #Answer: Assigning statement equal to 3rd column and label equal to 2nd column from the data\n",
    "    statement=data_line[2]\n",
    "    label=data_line[1]\n",
    "    #Converting the 6 types of labels into two ie. \"Real\" and \"Fake\"\n",
    "    label=convert_label(label)\n",
    "    return (label, statement)"
   ]
  },
  {
   "cell_type": "code",
   "execution_count": 5,
   "metadata": {
    "id": "Phm6eDlhDFqn"
   },
   "outputs": [],
   "source": [
    "\n",
    "# Input: a string of one statement\n",
    "def pre_process(text):\n",
    "    # Should return a list of tokens\n",
    "    # DESCRIBE YOUR METHOD IN WORDS\n",
    "    #Answer: we are using word_tokenize method from nltk.tokenize to return a list of tokens\n",
    "    return word_tokenize(text)\n"
   ]
  },
  {
   "cell_type": "markdown",
   "metadata": {
    "id": "0adM190ODFqo"
   },
   "source": [
    "# Question 2: Basic Feature Extraction (20 marks)"
   ]
  },
  {
   "cell_type": "code",
   "execution_count": 6,
   "metadata": {
    "id": "srC3UCDHDFqp"
   },
   "outputs": [],
   "source": [
    "global_feature_dict = {} # A global dictionary of features\n",
    "\n",
    "def to_feature_vector(tokens):\n",
    "    # Should return a dictionary containing features as keys, and weights as values\n",
    "    # feature_vector is a dictionary which has words as its keys. Values for these keys are weights. Weights are defined as number of occurrences of a word.\n",
    "    # Here, FreqDist method from nltk is used to get feature_vector dictionary. \n",
    "    frequency_dict = dict(FreqDist(tokens))\n",
    "    # Keeping weight to be simply 1 for each word\n",
    "    feature_vector = {}\n",
    "    for key in  list(frequency_dict.keys()):\n",
    "        feature_vector[key] = 1\n",
    "    # features is defined as the list. global_feature_dict contains keys as words and values as weights. We are making a list of only keys from global_feature_dict. \n",
    "    #In following code we are building  global_feature_dict incremently. Where, if word is already present in global_feature_dict then only weights are updated \n",
    "    # else keys and weights are updated.\n",
    "    features= list(global_feature_dict.keys())\n",
    "    for feature in list(feature_vector.keys()):\n",
    "        if feature in features:\n",
    "            global_feature_dict[feature] = global_feature_dict[feature] + feature_vector[feature]\n",
    "        else:\n",
    "            global_feature_dict[feature] = feature_vector[feature]\n",
    "    return feature_vector"
   ]
  },
  {
   "cell_type": "code",
   "execution_count": 7,
   "metadata": {
    "id": "vnp4v_EhDFqq"
   },
   "outputs": [],
   "source": [
    "# TRAINING AND VALIDATING OUR CLASSIFIER\n",
    "\n",
    "def train_classifier(data):\n",
    "    print(\"Training Classifier...\")\n",
    "    pipeline =  Pipeline([('svc', LinearSVC())])\n",
    "    return SklearnClassifier(pipeline).train(data)"
   ]
  },
  {
   "cell_type": "markdown",
   "metadata": {
    "id": "27_euxb1DFqs"
   },
   "source": [
    "# Question 3: Cross-validation (20 marks)"
   ]
  },
  {
   "cell_type": "code",
   "execution_count": 8,
   "metadata": {
    "id": "ljfvsYD1DFqt"
   },
   "outputs": [],
   "source": [
    "from nltk.metrics.scores import precision\n",
    "#solution\n",
    "from sklearn.metrics import classification_report\n",
    "\n",
    "\n",
    "def cross_validate(dataset, folds):\n",
    "    results = []\n",
    "    fold_size = int(len(dataset)/folds) + 1\n",
    "    \n",
    "    \n",
    "    for i in range(0,len(dataset),int(fold_size)):\n",
    "        # insert code here that trains and tests on the 10 folds of data in the dataset\n",
    "        #printing the fold start and end per fold\n",
    "        print(\"Fold start on items %d - %d\" % (i, i+fold_size))\n",
    "        #defining the labeled_featuresets which contains features and labels as tuples\n",
    "        labeled_featuresets = []\n",
    "        # for loop to accomodate all samples in last fold\n",
    "        \n",
    "        for train_ix in [ x for x in list(range(len(dataset))) if x not in list(range(i, min(len(dataset),i+fold_size+1),1))]:\n",
    "            labeled_featuresets.append(dataset[train_ix])\n",
    "        #defining the featuresets_val which is validation feature sets\n",
    "        featuresets_val = []\n",
    "        #defining the labelsets_val which is validation label sets\n",
    "        labelsets_val = []\n",
    "        #for loop to obtain validation feature and labels \n",
    "        for val_ix in [x for x in list(range(i, min(len(dataset),i+fold_size+1),1))]:\n",
    "            (features,labels) = dataset[val_ix]\n",
    "            featuresets_val.append(features)\n",
    "            labelsets_val.append(labels) \n",
    "        # Training classifier on labeled feature sets\n",
    "        classifier = train_classifier(labeled_featuresets)\n",
    "        # Predicting on validation features using classifier \n",
    "        predictionsets = predict_labels(featuresets_val, classifier)\n",
    "        #computing precision ,recall, F score for this fold and appending to the results\n",
    "        \n",
    "        final_scores = precision_recall_fscore_support(labelsets_val, predictionsets, average='weighted') # evaluate\n",
    "        results.append(final_scores)\n",
    "        # computing accuracy for this fold\n",
    "        accuracy= metrics.accuracy_score(labelsets_val, predictionsets)\n",
    "        \n",
    "    # taking mean of precision, recall, F score, and accuracy\n",
    "    precisions = [x[0] for x in results]\n",
    "    recalls = [x[1] for x in results]\n",
    "    Fscores = [x[0] for x in results]\n",
    "    accuracies = accuracy\n",
    "    cv_results = [np.mean(precisions), np.mean(recalls), np.mean(Fscores), np.mean(accuracies)]\n",
    "    return cv_results"
   ]
  },
  {
   "cell_type": "code",
   "execution_count": null,
   "metadata": {
    "id": "OS_nAxtfHU6J"
   },
   "outputs": [],
   "source": []
  },
  {
   "cell_type": "code",
   "execution_count": 9,
   "metadata": {
    "id": "PUsSZyl0DFqu"
   },
   "outputs": [],
   "source": [
    "# PREDICTING LABELS GIVEN A CLASSIFIER\n",
    "\n",
    "def predict_labels(samples, classifier):\n",
    "    \"\"\"Assuming preprocessed samples, return their predicted labels from the classifier model.\"\"\"\n",
    "    return classifier.classify_many(samples)\n",
    "\n",
    "def predict_label_from_raw(sample, classifier):\n",
    "    \"\"\"Assuming raw text, return its predicted label from the classifier model.\"\"\"\n",
    "    return classifier.classify(to_feature_vector(preProcess(reviewSample)))"
   ]
  },
  {
   "cell_type": "code",
   "execution_count": 10,
   "metadata": {
    "colab": {
     "base_uri": "https://localhost:8080/"
    },
    "id": "khU_m3E1DFqv",
    "outputId": "e077dabc-6159-4f58-aa4e-29c579b03885"
   },
   "outputs": [
    {
     "name": "stdout",
     "output_type": "stream",
     "text": [
      "Now 0 rawData, 0 trainData, 0 testData\n",
      "Preparing the dataset...\n",
      "Now 10241 rawData, 0 trainData, 0 testData\n",
      "Preparing training and test data...\n",
      "After split, 10241 rawData, 8192 trainData, 2049 testData\n",
      "Training Samples: \n",
      "8192\n",
      "Features: \n",
      "15094\n"
     ]
    }
   ],
   "source": [
    "# MAIN\n",
    "\n",
    "# loading reviews\n",
    "# initialize global lists that will be appended to by the methods below\n",
    "raw_data = []          # the filtered data from the dataset file\n",
    "train_data = []        # the pre-processed training data as a percentage of the total dataset\n",
    "test_data = []         # the pre-processed test data as a percentage of the total dataset\n",
    "\n",
    "\n",
    "# references to the data files\n",
    "data_file_path = 'fake_news.tsv'\n",
    "\n",
    "# Do the actual stuff (i.e. call the functions we've made)\n",
    "# We parse the dataset and put it in a raw data list\n",
    "print(\"Now %d rawData, %d trainData, %d testData\" % (len(raw_data), len(train_data), len(test_data)),\n",
    "      \"Preparing the dataset...\",sep='\\n')\n",
    "\n",
    "load_data(data_file_path) \n",
    "# We split the raw dataset into a set of training data and a set of test data (80/20)\n",
    "# You do the cross validation on the 80% (training data)\n",
    "# We print the number of training samples and the number of features before the split\n",
    "print(\"Now %d rawData, %d trainData, %d testData\" % (len(raw_data), len(train_data), len(test_data)),\n",
    "      \"Preparing training and test data...\",sep='\\n')\n",
    "\n",
    "split_and_preprocess_data(0.8)\n",
    "\n",
    "# We print the number of training samples and the number of features after the split\n",
    "print(\"After split, %d rawData, %d trainData, %d testData\" % (len(raw_data), len(train_data), len(test_data)),\n",
    "      \"Training Samples: \", len(train_data), \"Features: \", len(global_feature_dict), sep='\\n')\n"
   ]
  },
  {
   "cell_type": "code",
   "execution_count": 11,
   "metadata": {
    "colab": {
     "base_uri": "https://localhost:8080/"
    },
    "id": "6LY75Tk6DFqw",
    "outputId": "bc0319de-d132-47f4-d109-ec2831b55946"
   },
   "outputs": [
    {
     "name": "stdout",
     "output_type": "stream",
     "text": [
      "Fold start on items 0 - 820\n",
      "Training Classifier...\n",
      "Fold start on items 820 - 1640\n",
      "Training Classifier...\n",
      "Fold start on items 1640 - 2460\n",
      "Training Classifier...\n",
      "Fold start on items 2460 - 3280\n",
      "Training Classifier...\n",
      "Fold start on items 3280 - 4100\n",
      "Training Classifier...\n",
      "Fold start on items 4100 - 4920\n",
      "Training Classifier...\n",
      "Fold start on items 4920 - 5740\n",
      "Training Classifier...\n",
      "Fold start on items 5740 - 6560\n",
      "Training Classifier...\n",
      "Fold start on items 6560 - 7380\n",
      "Training Classifier...\n",
      "Fold start on items 7380 - 8200\n",
      "Training Classifier...\n"
     ]
    },
    {
     "data": {
      "text/plain": [
       "[0.5654557290919816,\n",
       " 0.5650937820632054,\n",
       " 0.5654557290919816,\n",
       " 0.6022167487684729]"
      ]
     },
     "execution_count": 11,
     "metadata": {},
     "output_type": "execute_result"
    }
   ],
   "source": [
    "cross_validate(train_data, 10)  # will work and output overall performance of p, r, f-score when cv implemented"
   ]
  },
  {
   "cell_type": "markdown",
   "metadata": {
    "id": "fwUIw52hDFqy"
   },
   "source": [
    "# 4. Error Analysis (10 marks)"
   ]
  },
  {
   "cell_type": "code",
   "execution_count": 12,
   "metadata": {
    "id": "lhZ0_hPQDFqy"
   },
   "outputs": [],
   "source": [
    "from sklearn import metrics\n",
    "import matplotlib.pyplot as plt\n",
    "# a function to make the confusion matrix readable and pretty\n",
    "def confusion_matrix_heatmap(y_test, preds, labels):\n",
    "    \"\"\"Function to plot a confusion matrix\"\"\"\n",
    "    # pass labels to the confusion matrix function to ensure right order\n",
    "    cm = metrics.confusion_matrix(y_test, preds, labels=labels)\n",
    "    fig = plt.figure(figsize=(10,10))\n",
    "    ax = fig.add_subplot(111)\n",
    "    cax = ax.matshow(cm)\n",
    "    plt.title('Confusion matrix of the classifier')\n",
    "    fig.colorbar(cax)\n",
    "    ax.set_xticks(np.arange(len(labels)))\n",
    "    ax.set_yticks(np.arange(len(labels)))\n",
    "    ax.set_xticklabels( labels, rotation=45)\n",
    "    ax.set_yticklabels( labels)\n",
    "\n",
    "    for i in range(len(cm)):\n",
    "        for j in range(len(cm)):\n",
    "            text = ax.text(j, i, cm[i, j],\n",
    "                           ha=\"center\", va=\"center\", color=\"w\")\n",
    "\n",
    "    plt.xlabel('Predicted')\n",
    "    plt.ylabel('True')\n",
    "    \n",
    "    # fix for mpl bug that cuts off top/bottom of seaborn viz:\n",
    "    b, t = plt.ylim() # discover the values for bottom and top\n",
    "    b += 0.5 # Add 0.5 to the bottom\n",
    "    t -= 0.5 # Subtract 0.5 from the top\n",
    "    plt.ylim(b, t) # update the ylim(bottom, top) values\n",
    "    plt.show() # ta-da!\n",
    "    plt.show()"
   ]
  },
  {
   "cell_type": "code",
   "execution_count": 13,
   "metadata": {
    "colab": {
     "base_uri": "https://localhost:8080/"
    },
    "id": "SJuDkW3LqXLY",
    "outputId": "b2e548fa-80ba-4dd2-889a-21531c1d6897"
   },
   "outputs": [
    {
     "name": "stdout",
     "output_type": "stream",
     "text": [
      "Training Classifier...\n"
     ]
    }
   ],
   "source": [
    "# error analysis on first fold\n",
    "classifier = train_classifier(train_data[820:])\n",
    "featuresets_val = []\n",
    "labelsets_val = []\n",
    "for val_ix in [x for x in list(range(0,820,1))]:\n",
    "    (features,labels) = train_data[val_ix]\n",
    "    featuresets_val.append(features)\n",
    "    labelsets_val.append(labels)\n",
    "predictionsets = predict_labels(featuresets_val, classifier)"
   ]
  },
  {
   "cell_type": "code",
   "execution_count": 14,
   "metadata": {
    "colab": {
     "base_uri": "https://localhost:8080/",
     "height": 632
    },
    "id": "QtcjGaHUrlIH",
    "outputId": "f75f4eaa-a13e-43bf-c169-40aa5b76ec54"
   },
   "outputs": [
    {
     "data": {
      "image/png": "[encoded data removed]",
      "text/plain": [
       "<Figure size 720x720 with 2 Axes>"
      ]
     },
     "metadata": {
      "needs_background": "light"
     },
     "output_type": "display_data"
    }
   ],
   "source": [
    "#plotting confusion matrix heat map\n",
    "confusion_matrix_heatmap(labelsets_val, predictionsets, labels=['FAKE', 'REAL'])"
   ]
  },
  {
   "cell_type": "code",
   "execution_count": 15,
   "metadata": {
    "colab": {
     "base_uri": "https://localhost:8080/"
    },
    "id": "EECFWtL0tVZ3",
    "outputId": "f9ac5d81-64ac-445d-fdda-b76122a9d84e"
   },
   "outputs": [
    {
     "name": "stdout",
     "output_type": "stream",
     "text": [
      "Sentence:Jim Dunnam has not lived in the district he represents for years now. Ground Truth :FAKE Predicted:REAL\n",
      "Sentence:Says GOP primary opponents Glenn Grothman and Joe Leibham cast a compromise vote that cost $788 million in higher electricity costs. Ground Truth :REAL Predicted:FAKE\n",
      "Sentence:When Mitt Romney was governor of Massachusetts, we didnt just slow the rate of growth of our government, we actually cut it. Ground Truth :FAKE Predicted:REAL\n",
      "Sentence:Most of the (Affordable Care Act) has already in some sense been waived or otherwise suspended. Ground Truth :FAKE Predicted:REAL\n",
      "Sentence:Women and men both are making less when you adjust for inflation than when John Kitzhaber was first elected governor. Ground Truth :FAKE Predicted:REAL\n",
      "Sentence:We just had the best year for the auto industry in America in history. Ground Truth :REAL Predicted:FAKE\n",
      "Sentence:Says Scott Walker favors cutting up to 350,000 families and children off health care. Ground Truth :REAL Predicted:FAKE\n",
      "Sentence:Says Mitt Romney wants to get rid of Planned Parenthood. Ground Truth :FAKE Predicted:REAL\n",
      "Sentence:Hate crimes against American Muslims and mosques have tripled after Paris and San Bernardino. Ground Truth :REAL Predicted:FAKE\n",
      "Sentence:Says Paul Ryan is still endorsing Trump. Ground Truth :REAL Predicted:FAKE\n",
      "Sentence:If you look at states that are right to work, they constantly do not have budget deficits and they have very good business climates. Ground Truth :FAKE Predicted:REAL\n",
      "Sentence:What (the Obama administration is) going to come out with in the next several months is youre not even going to be able to burn coal very limitedly in the existing plants. Ground Truth :FAKE Predicted:REAL\n",
      "Sentence:Says Mark Pryor votes with Obama 93 percent of the time. Ground Truth :REAL Predicted:FAKE\n",
      "Sentence:The nuclear test conducted in our nation this time is the Earth's 2,054th nuclear test. The five permanent members of the U.N. Security Council have conducted 99.99 percent of the total nuclear tests. Ground Truth :REAL Predicted:FAKE\n",
      "Sentence:In the case of a catastrophic event, the Atlanta-area offices of the Centers for Disease Control and Prevention will self-destruct. Ground Truth :FAKE Predicted:REAL\n",
      "Sentence:Under President George W. Bush, we added $4.9 trillion to the debt. Under President Obama weve added $6.5 trillion to the debt. Ground Truth :REAL Predicted:FAKE\n",
      "Sentence:Says a U.S. Supreme Court justice suggested that some U.S. cases will be decided based on South African law. Ground Truth :FAKE Predicted:REAL\n",
      "Sentence:Says Marco Rubio skipped 18 defense votes including one to arm the Kurds to fight ISIS. Ground Truth :REAL Predicted:FAKE\n",
      "Sentence:Says Ohio budget item later signed into law by Gov. John Kasich requires women seeking an abortion to undergo a mandatory vaginal probe. Ground Truth :FAKE Predicted:REAL\n",
      "Sentence:African-American youth unemployment is 51 percent. Hispanic youth unemployment is 36 percent. Ground Truth :REAL Predicted:FAKE\n",
      "Sentence:Obamacare will provide insurance to all non-U.S. residents, even if they are here illegally. Ground Truth :FAKE Predicted:REAL\n",
      "Sentence:We have towns in West Texas that are out of water, that are having to truck in water. Ground Truth :FAKE Predicted:REAL\n",
      "Sentence:A federal system that verifies employees are authorized to work in the U.S. is inaccurate anywhere from 50 percent all the way up to in excess of 80 percent of the time. Ground Truth :REAL Predicted:FAKE\n",
      "Sentence:They were going to build the wall a while ago, not so long ago, like in 06. And they couldnt get environmental impact statements. Ground Truth :FAKE Predicted:REAL\n",
      "Sentence:Sen. Obama's campaign announced that he's choosing his cabinet. Ground Truth :FAKE Predicted:REAL\n",
      "Sentence:Only 2 percent of public high schools in the country offer PE classes. Ground Truth :FAKE Predicted:REAL\n",
      "Sentence:On military recruiters at Harvard, Elena Kagan \"took a position and the Supreme Court ruled unanimously that she was wrong.\" Ground Truth :REAL Predicted:FAKE\n",
      "Sentence:There are 321,092 public school teachers in Texas. And there are 313,850 non-teachers in our public schools. Ground Truth :REAL Predicted:FAKE\n",
      "Sentence:Transgender individuals in the U.S. have a 1-in-12 chance of being murdered. Ground Truth :FAKE Predicted:REAL\n",
      "Sentence:Says the man who rushed the stage at him in Dayton, Ohio, had chatter about ISIS, or with ISIS in his social media posts. Ground Truth :FAKE Predicted:REAL\n",
      "Sentence:U.S. Rep. Phil Gingrey gave the government the power to electronically spy on Americans without a warrant. Ground Truth :FAKE Predicted:REAL\n",
      "Sentence:The new Arizona immigration law \"says that any police officer can stop anyone who appears to them to be reasonably suspicious of being an undocumented person.\" Ground Truth :REAL Predicted:FAKE\n",
      "Sentence:Says one out of three U.S. homeless men is a veteran. Ground Truth :FAKE Predicted:REAL\n",
      "Sentence:In the past 20 years, Egypt has made great strides in political and democratic reform. Ground Truth :FAKE Predicted:REAL\n",
      "Sentence:The amount of attention paid this week to Chris Christie makes the coverage of Benghazi ... pale in significance. Ground Truth :FAKE Predicted:REAL\n",
      "Sentence:Says U.S. Rep. Steve Southerland voted to keep the shutdown going. Ground Truth :REAL Predicted:FAKE\n",
      "Sentence:There is a federal criminal law that says its a crime to transport dentures across state lines. Ground Truth :REAL Predicted:FAKE\n",
      "Sentence:Austin is burdened by the fastest-growing tax increases of any major city in the nation. Ground Truth :FAKE Predicted:REAL\n",
      "Sentence:Phoenix, Arizona, is the No. 2 kidnapping capital of the world. Ground Truth :FAKE Predicted:REAL\n",
      "Sentence:I belong to the AFL-CIO. Ground Truth :REAL Predicted:FAKE\n",
      "Sentence:The insurance commissioner cant do squat about health care. Ground Truth :REAL Predicted:FAKE\n",
      "Sentence:Says David Jolly supports privatizing Social Security. Ground Truth :FAKE Predicted:REAL\n",
      "Sentence:The Florida Department of Agricultures website FreshFromFlorida.com can be used to get a permit to carry a loaded hidden gun without ever leaving your house. Ground Truth :FAKE Predicted:REAL\n",
      "Sentence:The Atlanta streetcar is expected to create 930 jobs during construction, totaling more than 5,600 jobs over the next 20 years. Ground Truth :FAKE Predicted:REAL\n",
      "Sentence:NATO is opening up a major terror division. ... Im sure Im not going to get credit for it, but that was largely because of what I was saying and my criticism of NATO. Ground Truth :FAKE Predicted:REAL\n",
      "Sentence:Since Gina Raimondo took office, investment fees on the states pension portfolio have gone up from about $12 million annually to about $50 million. Ground Truth :REAL Predicted:FAKE\n",
      "Sentence:Under President Obamas health-care reforms, the premium for an average plan for a family didnt go down by $2,500 per year, its gone up about $2,500 per year. Ground Truth :REAL Predicted:FAKE\n",
      "Sentence:The IRS also investigated liberal groups, groups that had progressive in their name. ... The IRS was basically looking at everybody. Ground Truth :REAL Predicted:FAKE\n",
      "Sentence:President Obama decided not to meet with Prime Minister Benjamin Netanyahu in New York. Ground Truth :REAL Predicted:FAKE\n",
      "Sentence:Rudy Giuliani is \"probably the most underqualified man since George Bush to seek the presidency.\" Ground Truth :FAKE Predicted:REAL\n",
      "Sentence:About half of the presidents have been governors; half of them, senators. Ground Truth :FAKE Predicted:REAL\n",
      "Sentence:You had more women getting computer sciences degrees in the 80s by a factor of 2-plus than you do now. Ground Truth :REAL Predicted:FAKE\n",
      "Sentence:The Air Force wants taxpayers to fund a fantasy football league. Ground Truth :FAKE Predicted:REAL\n",
      "Sentence:Barack Hussein Obama will ... force courts to accept Islamic Sharia law in domestic disputes. Ground Truth :FAKE Predicted:REAL\n",
      "Sentence:Some neighborhood schools are closing. Ground Truth :REAL Predicted:FAKE\n",
      "Sentence:He told gay organizers in Massachusetts he would be a stronger advocate for special rights than even Ted Kennedy. Ground Truth :REAL Predicted:FAKE\n",
      "Sentence:The years that I was speaker, the Florida House consistently offered leaner budgets than the governor offered. Ground Truth :REAL Predicted:FAKE\n",
      "Sentence:We are already almost halfway to our 2010 goal of creating 700,000 new jobs in seven years. Ground Truth :FAKE Predicted:REAL\n",
      "Sentence:Says the U.S. Supreme Court found that Social Security is not guaranteed. Ground Truth :REAL Predicted:FAKE\n",
      "Sentence:SaysMichael Bennet wants to close Guantanamo Bay prisonand bring terrorists right here to Colorado. Ground Truth :FAKE Predicted:REAL\n",
      "Sentence:Oregonians have an amazing no-cost way to fight abortion with free political donations Ground Truth :REAL Predicted:FAKE\n",
      "Sentence:The president said hes going to bring in 250,000 (Syrian and Iraqi) refugees into this country. Ground Truth :FAKE Predicted:REAL\n",
      "Sentence:Research shows that a vast majority of arriving immigrants today come here because they believe that government is the source of prosperity, and thats what they support. Ground Truth :FAKE Predicted:REAL\n",
      "Sentence:Mr. Caprio is a career politician who has never worked in the private sector. Ground Truth :FAKE Predicted:REAL\n",
      "Sentence:In Rhode Island, 9 percent of workers use the states temporary disability insurance program each year while in New Jersey, the rate is only 3 percent. Ground Truth :FAKE Predicted:REAL\n",
      "Sentence:In just 17 years, spending for Social Security, federal health care and interest on the debt will exceed ALL tax revenue! Ground Truth :REAL Predicted:FAKE\n",
      "Sentence:President Obama took more money from Wall Street in the 2008 campaign than anybody ever had. Ground Truth :REAL Predicted:FAKE\n",
      "Sentence:Says the Arizona immigration law expressly bans racial profiling. Ground Truth :REAL Predicted:FAKE\n",
      "Sentence:Im the only one whos fought against developers draining the Everglades! Ground Truth :FAKE Predicted:REAL\n",
      "Sentence:Says Ron Johnson calls Social Security a Ponzi scheme and wants to privatize the program. Ground Truth :REAL Predicted:FAKE\n",
      "Sentence:Says the Obama administration spent taxpayer dollars on electric cars in Finland (and) windmills in China. Ground Truth :FAKE Predicted:REAL\n",
      "Sentence:We have more illegal immigrants here than we did five years ago. Ground Truth :FAKE Predicted:REAL\n",
      "Sentence:There are already more American jobs in the solar industry than in coal mining. Ground Truth :REAL Predicted:FAKE\n",
      "Sentence:Barack Obama is in an economy thats only worsened since hes been president of the United States. Ground Truth :REAL Predicted:FAKE\n",
      "Sentence:We have been in Afghanistan longer now than we have been in any foreign land conducting a war in our nations history. Ground Truth :REAL Predicted:FAKE\n",
      "Sentence:Gas prices have gone up $2 since Obama took office. Ground Truth :REAL Predicted:FAKE\n",
      "Sentence:Webster sponsored a bill to create a form of marriage that would trap women in abusive relationships. Ground Truth :REAL Predicted:FAKE\n",
      "Sentence:There are a lot of casinos across the country that have gone bankrupt. Ground Truth :REAL Predicted:FAKE\n",
      "Sentence:Seniors with coverage under Medicare Advantage will give up \"more than their share\" because of health care reform Ground Truth :REAL Predicted:FAKE\n",
      "Sentence:Over 12,000 school kids were arrested in Florida. It makes Florida the nations leader in that area. Ground Truth :REAL Predicted:FAKE\n",
      "Sentence:There are more oil rigs in operation in the United States than the rest of the world combined. Ground Truth :FAKE Predicted:REAL\n",
      "Sentence:The Social Security trust fund is sound. Without anything being done, it would function well into 2038; and even after that time with no changes, we could pay 80 percent of the benefits that people have earned. Ground Truth :REAL Predicted:FAKE\n",
      "Sentence:The Obama administration shut down the Amber Alert program because of the government shutdown. Ground Truth :FAKE Predicted:REAL\n",
      "Sentence:The Republicans have 2 percent of the Muslim vote. Ground Truth :REAL Predicted:FAKE\n",
      "Sentence:Every single one of the 41 Republican senators who just blocked a raise in the minimum wage will receive a $2,800 cost-of-living adjustment on January 1, 2015. Ground Truth :REAL Predicted:FAKE\n",
      "Sentence:Marco Rubio voted against authorizing President Obama to strike Syria after Assad used chemical weapons on his own people. Ground Truth :REAL Predicted:FAKE\n",
      "Sentence:Under the Cash for Clunkers program, all we've got to do is ... go to a local junkyard, all you've got to do is tow it to your house. And you're going to get $4,500. Ground Truth :FAKE Predicted:REAL\n",
      "Sentence:Not one Republican has the guts to recognize that climate change is real. Ground Truth :FAKE Predicted:REAL\n",
      "Sentence:David Dewhurst has a record of promoting an income tax. Ground Truth :FAKE Predicted:REAL\n",
      "Sentence:In the last five years, 28,000 people have been killed along the U.S.-Mexico border. Ground Truth :FAKE Predicted:REAL\n",
      "Sentence:The state of Ohio has one of the lowest unemployment rates in the nation right now and is leading the pack in terms of job creation. Ground Truth :FAKE Predicted:REAL\n",
      "Sentence:Says Obama health reform law denies millions access to affordable insurance. Ground Truth :FAKE Predicted:REAL\n",
      "Sentence:Says HB2 hasnt moved the needle one iota on North Carolinas economy. Ground Truth :FAKE Predicted:REAL\n",
      "Sentence:Says Rick Scott called education not a core function of the state. Ground Truth :FAKE Predicted:REAL\n",
      "Sentence:The Family Research Council, according to some government agencies, is a terrorist group. Ground Truth :FAKE Predicted:REAL\n",
      "Sentence:Says Rep. Jim Weidner proposed a bill taking away health care for 80,000 of Oregons children. Ground Truth :REAL Predicted:FAKE\n",
      "Sentence:Says that in the 1985 election former Gov. Tom Kean had the largest winning margin for a gubernatorial candidate in Jersey history. Ground Truth :REAL Predicted:FAKE\n",
      "Sentence:You ... said that Barack Obama was not ready to be commander in chief. Ground Truth :REAL Predicted:FAKE\n",
      "Sentence:Im the only member of the House of Representatives who raised most of his campaign funds in the last election from small contributions of less than $200. Ground Truth :REAL Predicted:FAKE\n",
      "Sentence:Rick Scott took $200,000 from a family that leased land for drilling and now he is trying to hide from it. Ground Truth :REAL Predicted:FAKE\n",
      "Sentence:At the beginning of the last decade ... America had a budget surplus of over $200 billion. By the time I took office, we had a one-year deficit of over $1 trillion and projected deficits of $8 trillion over the next decade. Ground Truth :REAL Predicted:FAKE\n",
      "Sentence:U.S. taxpayers are being forced to fund Feisal Abdul Raufs trip to the Middle East. Ground Truth :REAL Predicted:FAKE\n",
      "Sentence:Milwaukee County taxpayers paid $370,000 to settle a lawsuit over a decision by Sheriff David A. Clarke Jr. to use untrained corrections officers rather than deputies to patrol the lakefront. Ground Truth :FAKE Predicted:REAL\n",
      "Sentence:There are Justice Department policies against FBI Director James Comey discussing details of a federal investigation so close to an election. Ground Truth :REAL Predicted:FAKE\n",
      "Sentence:Democratic presidents \"have been considerably more effective at creating private-sector jobs.\" Ground Truth :REAL Predicted:FAKE\n",
      "Sentence:Military \"recruiting went on at Harvard every single day throughout the time (Kagan) was there.\" Ground Truth :REAL Predicted:FAKE\n",
      "Sentence:Says that under Rick Perrys plan, Texas has cut funding for public schools by 25%. Ground Truth :REAL Predicted:FAKE\n",
      "Sentence:Says David Perdue wants to abolish the U.S. Department of Education, which would cost Georgia schools $1 billion a year and eliminate millions in student loans. Ground Truth :REAL Predicted:FAKE\n",
      "Sentence:The Paul Ryan budget proposal would privatize Medicare. Ground Truth :REAL Predicted:FAKE\n",
      "Sentence:Says Marco Rubio is the one for an open border. Ground Truth :FAKE Predicted:REAL\n",
      "Sentence:David Alameel is giving thousands of dollars to support the Republican Party candidates including John Cornyn and Greg Abbott. Ground Truth :FAKE Predicted:REAL\n",
      "Sentence:Says allowing the payroll tax holiday to expire would end up costing another estimated 900,000 jobs in 2012. Ground Truth :REAL Predicted:FAKE\n",
      "Sentence:Hillary Clinton supported NAFTA and permanent China trade. Pennsylvania lost thousands of jobs. Ground Truth :REAL Predicted:FAKE\n",
      "Sentence:We now have driven (health care) costs down to the lowest theyve been in 50 years. Ground Truth :FAKE Predicted:REAL\n",
      "Sentence:President Barack Obama's \"initial response when we heard about the Christmas underwear bomber\" was to say that \"this was the act of an isolated extremist.\" Ground Truth :REAL Predicted:FAKE\n",
      "Sentence:In the 1950s, \"A lot of people got rich and they had to pay a top tax rate of 90 percent.\" Ground Truth :REAL Predicted:FAKE\n",
      "Sentence:Sixty-five percent of the Iraqi people now say it's okay to shoot an American soldier. Ground Truth :FAKE Predicted:REAL\n",
      "Sentence:Twelve judges have thrown out legal challenges to the health care law because they rejected the notion that the health care law was unconstitutional. Ground Truth :FAKE Predicted:REAL\n",
      "Sentence:Says Gov. Chris Christies proposal to reduce state income taxes would be the second tax cut for the rich by the governor in two years. Ground Truth :REAL Predicted:FAKE\n",
      "Sentence:About 230,000 people that were on unemployment when I took office are not on unemployment now. Ground Truth :REAL Predicted:FAKE\n",
      "Sentence:John McCain, \"one of the richest people in a Senate filled with millionaires,\" says the solution to the housing crisis is for people to get a \"second job\" and \"skip their vacations.\" Ground Truth :FAKE Predicted:REAL\n",
      "Sentence:Hypocrisy at the Clinton Foundation: Top male staff made on average $218,029 while top female staff made $153,014 from 2010-2014. Ground Truth :REAL Predicted:FAKE\n",
      "Sentence:Says federal law enforcement officers cut off questioning of the Christmas Day underwear bomber by giving him a Miranda warning after 30 minutes of questioning. Ground Truth :REAL Predicted:FAKE\n",
      "Sentence:On legalizing illegal immigrants. Ground Truth :REAL Predicted:FAKE\n",
      "Sentence:Says there are homes for sale on and around (Oswego Lake) right now for under $150,000 that anyone is welcome to buy. Ground Truth :REAL Predicted:FAKE\n",
      "Sentence:The top 1 percent pay over half of the entire revenue for this country. Ground Truth :FAKE Predicted:REAL\n",
      "Sentence:Chris Christie has not increased the taxes on anyone. Ground Truth :REAL Predicted:FAKE\n",
      "Sentence:The United States does not have a system through which growers and dairies can bring a workforce legally into the U.S. Ground Truth :FAKE Predicted:REAL\n",
      "Sentence:Most of, if not all of, the [DeKalb school construction] projects always came in on or were under budget. Ground Truth :REAL Predicted:FAKE\n",
      "Sentence:Says Sen. Sherrod Brown voted to block American energy production and increase energy taxes. Ground Truth :FAKE Predicted:REAL\n",
      "Sentence:Seven presidents before (Barack Obama) -- Republicans and Democrats -- tried to expand health care to all Americans. Ground Truth :REAL Predicted:FAKE\n",
      "Sentence:While fighting a move to toughen penalties for workplace gender discrimination, state Sen. Glenn Grothman said he didnt believe women belonged in the workplace but belonged at home, cooking and cleaning and having babies. Ground Truth :FAKE Predicted:REAL\n",
      "Sentence:If you put the $47 billion in revenue (raised over 10 years by the Buffett rule) into infrastructure you could create 611,000 infrastructure jobs. Ground Truth :FAKE Predicted:REAL\n",
      "Sentence:What is the proper collective noun for a group of baboons? Believe it or not . . . a Congress! Ground Truth :FAKE Predicted:REAL\n",
      "Sentence:Thompson \"voted against $250,000 caps on damages (and) almost anything that would make our legal system fairer.\" Ground Truth :FAKE Predicted:REAL\n",
      "Sentence:Immigrants are more fertile. Ground Truth :REAL Predicted:FAKE\n",
      "Sentence:We spend less on defense today as % of GDP than at any time since Pearl Harbor. Ground Truth :FAKE Predicted:REAL\n",
      "Sentence:Says Scott Walker wants to ban common forms of birth control, including the pill. Ground Truth :REAL Predicted:FAKE\n",
      "Sentence:Shelby County donated Im sorry, gave 44 schools to the city of Memphis. Ground Truth :REAL Predicted:FAKE\n",
      "Sentence:Top U.S. intelligence officials have toldevery member of Congress, including the president, were about to be attacked in a serious way because (of) the threat emanating from Syria and Iraq. Ground Truth :REAL Predicted:FAKE\n",
      "Sentence:Have the suburbs been inundated with former residents of Atlanta housing projects? Absolutely not. Ground Truth :REAL Predicted:FAKE\n",
      "Sentence:The American people support defunding Obamacare and oppose shutting down the government. Ground Truth :FAKE Predicted:REAL\n",
      "Sentence:Report that #GOP insisting on changes to Social Security as part of #fiscalcliff false. BTW those changes are supported by @barackobama. Ground Truth :REAL Predicted:FAKE\n",
      "Sentence:Nobody has played clips over and over ...of President Obama (saying), If they bring a knife to the fight, well bring a gun. Ground Truth :REAL Predicted:FAKE\n",
      "Sentence:Rep. Paul Ryans Medicare plan lines the pockets of the private insurance companies, increases costs for seniors and does not reduce the deficit. Ground Truth :REAL Predicted:FAKE\n",
      "Sentence:This year in Congress (Connie Mack IV) has missed almost half of his votes. Ground Truth :FAKE Predicted:REAL\n",
      "Sentence:1/3 of our kids drop out (of high school), cannot go to college or start a career. Ground Truth :FAKE Predicted:REAL\n",
      "Sentence:74 percent of Republicans support the Affordable Care Act. Ground Truth :FAKE Predicted:REAL\n",
      "Sentence:Says Alex Sink failed Florida homeowners by using predatory lending practices. Ground Truth :FAKE Predicted:REAL\n",
      "Sentence:You cant check out a library book without a photo ID. Ground Truth :FAKE Predicted:REAL\n",
      "Sentence:Atmospheric conditions could push a footballs pressure down approximately one-and-a-half pounds per square inch. Ground Truth :REAL Predicted:FAKE\n",
      "Sentence:A college loan is the only loan in the United States that you cannot refinance when interest rates go down. Ground Truth :REAL Predicted:FAKE\n",
      "Sentence:The House of Representatives has never passed a resolution of disapproval to condemn a member's behavior. Ground Truth :REAL Predicted:FAKE\n",
      "Sentence:The policy mistakes that ... the Clintons made got us, in large degree, to the situation that we are in today with mass incarceration. Ground Truth :REAL Predicted:FAKE\n",
      "Sentence:Says he raised average family income by 50 percent during his tenure as Arkansas governor. Ground Truth :FAKE Predicted:REAL\n",
      "Sentence:They tried to give us $400 million to build a high-speed train that goes 39 miles an hour. Ground Truth :REAL Predicted:FAKE\n",
      "Sentence:Most young Americans right now, theyre not covered by health insurance. Ground Truth :FAKE Predicted:REAL\n",
      "Sentence:Over the last 10 years, Texas created 33 percent of the net new jobs nationwide. Ground Truth :REAL Predicted:FAKE\n",
      "Sentence:Says two-thirds of groups targeted for IRS scrutiny were not conservative. Ground Truth :FAKE Predicted:REAL\n",
      "Sentence:Last week the Texas State Board of Education (SBOE), led by Rick Perrys appointee, voted to remove Thomas Jefferson from social studies textbook standards. Thats right. Thomas Jefferson... was deleted from a list of historical figures who inspired political change. Ground Truth :REAL Predicted:FAKE\n",
      "Sentence:As a U.S. senator with salary and perks, ‪#Bernie‬ is in the top 1 percent, but still paid only 13 percent in taxes last year. Ground Truth :FAKE Predicted:REAL\n",
      "Sentence:Says Texas routinely gets a lot more federal spending than it pays in taxes. Ground Truth :REAL Predicted:FAKE\n",
      "Sentence:Says it has offered $12 million in savings through 2011 and $184 million in savings over the next 25 years in contract negotiations with the City of Milwaukee. Ground Truth :FAKE Predicted:REAL\n",
      "Sentence:Clackamas County Commissioners approved a re-negotiated agreement to lower the countys contribution to TriMets Portland-Milwaukie Light Rail project to $19.9 million from $25 million. Ground Truth :FAKE Predicted:REAL\n",
      "Sentence:The Obama administration is unwinding our nations welfare-to-work requirements. Ground Truth :FAKE Predicted:REAL\n",
      "Sentence:Electric car sales in Georgia have dropped dramatically since a $5,000 tax credit was eliminated and a $200 annual registration fee was imposed July 1. Ground Truth :REAL Predicted:FAKE\n",
      "Sentence:The Redskins Training Camp deal generated $40 million in new private investment in the city. Ground Truth :REAL Predicted:FAKE\n",
      "Sentence:The GOP budget plan would cut nearly a million jobs. Ground Truth :REAL Predicted:FAKE\n",
      "Sentence:As many as six federal department budget bills have been delayed because of opposition to amendments that would ban Confederate battle flag sales at federal building gift shops. Ground Truth :REAL Predicted:FAKE\n",
      "Sentence:Shes voted for 60 tax increases, hurting the middle class and small businesses. Ground Truth :FAKE Predicted:REAL\n",
      "Sentence:Now, in the House of Representatives, we have 40 different jobs bills that have passed and almost all of them have been bipartisan. Ground Truth :FAKE Predicted:REAL\n",
      "Sentence:Sheila Jackson Lee of Texas said: Hey, all you wrinkly, white-aged has-beens: Its time for you to die and let the next generation have your spot on the planet. Ground Truth :FAKE Predicted:REAL\n",
      "Sentence:Republican (small business tax cut) bill spends $80 million for better Google searches, not job creation Ground Truth :FAKE Predicted:REAL\n",
      "Sentence:A 2013 state law would allow the operator of an iron ore mine in northern Wisconsin to fill in pristine streams and ponds with mine waste. Ground Truth :REAL Predicted:FAKE\n",
      "Sentence:If black America were a country, itd be the 15th wealthiest nation in the world. Ground Truth :FAKE Predicted:REAL\n",
      "Sentence:It has been estimated that nearly 40 percent of all guns sold in America are sold by private, unlicensed sellers either online or through gun shows. Ground Truth :FAKE Predicted:REAL\n",
      "Sentence:2008 was the deadliest year of the war (in Afghanistan) for American forces. Ground Truth :REAL Predicted:FAKE\n",
      "Sentence:The streetcar project planned by Mayor Tom Barrett would be a 1900s style trolley. Ground Truth :REAL Predicted:FAKE\n",
      "Sentence:Lawmakers were paid for their off-season efforts to, for the first time, take the lead in drawing borders for two would-be cities. Ground Truth :REAL Predicted:FAKE\n",
      "Sentence:Greg Abbott and his surrogates have referred to women who have been the victims of rape or incest as though somehow what they are confronting is a minor issue. Ground Truth :FAKE Predicted:REAL\n",
      "Sentence:Under a proposed medical marijuana amendment in Florida, you dont get refills -- you get it forever. Ground Truth :FAKE Predicted:REAL\n",
      "Sentence:A data-storing microchip \"would be implanted in the majority of people who opt to become covered by the public health care option.\" Ground Truth :FAKE Predicted:REAL\n",
      "Sentence:Enacting the Right-to-Carry Act would amount to expanding the rights of sex offenders, terrorists, child predators, and abusers to carry concealed weapons across state lines. Ground Truth :REAL Predicted:FAKE\n",
      "Sentence:As governor of Arkansas, I cut taxes and fees almost 100 times, saving the taxpayers almost $380-million. I left a surplus of nearly $850-million. Ground Truth :REAL Predicted:FAKE\n",
      "Sentence:I havent raised taxes in the time Ive been the governor of New Jersey. Ground Truth :REAL Predicted:FAKE\n",
      "Sentence:Massachusetts public schools teach kids as young as kindergartners about gay marriage. Ground Truth :FAKE Predicted:REAL\n",
      "Sentence:I'm probably one of the four or five best-known Americans in the world. Ground Truth :FAKE Predicted:REAL\n",
      "Sentence:Only in Washington would politicians spend $27 million to teach Moroccans how to make pottery. Ground Truth :FAKE Predicted:REAL\n",
      "Sentence:SaysRand Paulhas put out budgets to cut the military in half. Ground Truth :FAKE Predicted:REAL\n",
      "Sentence:Groups that receive foreign money are spending huge sums to influence American elections. Ground Truth :REAL Predicted:FAKE\n",
      "Sentence:[A]t his current rate, President Obama will have added more debt to the United State of America by the end of his first term than each of the previous 43 presidents -- combined! Ground Truth :REAL Predicted:FAKE\n",
      "Sentence:We know that Saudi Arabia started al-Qaida. Ground Truth :REAL Predicted:FAKE\n",
      "Sentence:The fundraising numbers are in, and our grassroots support is unmatched! Ground Truth :FAKE Predicted:REAL\n",
      "Sentence:Issue 2 makes it illegal for us to negotiate for enough firefighters to do the job. Ground Truth :REAL Predicted:FAKE\n",
      "Sentence:Says although the unemployment rate seems to be improving, it does not reflect real job creation -- its caused by a shrinking of the actual labor force. Ground Truth :REAL Predicted:FAKE\n",
      "Sentence:Gov. Scott Walker hired convicted Assembly Speaker Scott Jensen to oversee a raid on the state employee retirement system to help balance the state budget. Ground Truth :FAKE Predicted:REAL\n",
      "Sentence:In general, it appears Wisconsins right to work bill would likely apply to the Green Bay Packers players and their union. Ground Truth :REAL Predicted:FAKE\n",
      "Sentence:Gov. Scott Walker bought 80 new, brand-new vehicles for the state that we probably dont need. Ground Truth :FAKE Predicted:REAL\n",
      "Sentence:These 15 political appointees (on the IPAB) will make all the major health care decisions for over 300 million Americans. Ground Truth :FAKE Predicted:REAL\n",
      "Sentence:Jason Carter supports using Georgia tax dollars to promote Obamacare Ground Truth :FAKE Predicted:REAL\n",
      "Sentence:Dan Patrick said that if women get paid less than a man for the same job, that thats not a problem. Ground Truth :REAL Predicted:FAKE\n",
      "Sentence:Tom Reed has actually voted for every single trade deal that has ever come before him in any form. Ground Truth :REAL Predicted:FAKE\n",
      "Sentence:The unemployment rate may be as high as 42 percent. Ground Truth :FAKE Predicted:REAL\n",
      "Sentence:Common Core is not from the federal government, they do not have their fingerprints on this thing at all. Ground Truth :REAL Predicted:FAKE\n",
      "Sentence:What the Arizona law does is make a state crime out of something that already is... a federal crime. Ground Truth :REAL Predicted:FAKE\n",
      "Sentence:Trump proposed enacting the largest tax increase in American history. Ground Truth :REAL Predicted:FAKE\n",
      "Sentence:Senator McCain has been talking tough about earmarks, and that's good, but earmarks account for about $18-billion of our budget. Ground Truth :REAL Predicted:FAKE\n",
      "Sentence:Says Kay Bailey Hutchison voted for sanctuary cities. Ground Truth :FAKE Predicted:REAL\n",
      "Sentence:John wasn't this raging populist four years ago when he ran for president. Ground Truth :FAKE Predicted:REAL\n",
      "Sentence:Says no one from the Bush family attended the 2012 Republican National Convention and there was no President Bush at the 2008 convention. Ground Truth :FAKE Predicted:REAL\n",
      "Sentence:Crime is rising. Ground Truth :FAKE Predicted:REAL\n",
      "Sentence:Weve got a personal tax system thats so complicated it costs Americans about $500 billion a year to comply with the current tax code. Ground Truth :FAKE Predicted:REAL\n",
      "Sentence:Says a Portland school gives Muslim students their own school provided prayer room, prayer rugs, and lets them out of class five times a day to pray to Allah. Ground Truth :FAKE Predicted:REAL\n",
      "Sentence:The bulk of the people who are shot with a weapon other than these drug gangs taking on one another end up being shot with their own weapon. Ground Truth :REAL Predicted:FAKE\n",
      "Sentence:In the case of General Motors, the (Bush) administration wrote a check without asking for any conditions of change. Ground Truth :FAKE Predicted:REAL\n",
      "Sentence:Oregon is the only state out of the 50 states in the USA that continues to pay 100% of the medical benefits for its employees and their families. Ground Truth :FAKE Predicted:REAL\n",
      "Sentence:The Mitchell Park Domes lose about $1 million-plus every year and the number of people going to the Domes has been going down. Ground Truth :FAKE Predicted:REAL\n",
      "Sentence:Under a bill before the legislature, youd have to go to court to fire an employee. Ground Truth :FAKE Predicted:REAL\n",
      "Sentence:There is little if any evidence that the use of red light cameras in New Jersey has reduced the number or severity of accidents at the intersections where they are used. Ground Truth :REAL Predicted:FAKE\n",
      "Sentence:In the entire public school system in Camden last year, only three students graduated college ready. Ground Truth :REAL Predicted:FAKE\n",
      "Sentence:U.S. global AIDS spending helped reduce political instability and violence by 40 percent in recipient nations. Ground Truth :FAKE Predicted:REAL\n",
      "Sentence:I told the Congress 'thanks, but no thanks,' on that Bridge to Nowhere. Ground Truth :REAL Predicted:FAKE\n",
      "Sentence:State school funding per pupil is down 16 percent compared to 2009, after adjusting for inflation. Ground Truth :REAL Predicted:FAKE\n",
      "Sentence:Unemployment has fallen from 10 percent during the presidents first year in office to 8.5 percent today. Ground Truth :REAL Predicted:FAKE\n",
      "Sentence:Says State Rep. Kristi Thibaut was an ACORN lobbyist. Ground Truth :REAL Predicted:FAKE\n",
      "Sentence:According to a national survey, transit ridership among people age 16 to 34 increased 40 percent between 2001 and 2009. Ground Truth :REAL Predicted:FAKE\n",
      "Sentence:There were 36 states where Republicans who were in charge refused to implement a state (health insurance) exchange. Ground Truth :FAKE Predicted:REAL\n",
      "Sentence:Says a tweet he sent out wasnt saying, check out a sex tape. It was just take a look at the background of Alicia Machado. Ground Truth :FAKE Predicted:REAL\n",
      "Sentence:Aphotograph of 21-year-old Hillary Clinton featured a Confederate battle flag in the background. Ground Truth :FAKE Predicted:REAL\n",
      "Sentence:This administration and this Congress have been systematically cutting funding to border security since the Democrats took control. Ground Truth :FAKE Predicted:REAL\n",
      "Sentence:A new college tuition reciprocity agreement with Minnesota makes college education more affordable for Wisconsin residents. Ground Truth :FAKE Predicted:REAL\n",
      "Sentence:Mitt Romney is the first major party candidate for president of the United States in modern times not to release at least 12 years of tax returns. Ground Truth :FAKE Predicted:REAL\n",
      "Sentence:In the month of July alone, EU exports to South Korea increased by over 36 percent. A lot of that is our market share. Those are our farmers and our service providers who are suffering. Ground Truth :REAL Predicted:FAKE\n",
      "Sentence:The DNC says McCain flip-flopped on whether the Iraq War would be easy. Ground Truth :REAL Predicted:FAKE\n",
      "Sentence:Says Ohio law gives tax breaks to rich people who own private jets. Ground Truth :REAL Predicted:FAKE\n",
      "Sentence:Says Zack Space voted for budgets and debt, energy taxes and the stimulus, and we still lost more than 2.5 million jobs. Ground Truth :REAL Predicted:FAKE\n",
      "Sentence:Says New Hampshire has the third-highest property tax in the country. Ground Truth :REAL Predicted:FAKE\n",
      "Sentence:Obama's tax plan cuts taxes \"for 95 percent of all working families.\" Ground Truth :REAL Predicted:FAKE\n",
      "Sentence:People were hopeless. Sixty percent of the population, 70 percent of the population wanted to live somewhere else. . . . By the time I left, 70 percent wanted to stay. Ground Truth :FAKE Predicted:REAL\n",
      "Sentence:On whether the United States should intervene in Libya. Ground Truth :FAKE Predicted:REAL\n",
      "Sentence:John Kitzhaber created 128,000 new jobs while governor. Ground Truth :REAL Predicted:FAKE\n",
      "Sentence:In 2006, Bernie Sanders voted in the House with hard-line Republicans for indefinite detention for undocumented immigrants, and then he sided with those Republicans to stand with vigilantes known as Minutemen who were taking up outposts along the border to hunt down immigrants. Ground Truth :REAL Predicted:FAKE\n",
      "Sentence:Scott Maddox has run \"losing campaigns for 3 of Florida's 4 available cabinet positions.\" Ground Truth :FAKE Predicted:REAL\n",
      "Sentence:Americans spend 6.1 billion hours a year on tax preparation. Ground Truth :REAL Predicted:FAKE\n",
      "Sentence:Marco Rubio voted against funding health clinics that provide critical care during this public health emergency (Zika). Ground Truth :FAKE Predicted:REAL\n",
      "Sentence:Youre in more trouble if you leave your pet in the car than if you leave your child in the car. Ground Truth :REAL Predicted:FAKE\n",
      "Sentence:On letting Occupy Atlanta protesters stay in Woodruff Park. Ground Truth :REAL Predicted:FAKE\n",
      "Sentence:In first week as governor, Tim Kaine proposed a nearly $4 billion tax increase, $4 billion, including a tax increase on people earning as little as $17,000 a year. Ground Truth :REAL Predicted:FAKE\n",
      "Sentence:Every president has raised the debt ceiling. Ground Truth :REAL Predicted:FAKE\n",
      "Sentence:Says on contraception, his plan is cheaper and easier for you than Sen. Mark Udalls Ground Truth :FAKE Predicted:REAL\n",
      "Sentence:The states have always defined marriage. Ground Truth :REAL Predicted:FAKE\n",
      "Sentence:Mark Warner voted for nearly $1 trillion in new taxes and $7 trillion in new debt. Ground Truth :REAL Predicted:FAKE\n",
      "Sentence:State government spending will be increase 10.7 percent this year. Ground Truth :FAKE Predicted:REAL\n",
      "Sentence:The FCCs net neutrality policy includes whatis essentially a massive tax increase. Ground Truth :REAL Predicted:FAKE\n",
      "Sentence:The minimum wage is mostly an entry-level wage for young people. Ground Truth :REAL Predicted:FAKE\n",
      "Sentence:Says six studies verify that the math adds up for Mitt Romneys tax plan. Ground Truth :FAKE Predicted:REAL\n",
      "Sentence:In the last few months alone, we have apprehended extremists within our borders who were sent here from the border region of Afghanistan and Pakistan to commit new acts of terror. Ground Truth :REAL Predicted:FAKE\n",
      "Sentence:Wisconsin is dead last in income growth among midwestern states during Gov. Scott Walkers term. Ground Truth :REAL Predicted:FAKE\n",
      "Sentence:A three-cents-per-ounce soda tax in Philadelphia would result in the loss of 2,000 family-sustaining Teamster Union jobs and countless other jobs in the beverage industry. Ground Truth :FAKE Predicted:REAL\n",
      "Sentence:I have had the challenge during this administration to suspend no less than 37 public officials in about 36 months. Ground Truth :REAL Predicted:FAKE\n",
      "Sentence:Kendrick Meek was #1 in Florida in taking tobacco cash and then opposed a tax on cigars that would have helped pay for childrens health care. Ground Truth :FAKE Predicted:REAL\n",
      "Sentence:Paul Ryan got his start in politics, as a young staffer just out of college, working for then-Congressman John Kasichs Budget Committee. Ground Truth :REAL Predicted:FAKE\n",
      "Sentence:President Obama in November of last year wiped away (a program) that allows for shared fingerprinting for those who are behind bars so you know who is here legally and illegally. Ground Truth :REAL Predicted:FAKE\n",
      "Sentence:McCain sought the political support of minister John Hagee, \"who believes Hurricane Katrina was God's punishment for gay rights and called the Catholic Church 'the Antichrist' and a 'false cult.'\" Ground Truth :REAL Predicted:FAKE\n",
      "Sentence:Says 51 percent of federal tax filers paid zero federal income tax. Ground Truth :REAL Predicted:FAKE\n",
      "Sentence:Because of the 2011 debt ceiling fight, the stock market lost 2,000 points. Ground Truth :REAL Predicted:FAKE\n",
      "Sentence:Since Wisconsin Gov. Scott Walker took office, we are losing jobs at rates not seen in decades. Ground Truth :FAKE Predicted:REAL\n",
      "Sentence:I would be the first Republican senator elected in New Jersey in 41 years. Ground Truth :REAL Predicted:FAKE\n",
      "Sentence:Wisconsins attorney general and state treasurer ordered the daughter of Earth Day founder Gaylord Nelson not to discuss climate change on state time. Ground Truth :REAL Predicted:FAKE\n",
      "Sentence:Says unions take away hard-earned money of teachers, firefighters and police officers to play politics. Ground Truth :FAKE Predicted:REAL\n",
      "Sentence:President Bush never did one interview with the New York Times during his entire presidency. Ground Truth :FAKE Predicted:REAL\n",
      "Sentence:14,000 Americans . . . lose their health insurance every single day. Ground Truth :REAL Predicted:FAKE\n",
      "Sentence:Mr. Trump is self-financing his campaign, so we dont have any donors. Ground Truth :FAKE Predicted:REAL\n",
      "Sentence:Embryonic stem cell research is at a dead end, with no one good example of a successful treatment. Ground Truth :FAKE Predicted:REAL\n",
      "Sentence:Says Libya Ambassador (Christopher) Stevens sent 600 requests for help in Benghazi. Ground Truth :FAKE Predicted:REAL\n",
      "Sentence:The Affordable Care Act is bringing the cost of health care in our country down. Ground Truth :REAL Predicted:FAKE\n",
      "Sentence:Rick Perry had planned to retire from the legislature until his best friend, David Weeks, and I talked him into switching parties and running for the GOP nomination for agriculture commissioner. Ground Truth :REAL Predicted:FAKE\n",
      "Sentence:Out of 150,000 tenured teachers in the last 10 years, only 17 have been dismissed for incompetence. Ground Truth :REAL Predicted:FAKE\n",
      "Sentence:Says Connie Mack initially said he would have voted yes for the Paul Ryan budget plan, and then, you said it was stupid and you would vote no. And then your folks corrected you, and you changed your position again, yes. Ground Truth :REAL Predicted:FAKE\n",
      "Sentence:Ohio is not meeting its obligation to update voter registrations when voters change their address with the BMV. Ground Truth :REAL Predicted:FAKE\n",
      "Sentence:Vietnamese is the third most commonly spoken language in Texas. Ground Truth :REAL Predicted:FAKE\n",
      "Sentence:What we have now is the most generous, in my opinion, good time bill in the entire United States. Ground Truth :FAKE Predicted:REAL\n",
      "Sentence:There is no Plan B if the transportation referendum is not passed by voters. Ground Truth :FAKE Predicted:REAL\n",
      "Sentence:Youll find blacks in almost every regiment throughout the South who fought right alongside white Southerners, during the Civil War. Ground Truth :FAKE Predicted:REAL\n",
      "Sentence:Democrats have lost more than 900 state legislators since Barack Obama has been president. Ground Truth :REAL Predicted:FAKE\n",
      "Sentence:Carly Fiorina, shes against banning assault weapons. Ground Truth :REAL Predicted:FAKE\n",
      "Sentence:Hillary's baby bond proposal would give $5,000 to each of the 4-million babies born in the U.S. each year, totaling $20-billion per year, multiplied by four years = $80-billion. Ground Truth :FAKE Predicted:REAL\n",
      "Sentence:Says her campaign platform includes the biggest investment in new, good-paying jobs since World War II. Ground Truth :REAL Predicted:FAKE\n",
      "Sentence:If Rhode Island does a hybrid [retirement] plan well be the first state in the nation to do this. Ground Truth :FAKE Predicted:REAL\n",
      "Sentence:Bill McCollum holds the same position on (embryonic stem cell research) as Barack Obama. Ground Truth :REAL Predicted:FAKE\n",
      "Sentence:In 1999, the NRA leadership in Washington, pretty much the same people intact, were for (expanded background checks.) Ground Truth :REAL Predicted:FAKE\n",
      "Sentence:Newt Gingrichs presidential campaign has exactly the same challenges as Ronald Reagans successful 1980 bid. Ground Truth :FAKE Predicted:REAL\n",
      "Sentence:Says Lee Leffingwell raised property taxes 20 percent in three years. Ground Truth :REAL Predicted:FAKE\n",
      "Sentence:Says President Barack Obama was responsible for the assassination of at least four American citizens in drone strikes. Ground Truth :REAL Predicted:FAKE\n",
      "Sentence:Says a highway was closed in El Paso because of bullets flying across the border. Ground Truth :REAL Predicted:FAKE\n",
      "Sentence:If the House of Representatives fails to extend the middle-class tax cuts, 400,000 middle-class Rhode Island families will see their federal income taxes increase. Ground Truth :FAKE Predicted:REAL\n",
      "Sentence:If you actually took the number of Muslims [sic] Americans, we'd be one of the largest Muslim countries in the world. Ground Truth :FAKE Predicted:REAL\n",
      "Sentence:Says Nikita Khrushchev brought an extra shoe to a United Nations session in 1960, which he banged on the desk in protest. Ground Truth :FAKE Predicted:REAL\n",
      "Sentence:Jim Renacci voted repeatedly to end Medicare. Ground Truth :FAKE Predicted:REAL\n",
      "Sentence:Sen. Joe Liebermans home state has a public option which covers about 10,000 of its citizens that was introduced by its Republican governor. Ground Truth :REAL Predicted:FAKE\n",
      "Sentence:Wind powers nearly 13 million homes across the country. Ground Truth :REAL Predicted:FAKE\n",
      "Sentence:Health insurance companies pay CEOs $24 million a year Ground Truth :FAKE Predicted:REAL\n",
      "Sentence:Says Donald Trump wants to deport our Dreamers. Ground Truth :REAL Predicted:FAKE\n",
      "Sentence:Obama has racked up more debt than any president in history over $5 trillion. Ground Truth :REAL Predicted:FAKE\n",
      "Sentence:Says Arizona congressional candidate Ray Strauss is a Champion of Big Government for his votes to raise taxes while on the local city council. Ground Truth :REAL Predicted:FAKE\n",
      "Sentence:Says in 1944 we were in debt more than twice as much as we are now. Ground Truth :FAKE Predicted:REAL\n",
      "Sentence:Says Ronda Storms voted to fund the Taj Mahal courthouse. Ground Truth :REAL Predicted:FAKE\n",
      "Sentence:Last week the Blue Chip Economic Indicators came out that surveys lots of private forecasters. Almost all of them are predicting a turnaround in the third quarter and positive growth in the fourth quarter. Ground Truth :REAL Predicted:FAKE\n",
      "Sentence:Says Ohios I-X Center used to be a great plant, but thousands of people of worked here, and they left when their jobs were moved overseas. Ground Truth :FAKE Predicted:REAL\n",
      "Sentence:Weve got a 1,000 National Guard troop request thats been in front of this president for over a year and no response. Ground Truth :REAL Predicted:FAKE\n",
      "Sentence:Under a new law, doctors performing drug-induced abortions could be charged if women dont return to them for follow-up care Ground Truth :FAKE Predicted:REAL\n",
      "Sentence:Says veterans disability claims backlog doubled in Obamas first term. Ground Truth :REAL Predicted:FAKE\n",
      "Sentence:Its hard to get people in Portland to vote yes on ballot measures, especially when theres opposition. Ground Truth :FAKE Predicted:REAL\n",
      "Sentence:Says 11 straight years of no major hurricanes striking land in the United States bores a hole right through the whole climate change argument. Ground Truth :FAKE Predicted:REAL\n",
      "Sentence:On abortion Ground Truth :FAKE Predicted:REAL\n",
      "Sentence:Members of Congress receive full pay retirement after serving one term. Ground Truth :FAKE Predicted:REAL\n",
      "Sentence:Says he worked with the Democratic legislature to balance spending with revenues so that at the end of my four-year term, the rainy day fund was established at more than $2 billion. Ground Truth :REAL Predicted:FAKE\n",
      "Sentence:Says the No. 2 cause of death in the U.S. (for) women under 50 is being killed by their spouse or domestic partner. Ground Truth :FAKE Predicted:REAL\n",
      "Sentence:Just about everyone everywhere is spending more hours on the job, less time with their families, bringing home smaller and smaller paychecks, while theyre paying more and more at the gas pump and the grocery stores. Ground Truth :REAL Predicted:FAKE\n",
      "Sentence:David Perdue said hed raise taxes. Ground Truth :REAL Predicted:FAKE\n",
      "Sentence:Says Every legislative district in the state has at least one craft brewery and countless home brewers. Ground Truth :FAKE Predicted:REAL\n",
      "Sentence:In Ohio, we invested in our children, raising school funding by 5.5 percent in the last budget. Ground Truth :FAKE Predicted:REAL\n",
      "Sentence:Says Demond Means, turnaround district superintendent for Milwaukee Public Schools, said the district needs to be gutted. Ground Truth :FAKE Predicted:REAL\n",
      "Sentence:Deregulation of the states telecommunications industry will create 50,000 jobs in Wisconsin. Ground Truth :FAKE Predicted:REAL\n",
      "Sentence:Says paid family leave is a program that is standard in all but five nations around the world. Ground Truth :REAL Predicted:FAKE\n",
      "Sentence:Says in the last 20 years, the French have not stood by the United States on foreign policy. Ground Truth :FAKE Predicted:REAL\n",
      "Sentence:Says thousands at a Manhattan rally for Donald Trump were chanting We hate Muslims, we hate blacks, we want our great country back. Ground Truth :FAKE Predicted:REAL\n",
      "Sentence:Barack Obama \"passed laws moving people from welfare to work.\" Ground Truth :REAL Predicted:FAKE\n",
      "Sentence:Says President Barack Obama promised a pathway to citizenship to undocumented immigrants and didnt deliver jack squat on any of it. Ground Truth :REAL Predicted:FAKE\n",
      "Sentence:The minute this proposal for near-beach oil drilling came up, I was against it. Ground Truth :REAL Predicted:FAKE\n",
      "Sentence:The proposed Gogebic mine in northern Wisconsin could be extended as long as 21 miles. Ground Truth :REAL Predicted:FAKE\n",
      "Sentence:The Richardson-Denish administration gave 50,000 drivers licenses to illegal immigrants in New Mexico. Ground Truth :FAKE Predicted:REAL\n",
      "Sentence:Says the United States actually exports more gasoline, diesel and other fuels than it imported in 2011 for the first time since, I think, 1949. Ground Truth :REAL Predicted:FAKE\n",
      "Sentence:Christian Pastor in Vermont Sentenced to One Year in Prison After Refusing to Marry Gay Couple Ground Truth :FAKE Predicted:REAL\n",
      "Sentence:Rhode Island is the only state where officers at state-supported [colleges] carry out their duties unarmed. Ground Truth :REAL Predicted:FAKE\n",
      "Sentence:It was allowed, referring to her email practices. Ground Truth :FAKE Predicted:REAL\n",
      "Sentence:The law is very clear! 'The monies recouped from the TARP shall be paid into the general fund of the treasury for the reduction of the public debt.' Ground Truth :REAL Predicted:FAKE\n",
      "Sentence:Our veterans, in many cases, are being treated worse than illegal immigrants. Ground Truth :FAKE Predicted:REAL\n",
      "Sentence:Says Paul Ryan tried to change the whole game for Social Security Ground Truth :REAL Predicted:FAKE\n",
      "Sentence:Says Rob Portman was a registered foreign agent whose client was Haiti, at a time when the Baby Doc, Duvalier, who was a despot, was killing people. Ground Truth :FAKE Predicted:REAL\n",
      "Sentence:In 2010, the non-partisan Government Accountability Office found that only 6.5 percent of the U.S.-Mexico border was under full control of the Border Patrol. Ground Truth :REAL Predicted:FAKE\n",
      "Sentence:Not one tax has been raised since Ive been governor. Ground Truth :REAL Predicted:FAKE\n",
      "Sentence:Says 18 states and the District of Columbia have voted Democratic in six consecutive presidential elections. Ground Truth :REAL Predicted:FAKE\n",
      "Sentence:Hidden in the healthcare.gov code is language that means users waive any reasonable right to privacy of your personal information. Ground Truth :FAKE Predicted:REAL\n",
      "Sentence:Most military experts say there is anywhere between 25 and 30 members of al Qaeda in Afghanistan. Ground Truth :FAKE Predicted:REAL\n",
      "Sentence:In Cranston, it costs $5,000 to $6,000 to send out community notifications on just one Level 3 sex offender. Ground Truth :FAKE Predicted:REAL\n",
      "Sentence:While the countrys economy was battered, nine states with no income tax actually grew jobs from 2001 to 2010. Ground Truth :REAL Predicted:FAKE\n",
      "Sentence:The United States is not building the aircraft, the long-range bombers, the additional aircraft carriers, the nuclear submarines. Ground Truth :FAKE Predicted:REAL\n",
      "Sentence:The city of Atlanta has either the highest or second-highest average water bills in the country. Ground Truth :REAL Predicted:FAKE\n",
      "Sentence:Roy Coopers refusal to do his job is costing taxpayers money. Ground Truth :FAKE Predicted:REAL\n",
      "Sentence:Did you know that in 2013 over 50 percent of all babies born in Oregon were Hispanic? Ground Truth :FAKE Predicted:REAL\n",
      "Sentence:We are one of only two states to have eight consecutive months of declining unemployment. Twenty-one states had increased unemployment last month. Ours went down. Ground Truth :REAL Predicted:FAKE\n",
      "Sentence:Barack Obama wants to \"unilaterally disarm our nation.\" Ground Truth :FAKE Predicted:REAL\n",
      "Sentence:Milwaukees problems include 52 percent black male unemployment. Ground Truth :FAKE Predicted:REAL\n",
      "Sentence:Job growth in the United States is now at the fastest pace in this countrys history. Ground Truth :FAKE Predicted:REAL\n",
      "Sentence:When asked about equal pay for women, (Rubios) quote was that it was a waste of time. Ground Truth :REAL Predicted:FAKE\n",
      "Sentence:The State of Rhode Island has the worst state-funded pension in the country. Ground Truth :FAKE Predicted:REAL\n",
      "Sentence:After the 2012 redistricting, Wisconsin has competitive congressional districts. Ground Truth :FAKE Predicted:REAL\n",
      "Sentence:Says hes never asked for more than inflationary budget increases in his 10 budgets as Milwaukee County sheriff Ground Truth :FAKE Predicted:REAL\n",
      "Sentence:Under New York Mayor Bill de Blasio, homicides are up by 20 percent, and subway delays have soared 45 percent. Ground Truth :FAKE Predicted:REAL\n",
      "Sentence:And delivered more tax relief than the other Republicans combined. Ground Truth :REAL Predicted:FAKE\n",
      "Sentence:Says U.S. Rep. Lamar Smith supported the $700 billion Wall Street bailout in 2008, \"but now he is standing in the way of reforms that would assure these bailouts would never happen again. Ground Truth :FAKE Predicted:REAL\n",
      "Sentence:#GradInsurance debacle is a DIRECT result of #ObamaCare. #MIZZOU has to break the law to do the right thing. Ground Truth :REAL Predicted:FAKE\n",
      "Sentence:Ninety-seven percent of the time. Thats how often Mark Warner votes with President Obama. Ground Truth :REAL Predicted:FAKE\n"
     ]
    }
   ],
   "source": [
    "# for loop for printing the false negatives and false positives for FAKE labels\n",
    "for (sentence, true, predicted) in zip(raw_data[0:820], labelsets_val, predictionsets):\n",
    "    if true == 'FAKE':\n",
    "        if predicted == \"REAL\":\n",
    "            print(f'Sentence:{sentence[0]} Ground Truth :{true} Predicted:{predicted}')\n",
    "    elif predicted == \"FAKE\":\n",
    "        print(f'Sentence:{sentence[0]} Ground Truth :{true} Predicted:{predicted}')\n",
    "    "
   ]
  },
  {
   "cell_type": "markdown",
   "metadata": {
    "id": "CBnBh5jMDFq0"
   },
   "source": [
    "# Questions 5 (20%) and 6 (20%) (recommend starting a new notebook)"
   ]
  },
  {
   "cell_type": "code",
   "execution_count": 16,
   "metadata": {
    "colab": {
     "base_uri": "https://localhost:8080/"
    },
    "id": "wQbxtZ_oDFq1",
    "outputId": "6c4d9304-44e0-477c-ed1e-75d67434a57f"
   },
   "outputs": [
    {
     "name": "stdout",
     "output_type": "stream",
     "text": [
      "({'The': 1, 'Bush': 1, 'tax': 1, 'cuts': 1, 'helped': 1, 'to': 1, 'create': 1, 'a': 1, 'substantial': 1, 'part': 1, 'of': 1, 'the': 1, 'deficit': 1, '.': 1}, 'REAL')\n",
      "Training Classifier...\n",
      "Done training!\n",
      "Precision: 0.568167\n",
      "Recall: 0.568570\n",
      "F Score:0.568355\n"
     ]
    }
   ],
   "source": [
    "# Finally, check the accuracy of your classifier by training on all the traning data\n",
    "# and testing on the test set\n",
    "# Will only work once all functions are complete\n",
    "functions_complete = True  # set to True once you're happy with your methods for cross val\n",
    "if functions_complete:\n",
    "    print(test_data[0])   # have a look at the first test data instance\n",
    "    classifier = train_classifier(train_data)  # train the classifier\n",
    "    test_true = [t[1] for t in test_data]   # get the ground-truth labels from the data\n",
    "    test_pred = predict_labels([x[0] for x in test_data], classifier)  # classify the test data to get predicted labels\n",
    "    final_scores = precision_recall_fscore_support(test_true, test_pred, average='weighted') # evaluate\n",
    "    print(\"Done training!\")\n",
    "    print(\"Precision: %f\\nRecall: %f\\nF Score:%f\" % final_scores[:3])"
   ]
  },
  {
   "cell_type": "code",
   "execution_count": null,
   "metadata": {
    "id": "GQiAYGxLDFq3"
   },
   "outputs": [],
   "source": []
  },
  {
   "cell_type": "code",
   "execution_count": null,
   "metadata": {
    "id": "dJ_e8NJm3cN4"
   },
   "outputs": [],
   "source": []
  }
 ],
 "metadata": {
  "colab": {
   "collapsed_sections": [],
   "provenance": []
  },
  "kernelspec": {
   "display_name": "Python 3",
   "language": "python",
   "name": "python3"
  },
  "language_info": {
   "codemirror_mode": {
    "name": "ipython",
    "version": 3
   },
   "file_extension": ".py",
   "mimetype": "text/x-python",
   "name": "python",
   "nbconvert_exporter": "python",
   "pygments_lexer": "ipython3",
   "version": "3.10.1"
  },
  "vscode": {
   "interpreter": {
    "hash": "d4d56b11868b7f83b239dc9ca67dc937a1e7d69ab7a98e1bb203d4bd78a513b8"
   }
  }
 },
 "nbformat": 4,
 "nbformat_minor": 4
}
