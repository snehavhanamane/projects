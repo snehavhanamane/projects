{
  "nbformat": 4,
  "nbformat_minor": 0,
  "metadata": {
    "colab": {
      "provenance": [],
      "collapsed_sections": [
        "nASRb3xWeEd0"
      ]
    },
    "kernelspec": {
      "name": "python3",
      "display_name": "Python 3"
    },
    "language_info": {
      "name": "python"
    }
  },
  "cells": [
    {
      "cell_type": "markdown",
      "source": [
        "# 1 Author\n",
        "\n",
        "**Student Name**: Sneha Gadade \n",
        "\n",
        "**Student ID**:  220798659\n"
      ],
      "metadata": {
        "id": "_HZ3IYSHc4Ri"
      }
    },
    {
      "cell_type": "markdown",
      "source": [
        "# 2 Problem formulation\n",
        "\n",
        "Using the MLEnd London Sounds dataset, build a machine learning pipeline that takes as an input an audio segment and predicts whether the audio segment has been recorded indoors or outdoors."
      ],
      "metadata": {
        "id": "UI_IT62rdyjY"
      }
    },
    {
      "cell_type": "markdown",
      "source": [
        "# 3 Machine Learning pipeline\n",
        "\n",
        "Describe your ML pipeline. Clearly identify its input and output, any intermediate stages (for instance, transformation -> models), and intermediate data moving from one stage to the next. It's up to you to decide which stages to include in your pipeline. \n",
        "\n",
        "**Data preparation pipeline:**\n",
        "\n",
        "We will define a class **PreprocAndFeatureExtraction** to extract features from all audio files. How these features are extracted is explained in **Transformation Stage**\n",
        "\n",
        "**Feature selection:**\n",
        "\n",
        "So from the extracted features, not all features are necessary to train the model. How these features are selected  is explained in **Feature Selection** section\n",
        "\n",
        "**ML pipeline:**\n",
        "\n",
        "ML pipeline is built after confirming following steps. \n",
        "\n",
        "At each step we will use cross validation using 7-Folds.\n",
        "\n",
        "**Step 1:**\n",
        "We will check training accuracy and validation accuracy for all folds using multiple models without hyperparameter tuning.\n",
        "\n",
        "**Step 2:**\n",
        "After step 1, we will perform hyperparameter tuning manually for all models to get best hyperparameter. The hyperparameters mentioned in **Hyperparameter Tuning(Manual)** Section are already tuned.\n",
        "\n",
        "**Step 3:**\n",
        "Based on training accuracy and validation accuracy in step 2, we will select top 3 best performing models and **combine the predictions** using **VotingClassifier** from scikit-learn.\n",
        "\n",
        "**Prediction Pipeline:**\n",
        "\n",
        "In the **Predicting on new audio samples** section, we will define **PredictSurrounding** class. **predictOnAudio** method in this class takes audio sample path as **input** and predicts wether the audio is recorded in **Indoor** surrounding or **Outdoor** surrounding"
      ],
      "metadata": {
        "id": "qaXFrmVSdzpg"
      }
    },
    {
      "cell_type": "markdown",
      "source": [
        "# 4 Transformation stage\n",
        "\n",
        "Describe any transformations, such as feature extraction. Identify input and output. Explain why you have chosen this transformation stage."
      ],
      "metadata": {
        "id": "iYefFWIxd9r6"
      }
    },
    {
      "cell_type": "markdown",
      "source": [
        "Extraction of features is a very important part in analyzing and finding relations between different things. The data provided of audio cannot be understood by the models directly to convert them into an understandable format feature extraction is used."
      ],
      "metadata": {
        "id": "0Uv5wApFu9uO"
      }
    },
    {
      "cell_type": "markdown",
      "source": [
        "We are goining to extract following features from the audio.\n",
        "\n",
        "4 features from (Power, Pitch Mean, Pitch Standard deviation, Voiced Frequency), 49 features from Amplitude features through histogram, 1 feature from Zero crossing rate ratio, 5 features from Spectral centroid (mean,standard deviation, quintile(0.25, 0.50, 0.75)), 5 features from Spectral rolloff and 20 features from MFCC.\n",
        "Total number of features to be extracted are 84.\n",
        "\n"
      ],
      "metadata": {
        "id": "8fbtOFdZvOmN"
      }
    },
    {
      "cell_type": "markdown",
      "source": [
        "**Power, Pitch Mean, Pitch Standard deviation, Voiced Frequency**\n",
        "Audio files are complex data types. Specifically they are discrete signals or time series, consisting of values on a 1D temporal grid. These values are known as samples themselves. The sampling frequency is the rate at which samples in an audio file are produced. For instance a sampling frequency of 5HZ indicates that 5 produce 5 samples per second, or 1 sample every 0.2 s.\n"
      ],
      "metadata": {
        "id": "3cNML0DU1_i4"
      }
    },
    {
      "cell_type": "code",
      "source": [
        "\n",
        "from google.colab import drive\n",
        "\n",
        "import numpy as np\n",
        "import pandas as pd\n",
        "import matplotlib.pyplot as plt\n",
        "\n",
        "import os, sys, re, pickle, glob\n",
        "import urllib.request\n",
        "import zipfile\n",
        "\n",
        "import IPython.display as ipd\n",
        "from tqdm import tqdm\n",
        "import librosa\n",
        "import sklearn\n",
        "import seaborn as sns\n",
        "from sklearn import preprocessing\n",
        "from sklearn.feature_selection import SelectKBest\n",
        "from sklearn.feature_selection import f_classif\n",
        "\n",
        "import warnings\n",
        "warnings.simplefilter(\"ignore\")\n",
        "\n",
        "drive.mount('/content/drive')"
      ],
      "metadata": {
        "id": "BZTFk4SZxAj7",
        "colab": {
          "base_uri": "https://localhost:8080/"
        },
        "outputId": "0be849fd-0b79-43bb-c073-decd78c9dab4"
      },
      "execution_count": 1,
      "outputs": [
        {
          "output_type": "stream",
          "name": "stdout",
          "text": [
            "Drive already mounted at /content/drive; to attempt to forcibly remount, call drive.mount(\"/content/drive\", force_remount=True).\n"
          ]
        }
      ]
    },
    {
      "cell_type": "markdown",
      "source": [
        "Describing all the feature extraction process and the reason for that feature extraction on one sample audio."
      ],
      "metadata": {
        "id": "xmHENG0dopuw"
      }
    },
    {
      "cell_type": "code",
      "source": [
        "sample_audio, fs = librosa.load('/content/drive/MyDrive/Data/MLEndLS/raw_audio/0001.wav', sr=44100 )"
      ],
      "metadata": {
        "id": "NnvJ3Li0wkAo"
      },
      "execution_count": 2,
      "outputs": []
    },
    {
      "cell_type": "markdown",
      "source": [
        "**Amplitude Features extracted using Histogram.**\n",
        "\n",
        "Firstly, we will rescale the amplitude between 0-100. Then writing the function extract_sample_amplitude_features to extract the features from passed audio and get an array of features. the bins are defined as (0,100,2)\n",
        "Showing how it works by taking one sample audio and extracting the features and plotting the histogram where it takes rescaled amplitude on x axis and density of all the amplitude present in that bin on y-axis.\n"
      ],
      "metadata": {
        "id": "dRBAf7Mmpb8i"
      }
    },
    {
      "cell_type": "code",
      "source": [
        "def rescale_sample_amplitude(x):\n",
        "    # rescale amplitude in 0-100\n",
        "    return np.around((x - x.min())/(x.max()-x.min())*100)\n",
        "\n",
        "def extract_sample_amplitude_features(x):\n",
        "    # extracting features from rescaled amplitude values of a histogram with fixed bins. \n",
        "    bins = list(range(0,100,2))\n",
        "    amplitude_features, _ = np.histogram(rescale_sample_amplitude(x), bins = bins, density = True)\n",
        "    return amplitude_features"
      ],
      "metadata": {
        "id": "bxL9LTi8xuvt"
      },
      "execution_count": 3,
      "outputs": []
    },
    {
      "cell_type": "code",
      "source": [
        "hist_features = extract_sample_amplitude_features(sample_audio)"
      ],
      "metadata": {
        "id": "L3G7MiJ9xBN4"
      },
      "execution_count": 4,
      "outputs": []
    },
    {
      "cell_type": "markdown",
      "source": [
        "Sample audio is passed through funnction extract_sample_amplitude_features and we get an array of amplitude features. \n",
        "\n"
      ],
      "metadata": {
        "id": "t0HS5f_2spKV"
      }
    },
    {
      "cell_type": "code",
      "source": [
        "hist_features"
      ],
      "metadata": {
        "colab": {
          "base_uri": "https://localhost:8080/"
        },
        "id": "F-KQbvW-yB86",
        "outputId": "56d195ae-88f5-4e87-f0d8-ce4418c87b58"
      },
      "execution_count": 5,
      "outputs": [
        {
          "output_type": "execute_result",
          "data": {
            "text/plain": [
              "array([7.09360724e-06, 3.54680362e-06, 1.18226787e-06, 5.91133937e-06,\n",
              "       1.18226787e-05, 1.89162860e-05, 1.30049466e-05, 2.95566968e-05,\n",
              "       6.02956615e-05, 1.26502662e-04, 1.25320395e-04, 2.13990485e-04,\n",
              "       3.28670469e-04, 5.04828382e-04, 6.98720313e-04, 1.18581468e-03,\n",
              "       1.72138202e-03, 2.48749161e-03, 4.12493261e-03, 6.07331007e-03,\n",
              "       8.79607298e-03, 1.25876060e-02, 1.70518495e-02, 2.33758004e-02,\n",
              "       2.93261546e-02, 3.55318787e-02, 4.11559269e-02, 4.46672625e-02,\n",
              "       4.64524870e-02, 4.48493318e-02, 4.16548440e-02, 3.46877394e-02,\n",
              "       2.83791580e-02, 2.24264393e-02, 1.71464310e-02, 1.21442556e-02,\n",
              "       8.04060381e-03, 5.33321038e-03, 3.31980819e-03, 1.99803271e-03,\n",
              "       1.27921384e-03, 8.15764833e-04, 4.90641168e-04, 3.12118719e-04,\n",
              "       2.13990485e-04, 1.12315448e-04, 6.97538045e-05, 2.24630896e-05,\n",
              "       1.65517502e-05])"
            ]
          },
          "metadata": {},
          "execution_count": 5
        }
      ]
    },
    {
      "cell_type": "markdown",
      "source": [
        "From histogram we are able to observe that near bin 58-60 and 60-62 the dinsity is high. Hence for all the audios this value differs and we get an important feature to distinguish which audio is indoors and outdoors."
      ],
      "metadata": {
        "id": "86wBVktCsTGM"
      }
    },
    {
      "cell_type": "code",
      "source": [
        "import matplotlib.pyplot as plt\n",
        "n, bins, patches = plt.hist(rescale_sample_amplitude(sample_audio), bins= list(range(0,100,2)), density=True)"
      ],
      "metadata": {
        "colab": {
          "base_uri": "https://localhost:8080/",
          "height": 265
        },
        "id": "ROAcucAs3g_I",
        "outputId": "63452876-8c67-4d9a-a4e1-ab666ea82fd8"
      },
      "execution_count": 6,
      "outputs": [
        {
          "output_type": "display_data",
          "data": {
            "text/plain": [
              "<Figure size 432x288 with 1 Axes>"
            ],
            "image/png": "[encoded data removed]"
          },
          "metadata": {
            "needs_background": "light"
          }
        }
      ]
    },
    {
      "cell_type": "markdown",
      "source": [
        "**Zero crossing rate ratio**\n",
        "\n",
        "The zero crossing rate is the rate of sign-changes along a signal, i.e., the rate at which the signal changes from positive to negative or back. This feature has been used heavily in both speech recognition and music information retrieval. It usually has higher values for highly percussive sounds. We have to normalize the value, as the length of the  audio differes from the each other. As we have to compair these values they must be in same range. hence taking the ratio of the zero crossing rate with the length of the sample.\n",
        "\n",
        "\n"
      ],
      "metadata": {
        "id": "_SA01mBfvIqx"
      }
    },
    {
      "cell_type": "code",
      "source": [
        "def extract_zero_crossings_sample_ratio_features(x):\n",
        "        \n",
        "        zero_crossings = librosa.zero_crossings(x, pad=False)\n",
        "        ratio = sum(zero_crossings)/float(x.shape[0])\n",
        "        return np.array([ratio])"
      ],
      "metadata": {
        "id": "ESBJxxC4xaDB"
      },
      "execution_count": 7,
      "outputs": []
    },
    {
      "cell_type": "code",
      "source": [
        "zero_Crossing= extract_zero_crossings_sample_ratio_features(sample_audio)\n",
        "zero_Crossing"
      ],
      "metadata": {
        "colab": {
          "base_uri": "https://localhost:8080/"
        },
        "id": "9IsPYA9wyDQh",
        "outputId": "118f6b88-17b7-4088-9133-27b2dde84ff8"
      },
      "execution_count": 8,
      "outputs": [
        {
          "output_type": "execute_result",
          "data": {
            "text/plain": [
              "array([0.04526872])"
            ]
          },
          "metadata": {},
          "execution_count": 8
        }
      ]
    },
    {
      "cell_type": "markdown",
      "source": [
        "**Spectral centroid**\n",
        "\n",
        "It indicates where the ”centre of mass” for a sound is located and is calculated as the weighted mean of the frequencies present in the sound. If the frequencies in audio are same throughout then spectral centroid would be around a centre and if there are high frequencies at the end of sound then the centroid would be towards its end."
      ],
      "metadata": {
        "id": "-kmkULGwxPts"
      }
    },
    {
      "cell_type": "code",
      "source": [
        "def sample_normalize(x, axis=0):\n",
        "    return sklearn.preprocessing.minmax_scale(x, axis=axis)\n",
        "\n",
        "def features_from_sample_spectral_centroids(x, sr):\n",
        "    spectral_centroids = librosa.feature.spectral_centroid(x, sr=44100)[0]\n",
        "    #before calculating the mean std and quantile we have to normalize the spectral centroid. \n",
        "    spectral_centroids = sample_normalize(spectral_centroids)\n",
        "    spectral_centroids_mean = np.mean(spectral_centroids)\n",
        "    spectral_centroids_std = np.std(spectral_centroids)\n",
        "    spectral_centroids_quantiles = np.quantile(spectral_centroids, [0.25, 0.5, 0.75])\n",
        "    # using .concatenate to make an one array \n",
        "    return np.concatenate((np.array([spectral_centroids_mean, spectral_centroids_std]), spectral_centroids_quantiles))"
      ],
      "metadata": {
        "id": "NIt2ub6F8bQh"
      },
      "execution_count": 9,
      "outputs": []
    },
    {
      "cell_type": "markdown",
      "source": [
        "When audio is passed through the function features_from_sample_spectral_centroids we will get an array of 5 values first is the mean followed by standard deviation then the quantile of 0.25, 0.50, 0.75. Calculating the quantile so that we get features from 25 to 75 quantile only, so that no outliers are considered while extracting the features.\n",
        "    "
      ],
      "metadata": {
        "id": "6YmIfQ-n_I6c"
      }
    },
    {
      "cell_type": "code",
      "source": [
        "features_from_sample_spectral_centroids(sample_audio, sr=44100)"
      ],
      "metadata": {
        "id": "rdnqgC2JvN3P",
        "colab": {
          "base_uri": "https://localhost:8080/"
        },
        "outputId": "604c9328-013b-425b-dedb-aab396e46d82"
      },
      "execution_count": 10,
      "outputs": [
        {
          "output_type": "execute_result",
          "data": {
            "text/plain": [
              "array([0.49479663, 0.18647137, 0.36965395, 0.5131242 , 0.61321153])"
            ]
          },
          "metadata": {},
          "execution_count": 10
        }
      ]
    },
    {
      "cell_type": "markdown",
      "source": [
        "**Spectral rolloff**\n",
        "\n",
        "Spectral rolloff is the frequency below which a specified percentage of the total spectral energy, e.g. 75%, lies. It also gives results for each frame."
      ],
      "metadata": {
        "id": "2N4fg7OANgh6"
      }
    },
    {
      "cell_type": "code",
      "source": [
        "def features_from_spectral_rolloff(x, sr):\n",
        "    spectral_rolloff = librosa.feature.spectral_rolloff(x, sr=sr)[0]\n",
        "    spectral_rolloff = normalize(spectral_rolloff)\n",
        "    spectral_rolloff_mean = np.mean(spectral_rolloff)\n",
        "    spectral_rolloff_std = np.std(spectral_rolloff)\n",
        "    spectral_rolloff_quantiles = np.quantile(spectral_rolloff, [0.25, 0.5, 0.75])\n",
        "    return np.concatenate((np.array([spectral_rolloff_mean, spectral_rolloff_std]), spectral_rolloff_quantiles))"
      ],
      "metadata": {
        "id": "d81hdbc6OM-m"
      },
      "execution_count": 11,
      "outputs": []
    },
    {
      "cell_type": "markdown",
      "source": [
        "**MFCC — Mel-Frequency Cepstral Coefficients**\n",
        "\n",
        "This feature is one of the most important method to extract a feature of an audio signal and is used majorly whenever working on audio signals. The mel frequency cepstral coefficients (MFCCs) of a signal are a small set of features (usually about 10–20) which concisely describe the overall shape of a spectral envelope.\n",
        "\n",
        ".mfcc is used to calculate mfccs of a signal.\n"
      ],
      "metadata": {
        "id": "zo3NWc8CtNJw"
      }
    },
    {
      "cell_type": "code",
      "source": [
        "def features_from_sample_mfcc(x):\n",
        "        mfccs = librosa.feature.mfcc(x, sr=44100)\n",
        "        mfcc_sample_features = np.mean(mfccs, axis=1)\n",
        "        return mfcc_sample_features"
      ],
      "metadata": {
        "id": "ZLafLMagu7_x"
      },
      "execution_count": 12,
      "outputs": []
    },
    {
      "cell_type": "code",
      "source": [
        "mfcc_sample = features_from_sample_mfcc(sample_audio) \n",
        "mfcc_sample"
      ],
      "metadata": {
        "colab": {
          "base_uri": "https://localhost:8080/"
        },
        "id": "cSpZ2KRIzwB2",
        "outputId": "f6f359f8-93ea-47c2-8dfc-044726c32adf"
      },
      "execution_count": 13,
      "outputs": [
        {
          "output_type": "execute_result",
          "data": {
            "text/plain": [
              "array([-2.4140570e+02,  1.5507394e+02, -3.4950432e+01,  4.7682121e+01,\n",
              "       -3.8543890e+00,  2.7368311e+01, -2.0701797e+00,  2.2997143e+01,\n",
              "       -9.3506088e+00,  1.5785603e+01,  1.6699475e+00,  3.7509654e+00,\n",
              "        8.1164949e-03,  7.9330955e+00, -3.2082958e+00, -1.7620677e-01,\n",
              "        7.7564955e+00, -8.2732630e+00,  1.6583691e+01, -8.9274712e+00],\n",
              "      dtype=float32)"
            ]
          },
          "metadata": {},
          "execution_count": 13
        }
      ]
    },
    {
      "cell_type": "markdown",
      "source": [
        "# 5 Modelling\n",
        "\n",
        "\n",
        "\n",
        "Using following models:\n",
        "Logistic Regression, Linear SVC, SVC, K-Neighbors Classifier,\n",
        "Random Forest Classifier, Gradient Boosing Classifier, Gaussian Naive Baye.\n",
        "\n",
        "The maximum accuracy is coming from SVC classifier, but to increase accuracy we are combining the top 3 prediction in **ensemble** This combines top 3 model's predictions hence increases the overall accuracy."
      ],
      "metadata": {
        "id": "p5EwF5eZeBX2"
      }
    },
    {
      "cell_type": "markdown",
      "source": [
        "# 6 Methodology\n",
        "\n",
        "\n",
        "When we are training our models we are using 7 fold cross validation.\n",
        "During each fold we are calculating tarining and validation accuracy. We take mean of these taraining and validation accuracies to get final training and validation accuracy. Finally, each model is tuned(Hyperparameter Tuning) and cross validated using this method.\n",
        "\n",
        "After observing the performance of tunned models, we select 3 best performing models to combine the predictions. For this combine of predictions we use same cross validation strategy to obtain final training and valudation accuracy.\n",
        "\n",
        "\n"
      ],
      "metadata": {
        "id": "nASRb3xWeEd0"
      }
    },
    {
      "cell_type": "markdown",
      "source": [
        "# 7 Dataset\n",
        "\n",
        "\n",
        "We will ectract all the audio samples from provided zip files to raw_audio folder. **save_training_data** method in **PreprocAndFeatureExtraction** class extracts features and saves **data.csv** file in data folder on google drive. We can use this file in basic as well as advanced section.\n",
        "We will use all audio files to extract features where it is possible. For some files, we get an error while extracting features. These corrupted files are automatically handled using exception handling in Python.  "
      ],
      "metadata": {
        "id": "MxUXe_vueJSO"
      }
    },
    {
      "cell_type": "markdown",
      "source": [
        "Loading a few useful Python libraries and mounting our personal Google Drive storage system "
      ],
      "metadata": {
        "id": "v4EkFbxU_dj-"
      }
    },
    {
      "cell_type": "markdown",
      "source": [
        "Defining base path "
      ],
      "metadata": {
        "id": "P9iKAzRM_18K"
      }
    },
    {
      "cell_type": "code",
      "source": [
        "BASE_PATH = '/content/drive/MyDrive/Data/MLEndLS/'"
      ],
      "metadata": {
        "id": "AYTGo2zAWPOo"
      },
      "execution_count": 14,
      "outputs": []
    },
    {
      "cell_type": "code",
      "source": [
        "#listing the MLEndLS zip files \n",
        "ZIP_FILES = [\"MLEndLS_1.zip\", \"MLEndLS_2.zip\", \"MLEndLS_3.zip\", \"MLEndLS_4.zip\", \"MLEndLS_5.zip\" ]"
      ],
      "metadata": {
        "id": "Ec6Z5YZiMpbC"
      },
      "execution_count": 15,
      "outputs": []
    },
    {
      "cell_type": "code",
      "source": [
        "#to get consistent features defining the sampling rate.Default sr is 22kHz. We can override the sr by\n",
        "SAMPLING_RATE = 44100"
      ],
      "metadata": {
        "id": "80YYayrHQwML"
      },
      "execution_count": 16,
      "outputs": []
    },
    {
      "cell_type": "code",
      "source": [
        "#listing the column names \n",
        "LABEL_COLUMN_NAMES = [\"area\", \"spot\", \"in_out\"]"
      ],
      "metadata": {
        "id": "iRspqT86613c"
      },
      "execution_count": 17,
      "outputs": []
    },
    {
      "cell_type": "markdown",
      "source": [
        "Data preparation and feature extraction\n"
      ],
      "metadata": {
        "id": "oGl3Q9-XTv5V"
      }
    },
    {
      "cell_type": "markdown",
      "source": [
        "creating a class which consist of functions which are required for preprocessing, feature extraction and to save the extracted features in a .csv file."
      ],
      "metadata": {
        "id": "05E6kEcwAfdG"
      }
    },
    {
      "cell_type": "markdown",
      "source": [],
      "metadata": {
        "id": "DhYhnSbAA-qT"
      }
    },
    {
      "cell_type": "code",
      "source": [
        "class PreprocAndFeatureExtraction:\n",
        "    def __init__(self, base_path, zip_files, sampling_rate, label_column_names= None, unzip_data=False): #Unzip=True unzips all files to raw_audio folder in google drive\n",
        "        self.basePath = base_path\n",
        "        self.zipFiles = zip_files\n",
        "        self.labelsDF = pd.read_csv(self.basePath + 'MLEndLS.csv')\n",
        "        self.labelsDFColumns = list(self.labelsDF.columns)\n",
        "        self.fileIDs = self.labelsDF[\"file_id\"].to_numpy().tolist()\n",
        "        \n",
        "        self.samplingRate = sampling_rate\n",
        "        self.winLen = 0.02\n",
        "        self.bins = list(range(0,100,2))\n",
        "        self.unzipData = unzip_data\n",
        "        self.featureColumnNames = [\"feature_power\",\"feature_pitch_mean\",\"feature_pitch_std\",\"feature_voiced_fr\"] + [f\"feature_hist_{x}\" for x in range(len(self.bins)-1)] + [\"feature_zero_crossings_ratio\"] + [f\"feature_spectral_centroid_{x}\" for x in range(0,5,1)] + [f\"feature_spectral_rolloff_{x}\" for x in range(0,5,1)] + [f\"feature_MFCC_{x}\" for x in range(0,20,1)]\n",
        "        if label_column_names:\n",
        "            self.labelColumnNames = label_column_names\n",
        "            self.labelColumnsIndexes = [self.labelsDFColumns.index(x) for x in self.labelColumnNames]\n",
        "        \n",
        "        else:\n",
        "            self.labelColumnNames = None\n",
        "        if self.unzipData:\n",
        "            for zip_filepath in tqdm(self.zipFiles):\n",
        "                with zipfile.ZipFile(self.basePath + zip_filepath, 'r') as zip_ref:\n",
        "                    zip_ref.extractall(self.basePath + 'raw_audio/')\n",
        "    \n",
        "    def getPitch(self, x):\n",
        "        #winLen = 0.02\n",
        "        p = self.winLen*self.samplingRate\n",
        "        frame_length = int(2**int(p-1).bit_length())\n",
        "        hop_length = frame_length//2\n",
        "        f0, voiced_flag, voiced_probs = librosa.pyin(y=x, fmin=80, fmax=450, sr=self.samplingRate,\n",
        "                                                 frame_length=frame_length,hop_length=hop_length)\n",
        "        return f0,voiced_flag\n",
        "\n",
        "    def rescale_amplitude(self, x):\n",
        "        # rescale amplitude in 0-100\n",
        "        return np.around((x - x.min())/(x.max()-x.min())*100)\n",
        "\n",
        "    def normalize(self, x, axis=0):\n",
        "        return sklearn.preprocessing.minmax_scale(x, axis=axis)    \n",
        "\n",
        "    def features_power_pitch_voicedFr(self, x):\n",
        "        x = x/np.max(np.abs(x))\n",
        "        f0, voiced_flag = self.getPitch(x)\n",
        "        power = np.sum(x**2)/len(x)\n",
        "        pitch_mean = np.nanmean(f0) if np.mean(np.isnan(f0))<1 else 0\n",
        "        pitch_std  = np.nanstd(f0) if np.mean(np.isnan(f0))<1 else 0\n",
        "        voiced_fr = np.mean(voiced_flag)\n",
        "        return np.array([power,pitch_mean,pitch_std,voiced_fr])     \n",
        "\n",
        "    def extract_amplitude_features(self, x):\n",
        "        #extracting features from rescaled amplitude values of a histogram with fixed bins.\n",
        "        amplitude_features, _ = np.histogram( self.rescale_amplitude(x), bins = self.bins, density = True)\n",
        "        return amplitude_features       \n",
        "    \n",
        "    def extract_zero_crossings_ratio_features(self, x):\n",
        "        zero_crossings = librosa.zero_crossings(x, pad=False)\n",
        "        ratio = sum(zero_crossings)/float(x.shape[0])\n",
        "        return np.array([ratio])\n",
        "\n",
        "    def features_from_spectral_centroids(self, x):\n",
        "        spectral_centroids = librosa.feature.spectral_centroid(x, sr= self.samplingRate)[0]\n",
        "        spectral_centroids = self.normalize(spectral_centroids)\n",
        "        spectral_centroids_mean = np.mean(spectral_centroids)\n",
        "        spectral_centroids_std = np.std(spectral_centroids)\n",
        "        spectral_centroids_quantiles = np.quantile(spectral_centroids, [0.25, 0.5, 0.75])\n",
        "        return np.concatenate((np.array([spectral_centroids_mean, spectral_centroids_std]), spectral_centroids_quantiles))    \n",
        "\n",
        "    def features_from_spectral_rolloff(self, x):\n",
        "        spectral_rolloff = librosa.feature.spectral_rolloff(x, sr=self.samplingRate)[0]\n",
        "        spectral_rolloff = self.normalize(spectral_rolloff)\n",
        "        spectral_rolloff_mean = np.mean(spectral_rolloff)\n",
        "        spectral_rolloff_std = np.std(spectral_rolloff)\n",
        "        spectral_rolloff_quantiles = np.quantile(spectral_rolloff, [0.25, 0.5, 0.75])\n",
        "        return np.concatenate((np.array([spectral_rolloff_mean, spectral_rolloff_std]), spectral_rolloff_quantiles))    \n",
        "    \n",
        "\n",
        "    def features_from_mfcc(self, x):\n",
        "        mfccs = librosa.feature.mfcc(x, sr=self.samplingRate)\n",
        "        mfcc_features = np.mean(mfccs, axis=1)\n",
        "        return mfcc_features\n",
        "\n",
        "    def save_training_data(self):\n",
        "        file_ids = []\n",
        "        participant_ids = []\n",
        "        corrupt_files = []\n",
        "        features = []\n",
        "        labels = []\n",
        "        for index in tqdm(range(self.labelsDF.shape[0])):\n",
        "            filename = self.labelsDF.iloc[index,self.labelsDFColumns.index(\"file_id\")]\n",
        "            participant_ID = self.labelsDF.iloc[index,self.labelsDFColumns.index(\"Participant\")]\n",
        "            try:\n",
        "                audio, _ = librosa.load(self.basePath + 'raw_audio/' + filename, sr= self.samplingRate)\n",
        "                \n",
        "                if self.labelColumnNames:\n",
        "                    label = self.labelsDF.iloc[index, self.labelColumnsIndexes]\n",
        "                power_pitch_voice_features = self.features_power_pitch_voicedFr(audio)\n",
        "                hist_features = self.extract_amplitude_features(audio)\n",
        "                zero_crossing_features = self.extract_zero_crossings_ratio_features(audio)\n",
        "                spectral_centroid_features = self.features_from_spectral_centroids(audio)\n",
        "                spectral_rolloff_features = self.features_from_spectral_rolloff(audio)\n",
        "                mfcc_features = self.features_from_mfcc(audio)\n",
        "                file_ids.append(filename)\n",
        "                participant_ids.append(participant_ID)\n",
        "                features.append(np.concatenate((power_pitch_voice_features, hist_features, zero_crossing_features, spectral_centroid_features, spectral_rolloff_features, mfcc_features)))\n",
        "                if self.labelColumnNames:\n",
        "                    labels.append(label)\n",
        "            except Exception:\n",
        "                corrupt_files.append(filename)\n",
        "                pass\n",
        "        \n",
        "        if labels:\n",
        "            data_df = pd.DataFrame(np.concatenate((np.array(features), np.array(labels)), axis=1))\n",
        "            data_df.columns =  self.featureColumnNames + self.labelColumnNames\n",
        "        else:\n",
        "            data_df = pd.DataFrame(np.array(features))\n",
        "            data_df.columns =  self.featureColumnNames\n",
        "        print(f\"\\nFollowing are the corrupted files : {corrupt_files}\")\n",
        "        \n",
        "        data_df[\"file_id\"] = file_ids\n",
        "        data_df[\"Participant\"] = participant_ids\n",
        "        data_df.set_index(\"file_id\", inplace=True)\n",
        "        print(f\"Saving data.csv at location: {self.basePath+ 'data/data.csv'}\")\n",
        "        data_df.to_csv(self.basePath+\"data/data.csv\")\n",
        "        print(\"data.csv file saved successfully!\")\n",
        "        "
      ],
      "metadata": {
        "id": "LtnfHD6N718s"
      },
      "execution_count": 18,
      "outputs": []
    },
    {
      "cell_type": "code",
      "source": [
        "feature_extractor = PreprocAndFeatureExtraction(base_path = BASE_PATH, zip_files= ZIP_FILES, sampling_rate= SAMPLING_RATE, label_column_names=LABEL_COLUMN_NAMES, unzip_data=False)"
      ],
      "metadata": {
        "id": "-k_9E4Yrabna"
      },
      "execution_count": 19,
      "outputs": []
    },
    {
      "cell_type": "code",
      "source": [
        "#uncomment when required   \n",
        "#feature_extractor.save_training_data()"
      ],
      "metadata": {
        "id": "saqu-39abGJl"
      },
      "execution_count": 20,
      "outputs": []
    },
    {
      "cell_type": "markdown",
      "source": [
        "# FEATURE EXPLORATION"
      ],
      "metadata": {
        "id": "h_nDMbinBdSk"
      }
    },
    {
      "cell_type": "markdown",
      "source": [
        "After feature extraction, we create a dataframe with NxM size, where, N = \n",
        "Number of samples(corrupted excluded) and M= number of features. Finally, save this dataframe in csv files\n"
      ],
      "metadata": {
        "id": "odkyUTXJI9mU"
      }
    },
    {
      "cell_type": "code",
      "source": [
        "data_df = pd.read_csv('/content/drive/MyDrive/Data/MLEndLS/data/data.csv')"
      ],
      "metadata": {
        "id": "TeDArNt9Bd-4"
      },
      "execution_count": 21,
      "outputs": []
    },
    {
      "cell_type": "code",
      "source": [
        "data_df.shape"
      ],
      "metadata": {
        "colab": {
          "base_uri": "https://localhost:8080/"
        },
        "id": "liwHbChcCIjm",
        "outputId": "a594809c-d1df-4de3-a70a-7a9b7631e0d2"
      },
      "execution_count": 22,
      "outputs": [
        {
          "output_type": "execute_result",
          "data": {
            "text/plain": [
              "(2498, 89)"
            ]
          },
          "metadata": {},
          "execution_count": 22
        }
      ]
    },
    {
      "cell_type": "code",
      "source": [
        "data_df.head()"
      ],
      "metadata": {
        "colab": {
          "base_uri": "https://localhost:8080/",
          "height": 299
        },
        "id": "fq8doGk5C9Hz",
        "outputId": "3c871a4e-8347-48de-c762-53734e0025d7"
      },
      "execution_count": 23,
      "outputs": [
        {
          "output_type": "execute_result",
          "data": {
            "text/plain": [
              "    file_id  feature_power  feature_pitch_mean  feature_pitch_std  \\\n",
              "0  0001.wav       0.026341           86.945514           2.278420   \n",
              "1  0002.wav       0.010308          193.033652          34.995743   \n",
              "2  0003.wav       0.005994          118.204789          13.032931   \n",
              "3  0004.wav       0.016374          127.450592          18.197021   \n",
              "4  0005.wav       0.002628          160.158646          25.790774   \n",
              "\n",
              "   feature_voiced_fr  feature_hist_0  feature_hist_1  feature_hist_2  \\\n",
              "0           0.016929        0.000007        0.000004        0.000001   \n",
              "1           0.131796        0.000006        0.000010        0.000011   \n",
              "2           0.053735        0.000012        0.000024        0.000019   \n",
              "3           0.105263        0.000004        0.000001        0.000006   \n",
              "4           0.067073        0.000006        0.000020        0.000044   \n",
              "\n",
              "   feature_hist_3  feature_hist_4  ...  feature_MFCC_14  feature_MFCC_15  \\\n",
              "0        0.000006        0.000012  ...        -3.208296        -0.176207   \n",
              "1        0.000016        0.000013  ...        -2.241410        -6.907155   \n",
              "2        0.000009        0.000010  ...         1.312150        16.873102   \n",
              "3        0.000013        0.000037  ...        -3.125193        -3.332724   \n",
              "4        0.000054        0.000059  ...        -3.904656        -4.678980   \n",
              "\n",
              "   feature_MFCC_16  feature_MFCC_17  feature_MFCC_18  feature_MFCC_19  \\\n",
              "0         7.756495        -8.273263        16.583691        -8.927471   \n",
              "1         7.761998        -5.321468        -0.472251         3.177591   \n",
              "2       -15.021708         3.989271         0.975474        -7.571914   \n",
              "3        -7.483416        -2.683595        -6.539318         1.335392   \n",
              "4         0.059519        -1.126336        -2.390231        -3.384028   \n",
              "\n",
              "         area      spot   in_out  Participant  \n",
              "0     british    street  outdoor         S151  \n",
              "1  kensington  dinosaur   indoor         S127  \n",
              "2      campus    square  outdoor          S18  \n",
              "3  kensington    hintze   indoor         S179  \n",
              "4      campus    square  outdoor         S176  \n",
              "\n",
              "[5 rows x 89 columns]"
            ],
            "text/html": [
              "\n",
              "  <div id=\"df-faba378b-d57a-4844-b939-2f1095ddf686\">\n",
              "    <div class=\"colab-df-container\">\n",
              "      <div>\n",
              "<style scoped>\n",
              "    .dataframe tbody tr th:only-of-type {\n",
              "        vertical-align: middle;\n",
              "    }\n",
              "\n",
              "    .dataframe tbody tr th {\n",
              "        vertical-align: top;\n",
              "    }\n",
              "\n",
              "    .dataframe thead th {\n",
              "        text-align: right;\n",
              "    }\n",
              "</style>\n",
              "<table border=\"1\" class=\"dataframe\">\n",
              "  <thead>\n",
              "    <tr style=\"text-align: right;\">\n",
              "      <th></th>\n",
              "      <th>file_id</th>\n",
              "      <th>feature_power</th>\n",
              "      <th>feature_pitch_mean</th>\n",
              "      <th>feature_pitch_std</th>\n",
              "      <th>feature_voiced_fr</th>\n",
              "      <th>feature_hist_0</th>\n",
              "      <th>feature_hist_1</th>\n",
              "      <th>feature_hist_2</th>\n",
              "      <th>feature_hist_3</th>\n",
              "      <th>feature_hist_4</th>\n",
              "      <th>...</th>\n",
              "      <th>feature_MFCC_14</th>\n",
              "      <th>feature_MFCC_15</th>\n",
              "      <th>feature_MFCC_16</th>\n",
              "      <th>feature_MFCC_17</th>\n",
              "      <th>feature_MFCC_18</th>\n",
              "      <th>feature_MFCC_19</th>\n",
              "      <th>area</th>\n",
              "      <th>spot</th>\n",
              "      <th>in_out</th>\n",
              "      <th>Participant</th>\n",
              "    </tr>\n",
              "  </thead>\n",
              "  <tbody>\n",
              "    <tr>\n",
              "      <th>0</th>\n",
              "      <td>0001.wav</td>\n",
              "      <td>0.026341</td>\n",
              "      <td>86.945514</td>\n",
              "      <td>2.278420</td>\n",
              "      <td>0.016929</td>\n",
              "      <td>0.000007</td>\n",
              "      <td>0.000004</td>\n",
              "      <td>0.000001</td>\n",
              "      <td>0.000006</td>\n",
              "      <td>0.000012</td>\n",
              "      <td>...</td>\n",
              "      <td>-3.208296</td>\n",
              "      <td>-0.176207</td>\n",
              "      <td>7.756495</td>\n",
              "      <td>-8.273263</td>\n",
              "      <td>16.583691</td>\n",
              "      <td>-8.927471</td>\n",
              "      <td>british</td>\n",
              "      <td>street</td>\n",
              "      <td>outdoor</td>\n",
              "      <td>S151</td>\n",
              "    </tr>\n",
              "    <tr>\n",
              "      <th>1</th>\n",
              "      <td>0002.wav</td>\n",
              "      <td>0.010308</td>\n",
              "      <td>193.033652</td>\n",
              "      <td>34.995743</td>\n",
              "      <td>0.131796</td>\n",
              "      <td>0.000006</td>\n",
              "      <td>0.000010</td>\n",
              "      <td>0.000011</td>\n",
              "      <td>0.000016</td>\n",
              "      <td>0.000013</td>\n",
              "      <td>...</td>\n",
              "      <td>-2.241410</td>\n",
              "      <td>-6.907155</td>\n",
              "      <td>7.761998</td>\n",
              "      <td>-5.321468</td>\n",
              "      <td>-0.472251</td>\n",
              "      <td>3.177591</td>\n",
              "      <td>kensington</td>\n",
              "      <td>dinosaur</td>\n",
              "      <td>indoor</td>\n",
              "      <td>S127</td>\n",
              "    </tr>\n",
              "    <tr>\n",
              "      <th>2</th>\n",
              "      <td>0003.wav</td>\n",
              "      <td>0.005994</td>\n",
              "      <td>118.204789</td>\n",
              "      <td>13.032931</td>\n",
              "      <td>0.053735</td>\n",
              "      <td>0.000012</td>\n",
              "      <td>0.000024</td>\n",
              "      <td>0.000019</td>\n",
              "      <td>0.000009</td>\n",
              "      <td>0.000010</td>\n",
              "      <td>...</td>\n",
              "      <td>1.312150</td>\n",
              "      <td>16.873102</td>\n",
              "      <td>-15.021708</td>\n",
              "      <td>3.989271</td>\n",
              "      <td>0.975474</td>\n",
              "      <td>-7.571914</td>\n",
              "      <td>campus</td>\n",
              "      <td>square</td>\n",
              "      <td>outdoor</td>\n",
              "      <td>S18</td>\n",
              "    </tr>\n",
              "    <tr>\n",
              "      <th>3</th>\n",
              "      <td>0004.wav</td>\n",
              "      <td>0.016374</td>\n",
              "      <td>127.450592</td>\n",
              "      <td>18.197021</td>\n",
              "      <td>0.105263</td>\n",
              "      <td>0.000004</td>\n",
              "      <td>0.000001</td>\n",
              "      <td>0.000006</td>\n",
              "      <td>0.000013</td>\n",
              "      <td>0.000037</td>\n",
              "      <td>...</td>\n",
              "      <td>-3.125193</td>\n",
              "      <td>-3.332724</td>\n",
              "      <td>-7.483416</td>\n",
              "      <td>-2.683595</td>\n",
              "      <td>-6.539318</td>\n",
              "      <td>1.335392</td>\n",
              "      <td>kensington</td>\n",
              "      <td>hintze</td>\n",
              "      <td>indoor</td>\n",
              "      <td>S179</td>\n",
              "    </tr>\n",
              "    <tr>\n",
              "      <th>4</th>\n",
              "      <td>0005.wav</td>\n",
              "      <td>0.002628</td>\n",
              "      <td>160.158646</td>\n",
              "      <td>25.790774</td>\n",
              "      <td>0.067073</td>\n",
              "      <td>0.000006</td>\n",
              "      <td>0.000020</td>\n",
              "      <td>0.000044</td>\n",
              "      <td>0.000054</td>\n",
              "      <td>0.000059</td>\n",
              "      <td>...</td>\n",
              "      <td>-3.904656</td>\n",
              "      <td>-4.678980</td>\n",
              "      <td>0.059519</td>\n",
              "      <td>-1.126336</td>\n",
              "      <td>-2.390231</td>\n",
              "      <td>-3.384028</td>\n",
              "      <td>campus</td>\n",
              "      <td>square</td>\n",
              "      <td>outdoor</td>\n",
              "      <td>S176</td>\n",
              "    </tr>\n",
              "  </tbody>\n",
              "</table>\n",
              "<p>5 rows × 89 columns</p>\n",
              "</div>\n",
              "      <button class=\"colab-df-convert\" onclick=\"convertToInteractive('df-faba378b-d57a-4844-b939-2f1095ddf686')\"\n",
              "              title=\"Convert this dataframe to an interactive table.\"\n",
              "              style=\"display:none;\">\n",
              "        \n",
              "  <svg xmlns=\"http://www.w3.org/2000/svg\" height=\"24px\"viewBox=\"0 0 24 24\"\n",
              "       width=\"24px\">\n",
              "    <path d=\"M0 0h24v24H0V0z\" fill=\"none\"/>\n",
              "    <path d=\"M18.56 5.44l.94 2.06.94-2.06 2.06-.94-2.06-.94-.94-2.06-.94 2.06-2.06.94zm-11 1L8.5 8.5l.94-2.06 2.06-.94-2.06-.94L8.5 2.5l-.94 2.06-2.06.94zm10 10l.94 2.06.94-2.06 2.06-.94-2.06-.94-.94-2.06-.94 2.06-2.06.94z\"/><path d=\"M17.41 7.96l-1.37-1.37c-.4-.4-.92-.59-1.43-.59-.52 0-1.04.2-1.43.59L10.3 9.45l-7.72 7.72c-.78.78-.78 2.05 0 2.83L4 21.41c.39.39.9.59 1.41.59.51 0 1.02-.2 1.41-.59l7.78-7.78 2.81-2.81c.8-.78.8-2.07 0-2.86zM5.41 20L4 18.59l7.72-7.72 1.47 1.35L5.41 20z\"/>\n",
              "  </svg>\n",
              "      </button>\n",
              "      \n",
              "  <style>\n",
              "    .colab-df-container {\n",
              "      display:flex;\n",
              "      flex-wrap:wrap;\n",
              "      gap: 12px;\n",
              "    }\n",
              "\n",
              "    .colab-df-convert {\n",
              "      background-color: #E8F0FE;\n",
              "      border: none;\n",
              "      border-radius: 50%;\n",
              "      cursor: pointer;\n",
              "      display: none;\n",
              "      fill: #1967D2;\n",
              "      height: 32px;\n",
              "      padding: 0 0 0 0;\n",
              "      width: 32px;\n",
              "    }\n",
              "\n",
              "    .colab-df-convert:hover {\n",
              "      background-color: #E2EBFA;\n",
              "      box-shadow: 0px 1px 2px rgba(60, 64, 67, 0.3), 0px 1px 3px 1px rgba(60, 64, 67, 0.15);\n",
              "      fill: #174EA6;\n",
              "    }\n",
              "\n",
              "    [theme=dark] .colab-df-convert {\n",
              "      background-color: #3B4455;\n",
              "      fill: #D2E3FC;\n",
              "    }\n",
              "\n",
              "    [theme=dark] .colab-df-convert:hover {\n",
              "      background-color: #434B5C;\n",
              "      box-shadow: 0px 1px 3px 1px rgba(0, 0, 0, 0.15);\n",
              "      filter: drop-shadow(0px 1px 2px rgba(0, 0, 0, 0.3));\n",
              "      fill: #FFFFFF;\n",
              "    }\n",
              "  </style>\n",
              "\n",
              "      <script>\n",
              "        const buttonEl =\n",
              "          document.querySelector('#df-faba378b-d57a-4844-b939-2f1095ddf686 button.colab-df-convert');\n",
              "        buttonEl.style.display =\n",
              "          google.colab.kernel.accessAllowed ? 'block' : 'none';\n",
              "\n",
              "        async function convertToInteractive(key) {\n",
              "          const element = document.querySelector('#df-faba378b-d57a-4844-b939-2f1095ddf686');\n",
              "          const dataTable =\n",
              "            await google.colab.kernel.invokeFunction('convertToInteractive',\n",
              "                                                     [key], {});\n",
              "          if (!dataTable) return;\n",
              "\n",
              "          const docLinkHtml = 'Like what you see? Visit the ' +\n",
              "            '<a target=\"_blank\" href=https://colab.research.google.com/notebooks/data_table.ipynb>data table notebook</a>'\n",
              "            + ' to learn more about interactive tables.';\n",
              "          element.innerHTML = '';\n",
              "          dataTable['output_type'] = 'display_data';\n",
              "          await google.colab.output.renderOutput(dataTable, element);\n",
              "          const docLink = document.createElement('div');\n",
              "          docLink.innerHTML = docLinkHtml;\n",
              "          element.appendChild(docLink);\n",
              "        }\n",
              "      </script>\n",
              "    </div>\n",
              "  </div>\n",
              "  "
            ]
          },
          "metadata": {},
          "execution_count": 23
        }
      ]
    },
    {
      "cell_type": "code",
      "source": [
        "data_df.describe()"
      ],
      "metadata": {
        "colab": {
          "base_uri": "https://localhost:8080/",
          "height": 394
        },
        "id": "GRUiAS7-DA81",
        "outputId": "a5202be1-89db-41b7-916d-313bfd43c2ad"
      },
      "execution_count": 24,
      "outputs": [
        {
          "output_type": "execute_result",
          "data": {
            "text/plain": [
              "       feature_power  feature_pitch_mean  feature_pitch_std  \\\n",
              "count    2498.000000         2498.000000        2498.000000   \n",
              "mean        0.013476          152.615031          21.440425   \n",
              "std         0.010126           77.823798          21.753945   \n",
              "min         0.000433            0.000000           0.000000   \n",
              "25%         0.006571          114.553856           7.919292   \n",
              "50%         0.010588          141.344408          15.342969   \n",
              "75%         0.017707          199.383685          26.469406   \n",
              "max         0.081043          449.941853         142.306083   \n",
              "\n",
              "       feature_voiced_fr  feature_hist_0  feature_hist_1  feature_hist_2  \\\n",
              "count        2498.000000    2.498000e+03     2498.000000     2498.000000   \n",
              "mean            0.085005    8.935341e-06        0.000013        0.000021   \n",
              "std             0.079401    8.459688e-06        0.000018        0.000029   \n",
              "min             0.000000    5.445704e-07        0.000000        0.000000   \n",
              "25%             0.044672    4.250731e-06        0.000004        0.000006   \n",
              "50%             0.075938    6.458580e-06        0.000009        0.000013   \n",
              "75%             0.102339    1.077744e-05        0.000017        0.000026   \n",
              "max             0.973684    1.459321e-04        0.000531        0.000743   \n",
              "\n",
              "       feature_hist_3  feature_hist_4  feature_hist_5  ...  feature_MFCC_10  \\\n",
              "count     2498.000000     2498.000000     2498.000000  ...      2498.000000   \n",
              "mean         0.000033        0.000048        0.000069  ...        -1.277239   \n",
              "std          0.000051        0.000061        0.000086  ...         8.041163   \n",
              "min          0.000000        0.000000        0.000000  ...       -35.309093   \n",
              "25%          0.000010        0.000015        0.000022  ...        -6.119608   \n",
              "50%          0.000021        0.000032        0.000045  ...        -0.654440   \n",
              "75%          0.000041        0.000061        0.000086  ...         3.896582   \n",
              "max          0.001366        0.000992        0.001284  ...        24.678970   \n",
              "\n",
              "       feature_MFCC_11  feature_MFCC_12  feature_MFCC_13  feature_MFCC_14  \\\n",
              "count      2498.000000      2498.000000      2498.000000      2498.000000   \n",
              "mean          0.963125        -0.503860        -1.144321        -0.611351   \n",
              "std           7.978711         7.374211         6.683425         5.765171   \n",
              "min         -42.657978       -36.074566       -44.252239       -24.341990   \n",
              "25%          -3.382371        -5.039912        -4.236716        -4.076854   \n",
              "50%           1.176238        -1.102207        -0.627895        -0.827250   \n",
              "75%           5.642217         3.371547         2.817399         2.437554   \n",
              "max          30.721502        35.883850        22.976562        36.488571   \n",
              "\n",
              "       feature_MFCC_15  feature_MFCC_16  feature_MFCC_17  feature_MFCC_18  \\\n",
              "count      2498.000000      2498.000000      2498.000000      2498.000000   \n",
              "mean         -1.001364        -2.615357         0.931158        -1.921729   \n",
              "std           6.000075         6.643227         5.859623         4.963915   \n",
              "min         -23.571871       -35.412495       -22.209190       -21.718390   \n",
              "25%          -4.751872        -5.997054        -2.412093        -4.813450   \n",
              "50%          -1.276090        -2.146031         1.020563        -1.762822   \n",
              "75%           2.159396         1.151718         3.881802         1.252018   \n",
              "max          37.250141        24.084768        31.662004        18.282879   \n",
              "\n",
              "       feature_MFCC_19  \n",
              "count      2498.000000  \n",
              "mean         -1.721573  \n",
              "std           4.359640  \n",
              "min         -17.695683  \n",
              "25%          -4.146958  \n",
              "50%          -1.800952  \n",
              "75%           0.793644  \n",
              "max          20.127953  \n",
              "\n",
              "[8 rows x 84 columns]"
            ],
            "text/html": [
              "\n",
              "  <div id=\"df-e78098b1-3699-4abd-ae3b-c47a665b6a16\">\n",
              "    <div class=\"colab-df-container\">\n",
              "      <div>\n",
              "<style scoped>\n",
              "    .dataframe tbody tr th:only-of-type {\n",
              "        vertical-align: middle;\n",
              "    }\n",
              "\n",
              "    .dataframe tbody tr th {\n",
              "        vertical-align: top;\n",
              "    }\n",
              "\n",
              "    .dataframe thead th {\n",
              "        text-align: right;\n",
              "    }\n",
              "</style>\n",
              "<table border=\"1\" class=\"dataframe\">\n",
              "  <thead>\n",
              "    <tr style=\"text-align: right;\">\n",
              "      <th></th>\n",
              "      <th>feature_power</th>\n",
              "      <th>feature_pitch_mean</th>\n",
              "      <th>feature_pitch_std</th>\n",
              "      <th>feature_voiced_fr</th>\n",
              "      <th>feature_hist_0</th>\n",
              "      <th>feature_hist_1</th>\n",
              "      <th>feature_hist_2</th>\n",
              "      <th>feature_hist_3</th>\n",
              "      <th>feature_hist_4</th>\n",
              "      <th>feature_hist_5</th>\n",
              "      <th>...</th>\n",
              "      <th>feature_MFCC_10</th>\n",
              "      <th>feature_MFCC_11</th>\n",
              "      <th>feature_MFCC_12</th>\n",
              "      <th>feature_MFCC_13</th>\n",
              "      <th>feature_MFCC_14</th>\n",
              "      <th>feature_MFCC_15</th>\n",
              "      <th>feature_MFCC_16</th>\n",
              "      <th>feature_MFCC_17</th>\n",
              "      <th>feature_MFCC_18</th>\n",
              "      <th>feature_MFCC_19</th>\n",
              "    </tr>\n",
              "  </thead>\n",
              "  <tbody>\n",
              "    <tr>\n",
              "      <th>count</th>\n",
              "      <td>2498.000000</td>\n",
              "      <td>2498.000000</td>\n",
              "      <td>2498.000000</td>\n",
              "      <td>2498.000000</td>\n",
              "      <td>2.498000e+03</td>\n",
              "      <td>2498.000000</td>\n",
              "      <td>2498.000000</td>\n",
              "      <td>2498.000000</td>\n",
              "      <td>2498.000000</td>\n",
              "      <td>2498.000000</td>\n",
              "      <td>...</td>\n",
              "      <td>2498.000000</td>\n",
              "      <td>2498.000000</td>\n",
              "      <td>2498.000000</td>\n",
              "      <td>2498.000000</td>\n",
              "      <td>2498.000000</td>\n",
              "      <td>2498.000000</td>\n",
              "      <td>2498.000000</td>\n",
              "      <td>2498.000000</td>\n",
              "      <td>2498.000000</td>\n",
              "      <td>2498.000000</td>\n",
              "    </tr>\n",
              "    <tr>\n",
              "      <th>mean</th>\n",
              "      <td>0.013476</td>\n",
              "      <td>152.615031</td>\n",
              "      <td>21.440425</td>\n",
              "      <td>0.085005</td>\n",
              "      <td>8.935341e-06</td>\n",
              "      <td>0.000013</td>\n",
              "      <td>0.000021</td>\n",
              "      <td>0.000033</td>\n",
              "      <td>0.000048</td>\n",
              "      <td>0.000069</td>\n",
              "      <td>...</td>\n",
              "      <td>-1.277239</td>\n",
              "      <td>0.963125</td>\n",
              "      <td>-0.503860</td>\n",
              "      <td>-1.144321</td>\n",
              "      <td>-0.611351</td>\n",
              "      <td>-1.001364</td>\n",
              "      <td>-2.615357</td>\n",
              "      <td>0.931158</td>\n",
              "      <td>-1.921729</td>\n",
              "      <td>-1.721573</td>\n",
              "    </tr>\n",
              "    <tr>\n",
              "      <th>std</th>\n",
              "      <td>0.010126</td>\n",
              "      <td>77.823798</td>\n",
              "      <td>21.753945</td>\n",
              "      <td>0.079401</td>\n",
              "      <td>8.459688e-06</td>\n",
              "      <td>0.000018</td>\n",
              "      <td>0.000029</td>\n",
              "      <td>0.000051</td>\n",
              "      <td>0.000061</td>\n",
              "      <td>0.000086</td>\n",
              "      <td>...</td>\n",
              "      <td>8.041163</td>\n",
              "      <td>7.978711</td>\n",
              "      <td>7.374211</td>\n",
              "      <td>6.683425</td>\n",
              "      <td>5.765171</td>\n",
              "      <td>6.000075</td>\n",
              "      <td>6.643227</td>\n",
              "      <td>5.859623</td>\n",
              "      <td>4.963915</td>\n",
              "      <td>4.359640</td>\n",
              "    </tr>\n",
              "    <tr>\n",
              "      <th>min</th>\n",
              "      <td>0.000433</td>\n",
              "      <td>0.000000</td>\n",
              "      <td>0.000000</td>\n",
              "      <td>0.000000</td>\n",
              "      <td>5.445704e-07</td>\n",
              "      <td>0.000000</td>\n",
              "      <td>0.000000</td>\n",
              "      <td>0.000000</td>\n",
              "      <td>0.000000</td>\n",
              "      <td>0.000000</td>\n",
              "      <td>...</td>\n",
              "      <td>-35.309093</td>\n",
              "      <td>-42.657978</td>\n",
              "      <td>-36.074566</td>\n",
              "      <td>-44.252239</td>\n",
              "      <td>-24.341990</td>\n",
              "      <td>-23.571871</td>\n",
              "      <td>-35.412495</td>\n",
              "      <td>-22.209190</td>\n",
              "      <td>-21.718390</td>\n",
              "      <td>-17.695683</td>\n",
              "    </tr>\n",
              "    <tr>\n",
              "      <th>25%</th>\n",
              "      <td>0.006571</td>\n",
              "      <td>114.553856</td>\n",
              "      <td>7.919292</td>\n",
              "      <td>0.044672</td>\n",
              "      <td>4.250731e-06</td>\n",
              "      <td>0.000004</td>\n",
              "      <td>0.000006</td>\n",
              "      <td>0.000010</td>\n",
              "      <td>0.000015</td>\n",
              "      <td>0.000022</td>\n",
              "      <td>...</td>\n",
              "      <td>-6.119608</td>\n",
              "      <td>-3.382371</td>\n",
              "      <td>-5.039912</td>\n",
              "      <td>-4.236716</td>\n",
              "      <td>-4.076854</td>\n",
              "      <td>-4.751872</td>\n",
              "      <td>-5.997054</td>\n",
              "      <td>-2.412093</td>\n",
              "      <td>-4.813450</td>\n",
              "      <td>-4.146958</td>\n",
              "    </tr>\n",
              "    <tr>\n",
              "      <th>50%</th>\n",
              "      <td>0.010588</td>\n",
              "      <td>141.344408</td>\n",
              "      <td>15.342969</td>\n",
              "      <td>0.075938</td>\n",
              "      <td>6.458580e-06</td>\n",
              "      <td>0.000009</td>\n",
              "      <td>0.000013</td>\n",
              "      <td>0.000021</td>\n",
              "      <td>0.000032</td>\n",
              "      <td>0.000045</td>\n",
              "      <td>...</td>\n",
              "      <td>-0.654440</td>\n",
              "      <td>1.176238</td>\n",
              "      <td>-1.102207</td>\n",
              "      <td>-0.627895</td>\n",
              "      <td>-0.827250</td>\n",
              "      <td>-1.276090</td>\n",
              "      <td>-2.146031</td>\n",
              "      <td>1.020563</td>\n",
              "      <td>-1.762822</td>\n",
              "      <td>-1.800952</td>\n",
              "    </tr>\n",
              "    <tr>\n",
              "      <th>75%</th>\n",
              "      <td>0.017707</td>\n",
              "      <td>199.383685</td>\n",
              "      <td>26.469406</td>\n",
              "      <td>0.102339</td>\n",
              "      <td>1.077744e-05</td>\n",
              "      <td>0.000017</td>\n",
              "      <td>0.000026</td>\n",
              "      <td>0.000041</td>\n",
              "      <td>0.000061</td>\n",
              "      <td>0.000086</td>\n",
              "      <td>...</td>\n",
              "      <td>3.896582</td>\n",
              "      <td>5.642217</td>\n",
              "      <td>3.371547</td>\n",
              "      <td>2.817399</td>\n",
              "      <td>2.437554</td>\n",
              "      <td>2.159396</td>\n",
              "      <td>1.151718</td>\n",
              "      <td>3.881802</td>\n",
              "      <td>1.252018</td>\n",
              "      <td>0.793644</td>\n",
              "    </tr>\n",
              "    <tr>\n",
              "      <th>max</th>\n",
              "      <td>0.081043</td>\n",
              "      <td>449.941853</td>\n",
              "      <td>142.306083</td>\n",
              "      <td>0.973684</td>\n",
              "      <td>1.459321e-04</td>\n",
              "      <td>0.000531</td>\n",
              "      <td>0.000743</td>\n",
              "      <td>0.001366</td>\n",
              "      <td>0.000992</td>\n",
              "      <td>0.001284</td>\n",
              "      <td>...</td>\n",
              "      <td>24.678970</td>\n",
              "      <td>30.721502</td>\n",
              "      <td>35.883850</td>\n",
              "      <td>22.976562</td>\n",
              "      <td>36.488571</td>\n",
              "      <td>37.250141</td>\n",
              "      <td>24.084768</td>\n",
              "      <td>31.662004</td>\n",
              "      <td>18.282879</td>\n",
              "      <td>20.127953</td>\n",
              "    </tr>\n",
              "  </tbody>\n",
              "</table>\n",
              "<p>8 rows × 84 columns</p>\n",
              "</div>\n",
              "      <button class=\"colab-df-convert\" onclick=\"convertToInteractive('df-e78098b1-3699-4abd-ae3b-c47a665b6a16')\"\n",
              "              title=\"Convert this dataframe to an interactive table.\"\n",
              "              style=\"display:none;\">\n",
              "        \n",
              "  <svg xmlns=\"http://www.w3.org/2000/svg\" height=\"24px\"viewBox=\"0 0 24 24\"\n",
              "       width=\"24px\">\n",
              "    <path d=\"M0 0h24v24H0V0z\" fill=\"none\"/>\n",
              "    <path d=\"M18.56 5.44l.94 2.06.94-2.06 2.06-.94-2.06-.94-.94-2.06-.94 2.06-2.06.94zm-11 1L8.5 8.5l.94-2.06 2.06-.94-2.06-.94L8.5 2.5l-.94 2.06-2.06.94zm10 10l.94 2.06.94-2.06 2.06-.94-2.06-.94-.94-2.06-.94 2.06-2.06.94z\"/><path d=\"M17.41 7.96l-1.37-1.37c-.4-.4-.92-.59-1.43-.59-.52 0-1.04.2-1.43.59L10.3 9.45l-7.72 7.72c-.78.78-.78 2.05 0 2.83L4 21.41c.39.39.9.59 1.41.59.51 0 1.02-.2 1.41-.59l7.78-7.78 2.81-2.81c.8-.78.8-2.07 0-2.86zM5.41 20L4 18.59l7.72-7.72 1.47 1.35L5.41 20z\"/>\n",
              "  </svg>\n",
              "      </button>\n",
              "      \n",
              "  <style>\n",
              "    .colab-df-container {\n",
              "      display:flex;\n",
              "      flex-wrap:wrap;\n",
              "      gap: 12px;\n",
              "    }\n",
              "\n",
              "    .colab-df-convert {\n",
              "      background-color: #E8F0FE;\n",
              "      border: none;\n",
              "      border-radius: 50%;\n",
              "      cursor: pointer;\n",
              "      display: none;\n",
              "      fill: #1967D2;\n",
              "      height: 32px;\n",
              "      padding: 0 0 0 0;\n",
              "      width: 32px;\n",
              "    }\n",
              "\n",
              "    .colab-df-convert:hover {\n",
              "      background-color: #E2EBFA;\n",
              "      box-shadow: 0px 1px 2px rgba(60, 64, 67, 0.3), 0px 1px 3px 1px rgba(60, 64, 67, 0.15);\n",
              "      fill: #174EA6;\n",
              "    }\n",
              "\n",
              "    [theme=dark] .colab-df-convert {\n",
              "      background-color: #3B4455;\n",
              "      fill: #D2E3FC;\n",
              "    }\n",
              "\n",
              "    [theme=dark] .colab-df-convert:hover {\n",
              "      background-color: #434B5C;\n",
              "      box-shadow: 0px 1px 3px 1px rgba(0, 0, 0, 0.15);\n",
              "      filter: drop-shadow(0px 1px 2px rgba(0, 0, 0, 0.3));\n",
              "      fill: #FFFFFF;\n",
              "    }\n",
              "  </style>\n",
              "\n",
              "      <script>\n",
              "        const buttonEl =\n",
              "          document.querySelector('#df-e78098b1-3699-4abd-ae3b-c47a665b6a16 button.colab-df-convert');\n",
              "        buttonEl.style.display =\n",
              "          google.colab.kernel.accessAllowed ? 'block' : 'none';\n",
              "\n",
              "        async function convertToInteractive(key) {\n",
              "          const element = document.querySelector('#df-e78098b1-3699-4abd-ae3b-c47a665b6a16');\n",
              "          const dataTable =\n",
              "            await google.colab.kernel.invokeFunction('convertToInteractive',\n",
              "                                                     [key], {});\n",
              "          if (!dataTable) return;\n",
              "\n",
              "          const docLinkHtml = 'Like what you see? Visit the ' +\n",
              "            '<a target=\"_blank\" href=https://colab.research.google.com/notebooks/data_table.ipynb>data table notebook</a>'\n",
              "            + ' to learn more about interactive tables.';\n",
              "          element.innerHTML = '';\n",
              "          dataTable['output_type'] = 'display_data';\n",
              "          await google.colab.output.renderOutput(dataTable, element);\n",
              "          const docLink = document.createElement('div');\n",
              "          docLink.innerHTML = docLinkHtml;\n",
              "          element.appendChild(docLink);\n",
              "        }\n",
              "      </script>\n",
              "    </div>\n",
              "  </div>\n",
              "  "
            ]
          },
          "metadata": {},
          "execution_count": 24
        }
      ]
    },
    {
      "cell_type": "code",
      "source": [
        "#defining all the coloumns which start with feature_ to ''features'.\n",
        "features = [x for x in list(data_df.columns) if x.startswith('feature_')]"
      ],
      "metadata": {
        "id": "pnEiLMmFDEIa"
      },
      "execution_count": 25,
      "outputs": []
    },
    {
      "cell_type": "code",
      "source": [
        "\n",
        "target = \"in_out\"\n",
        "label= \"label\""
      ],
      "metadata": {
        "id": "Ax70RQiHDMt8"
      },
      "execution_count": 26,
      "outputs": []
    },
    {
      "cell_type": "markdown",
      "source": [
        "calculating the correlation matrix of all features and plotting it to ease the process of feature selection."
      ],
      "metadata": {
        "id": "zOyhUzT9G3Kf"
      }
    },
    {
      "cell_type": "code",
      "source": [
        "#correlation matrix of all features \n",
        "corr_mat = data_df[features].corr()"
      ],
      "metadata": {
        "id": "JEP6OINbDRtZ"
      },
      "execution_count": 27,
      "outputs": []
    },
    {
      "cell_type": "code",
      "source": [
        "fig = plt.figure(figsize=(10,8))\n",
        "sns.heatmap(corr_mat, cmap=sns.cubehelix_palette(as_cmap=True))"
      ],
      "metadata": {
        "colab": {
          "base_uri": "https://localhost:8080/",
          "height": 632
        },
        "id": "DvkfKFdYDVJS",
        "outputId": "8c06816f-0a23-496e-9808-b9070163827a"
      },
      "execution_count": 28,
      "outputs": [
        {
          "output_type": "execute_result",
          "data": {
            "text/plain": [
              "<matplotlib.axes._subplots.AxesSubplot at 0x7f4662fa26a0>"
            ]
          },
          "metadata": {},
          "execution_count": 28
        },
        {
          "output_type": "display_data",
          "data": {
            "text/plain": [
              "<Figure size 720x576 with 2 Axes>"
            ],
            "image/png": "[encoded data removed]"
          },
          "metadata": {
            "needs_background": "light"
          }
        }
      ]
    },
    {
      "cell_type": "code",
      "source": [
        "def label_function(val):\n",
        "    return f'{val / 100 * len(data_df):.0f}\\n{val:.0f}%'"
      ],
      "metadata": {
        "id": "m8vpu2CzDujy"
      },
      "execution_count": 29,
      "outputs": []
    },
    {
      "cell_type": "code",
      "source": [
        "data_df.groupby(target).size().plot(kind='pie', autopct=label_function, textprops={'fontsize': 20})"
      ],
      "metadata": {
        "colab": {
          "base_uri": "https://localhost:8080/",
          "height": 265
        },
        "id": "idkgN9FJEDZk",
        "outputId": "a42b2d15-e1ca-4542-c0a5-bc8adcd66fbe"
      },
      "execution_count": 30,
      "outputs": [
        {
          "output_type": "execute_result",
          "data": {
            "text/plain": [
              "<matplotlib.axes._subplots.AxesSubplot at 0x7f46615de610>"
            ]
          },
          "metadata": {},
          "execution_count": 30
        },
        {
          "output_type": "display_data",
          "data": {
            "text/plain": [
              "<Figure size 432x288 with 1 Axes>"
            ],
            "image/png": "[encoded data removed]"
          },
          "metadata": {}
        }
      ]
    },
    {
      "cell_type": "markdown",
      "source": [
        "From this pie chart we can observer that the label column is almost balanced."
      ],
      "metadata": {
        "id": "Bzgalpz6ETPm"
      }
    },
    {
      "cell_type": "code",
      "source": [
        "le = preprocessing.LabelEncoder()\n",
        "le.fit(data_df[target])"
      ],
      "metadata": {
        "colab": {
          "base_uri": "https://localhost:8080/"
        },
        "id": "AFj9PsPaEe3X",
        "outputId": "dc38b22c-797e-4e42-d06a-d5a73c59bc74"
      },
      "execution_count": 31,
      "outputs": [
        {
          "output_type": "execute_result",
          "data": {
            "text/plain": [
              "LabelEncoder()"
            ]
          },
          "metadata": {},
          "execution_count": 31
        }
      ]
    },
    {
      "cell_type": "code",
      "source": [
        "le.classes_"
      ],
      "metadata": {
        "colab": {
          "base_uri": "https://localhost:8080/"
        },
        "id": "z3i5HFUtEs-I",
        "outputId": "486f17ca-0eb2-4669-9fbb-79c7c86f8442"
      },
      "execution_count": 32,
      "outputs": [
        {
          "output_type": "execute_result",
          "data": {
            "text/plain": [
              "array(['indoor', 'outdoor'], dtype=object)"
            ]
          },
          "metadata": {},
          "execution_count": 32
        }
      ]
    },
    {
      "cell_type": "code",
      "source": [
        "#changing labels from indoor outdoor to 0 and 1 \n",
        "data_df[label] = le.transform(data_df[target])"
      ],
      "metadata": {
        "id": "G-GCKaZkEzOM"
      },
      "execution_count": 33,
      "outputs": []
    },
    {
      "cell_type": "code",
      "source": [
        "data_df.head()"
      ],
      "metadata": {
        "colab": {
          "base_uri": "https://localhost:8080/",
          "height": 299
        },
        "id": "SBc3DYA6E1hW",
        "outputId": "20c95591-a526-4859-a906-3e14b47b541a"
      },
      "execution_count": 34,
      "outputs": [
        {
          "output_type": "execute_result",
          "data": {
            "text/plain": [
              "    file_id  feature_power  feature_pitch_mean  feature_pitch_std  \\\n",
              "0  0001.wav       0.026341           86.945514           2.278420   \n",
              "1  0002.wav       0.010308          193.033652          34.995743   \n",
              "2  0003.wav       0.005994          118.204789          13.032931   \n",
              "3  0004.wav       0.016374          127.450592          18.197021   \n",
              "4  0005.wav       0.002628          160.158646          25.790774   \n",
              "\n",
              "   feature_voiced_fr  feature_hist_0  feature_hist_1  feature_hist_2  \\\n",
              "0           0.016929        0.000007        0.000004        0.000001   \n",
              "1           0.131796        0.000006        0.000010        0.000011   \n",
              "2           0.053735        0.000012        0.000024        0.000019   \n",
              "3           0.105263        0.000004        0.000001        0.000006   \n",
              "4           0.067073        0.000006        0.000020        0.000044   \n",
              "\n",
              "   feature_hist_3  feature_hist_4  ...  feature_MFCC_15  feature_MFCC_16  \\\n",
              "0        0.000006        0.000012  ...        -0.176207         7.756495   \n",
              "1        0.000016        0.000013  ...        -6.907155         7.761998   \n",
              "2        0.000009        0.000010  ...        16.873102       -15.021708   \n",
              "3        0.000013        0.000037  ...        -3.332724        -7.483416   \n",
              "4        0.000054        0.000059  ...        -4.678980         0.059519   \n",
              "\n",
              "   feature_MFCC_17  feature_MFCC_18  feature_MFCC_19        area      spot  \\\n",
              "0        -8.273263        16.583691        -8.927471     british    street   \n",
              "1        -5.321468        -0.472251         3.177591  kensington  dinosaur   \n",
              "2         3.989271         0.975474        -7.571914      campus    square   \n",
              "3        -2.683595        -6.539318         1.335392  kensington    hintze   \n",
              "4        -1.126336        -2.390231        -3.384028      campus    square   \n",
              "\n",
              "    in_out  Participant  label  \n",
              "0  outdoor         S151      1  \n",
              "1   indoor         S127      0  \n",
              "2  outdoor          S18      1  \n",
              "3   indoor         S179      0  \n",
              "4  outdoor         S176      1  \n",
              "\n",
              "[5 rows x 90 columns]"
            ],
            "text/html": [
              "\n",
              "  <div id=\"df-6a289f0d-52a5-4f1c-b8de-aab64663689d\">\n",
              "    <div class=\"colab-df-container\">\n",
              "      <div>\n",
              "<style scoped>\n",
              "    .dataframe tbody tr th:only-of-type {\n",
              "        vertical-align: middle;\n",
              "    }\n",
              "\n",
              "    .dataframe tbody tr th {\n",
              "        vertical-align: top;\n",
              "    }\n",
              "\n",
              "    .dataframe thead th {\n",
              "        text-align: right;\n",
              "    }\n",
              "</style>\n",
              "<table border=\"1\" class=\"dataframe\">\n",
              "  <thead>\n",
              "    <tr style=\"text-align: right;\">\n",
              "      <th></th>\n",
              "      <th>file_id</th>\n",
              "      <th>feature_power</th>\n",
              "      <th>feature_pitch_mean</th>\n",
              "      <th>feature_pitch_std</th>\n",
              "      <th>feature_voiced_fr</th>\n",
              "      <th>feature_hist_0</th>\n",
              "      <th>feature_hist_1</th>\n",
              "      <th>feature_hist_2</th>\n",
              "      <th>feature_hist_3</th>\n",
              "      <th>feature_hist_4</th>\n",
              "      <th>...</th>\n",
              "      <th>feature_MFCC_15</th>\n",
              "      <th>feature_MFCC_16</th>\n",
              "      <th>feature_MFCC_17</th>\n",
              "      <th>feature_MFCC_18</th>\n",
              "      <th>feature_MFCC_19</th>\n",
              "      <th>area</th>\n",
              "      <th>spot</th>\n",
              "      <th>in_out</th>\n",
              "      <th>Participant</th>\n",
              "      <th>label</th>\n",
              "    </tr>\n",
              "  </thead>\n",
              "  <tbody>\n",
              "    <tr>\n",
              "      <th>0</th>\n",
              "      <td>0001.wav</td>\n",
              "      <td>0.026341</td>\n",
              "      <td>86.945514</td>\n",
              "      <td>2.278420</td>\n",
              "      <td>0.016929</td>\n",
              "      <td>0.000007</td>\n",
              "      <td>0.000004</td>\n",
              "      <td>0.000001</td>\n",
              "      <td>0.000006</td>\n",
              "      <td>0.000012</td>\n",
              "      <td>...</td>\n",
              "      <td>-0.176207</td>\n",
              "      <td>7.756495</td>\n",
              "      <td>-8.273263</td>\n",
              "      <td>16.583691</td>\n",
              "      <td>-8.927471</td>\n",
              "      <td>british</td>\n",
              "      <td>street</td>\n",
              "      <td>outdoor</td>\n",
              "      <td>S151</td>\n",
              "      <td>1</td>\n",
              "    </tr>\n",
              "    <tr>\n",
              "      <th>1</th>\n",
              "      <td>0002.wav</td>\n",
              "      <td>0.010308</td>\n",
              "      <td>193.033652</td>\n",
              "      <td>34.995743</td>\n",
              "      <td>0.131796</td>\n",
              "      <td>0.000006</td>\n",
              "      <td>0.000010</td>\n",
              "      <td>0.000011</td>\n",
              "      <td>0.000016</td>\n",
              "      <td>0.000013</td>\n",
              "      <td>...</td>\n",
              "      <td>-6.907155</td>\n",
              "      <td>7.761998</td>\n",
              "      <td>-5.321468</td>\n",
              "      <td>-0.472251</td>\n",
              "      <td>3.177591</td>\n",
              "      <td>kensington</td>\n",
              "      <td>dinosaur</td>\n",
              "      <td>indoor</td>\n",
              "      <td>S127</td>\n",
              "      <td>0</td>\n",
              "    </tr>\n",
              "    <tr>\n",
              "      <th>2</th>\n",
              "      <td>0003.wav</td>\n",
              "      <td>0.005994</td>\n",
              "      <td>118.204789</td>\n",
              "      <td>13.032931</td>\n",
              "      <td>0.053735</td>\n",
              "      <td>0.000012</td>\n",
              "      <td>0.000024</td>\n",
              "      <td>0.000019</td>\n",
              "      <td>0.000009</td>\n",
              "      <td>0.000010</td>\n",
              "      <td>...</td>\n",
              "      <td>16.873102</td>\n",
              "      <td>-15.021708</td>\n",
              "      <td>3.989271</td>\n",
              "      <td>0.975474</td>\n",
              "      <td>-7.571914</td>\n",
              "      <td>campus</td>\n",
              "      <td>square</td>\n",
              "      <td>outdoor</td>\n",
              "      <td>S18</td>\n",
              "      <td>1</td>\n",
              "    </tr>\n",
              "    <tr>\n",
              "      <th>3</th>\n",
              "      <td>0004.wav</td>\n",
              "      <td>0.016374</td>\n",
              "      <td>127.450592</td>\n",
              "      <td>18.197021</td>\n",
              "      <td>0.105263</td>\n",
              "      <td>0.000004</td>\n",
              "      <td>0.000001</td>\n",
              "      <td>0.000006</td>\n",
              "      <td>0.000013</td>\n",
              "      <td>0.000037</td>\n",
              "      <td>...</td>\n",
              "      <td>-3.332724</td>\n",
              "      <td>-7.483416</td>\n",
              "      <td>-2.683595</td>\n",
              "      <td>-6.539318</td>\n",
              "      <td>1.335392</td>\n",
              "      <td>kensington</td>\n",
              "      <td>hintze</td>\n",
              "      <td>indoor</td>\n",
              "      <td>S179</td>\n",
              "      <td>0</td>\n",
              "    </tr>\n",
              "    <tr>\n",
              "      <th>4</th>\n",
              "      <td>0005.wav</td>\n",
              "      <td>0.002628</td>\n",
              "      <td>160.158646</td>\n",
              "      <td>25.790774</td>\n",
              "      <td>0.067073</td>\n",
              "      <td>0.000006</td>\n",
              "      <td>0.000020</td>\n",
              "      <td>0.000044</td>\n",
              "      <td>0.000054</td>\n",
              "      <td>0.000059</td>\n",
              "      <td>...</td>\n",
              "      <td>-4.678980</td>\n",
              "      <td>0.059519</td>\n",
              "      <td>-1.126336</td>\n",
              "      <td>-2.390231</td>\n",
              "      <td>-3.384028</td>\n",
              "      <td>campus</td>\n",
              "      <td>square</td>\n",
              "      <td>outdoor</td>\n",
              "      <td>S176</td>\n",
              "      <td>1</td>\n",
              "    </tr>\n",
              "  </tbody>\n",
              "</table>\n",
              "<p>5 rows × 90 columns</p>\n",
              "</div>\n",
              "      <button class=\"colab-df-convert\" onclick=\"convertToInteractive('df-6a289f0d-52a5-4f1c-b8de-aab64663689d')\"\n",
              "              title=\"Convert this dataframe to an interactive table.\"\n",
              "              style=\"display:none;\">\n",
              "        \n",
              "  <svg xmlns=\"http://www.w3.org/2000/svg\" height=\"24px\"viewBox=\"0 0 24 24\"\n",
              "       width=\"24px\">\n",
              "    <path d=\"M0 0h24v24H0V0z\" fill=\"none\"/>\n",
              "    <path d=\"M18.56 5.44l.94 2.06.94-2.06 2.06-.94-2.06-.94-.94-2.06-.94 2.06-2.06.94zm-11 1L8.5 8.5l.94-2.06 2.06-.94-2.06-.94L8.5 2.5l-.94 2.06-2.06.94zm10 10l.94 2.06.94-2.06 2.06-.94-2.06-.94-.94-2.06-.94 2.06-2.06.94z\"/><path d=\"M17.41 7.96l-1.37-1.37c-.4-.4-.92-.59-1.43-.59-.52 0-1.04.2-1.43.59L10.3 9.45l-7.72 7.72c-.78.78-.78 2.05 0 2.83L4 21.41c.39.39.9.59 1.41.59.51 0 1.02-.2 1.41-.59l7.78-7.78 2.81-2.81c.8-.78.8-2.07 0-2.86zM5.41 20L4 18.59l7.72-7.72 1.47 1.35L5.41 20z\"/>\n",
              "  </svg>\n",
              "      </button>\n",
              "      \n",
              "  <style>\n",
              "    .colab-df-container {\n",
              "      display:flex;\n",
              "      flex-wrap:wrap;\n",
              "      gap: 12px;\n",
              "    }\n",
              "\n",
              "    .colab-df-convert {\n",
              "      background-color: #E8F0FE;\n",
              "      border: none;\n",
              "      border-radius: 50%;\n",
              "      cursor: pointer;\n",
              "      display: none;\n",
              "      fill: #1967D2;\n",
              "      height: 32px;\n",
              "      padding: 0 0 0 0;\n",
              "      width: 32px;\n",
              "    }\n",
              "\n",
              "    .colab-df-convert:hover {\n",
              "      background-color: #E2EBFA;\n",
              "      box-shadow: 0px 1px 2px rgba(60, 64, 67, 0.3), 0px 1px 3px 1px rgba(60, 64, 67, 0.15);\n",
              "      fill: #174EA6;\n",
              "    }\n",
              "\n",
              "    [theme=dark] .colab-df-convert {\n",
              "      background-color: #3B4455;\n",
              "      fill: #D2E3FC;\n",
              "    }\n",
              "\n",
              "    [theme=dark] .colab-df-convert:hover {\n",
              "      background-color: #434B5C;\n",
              "      box-shadow: 0px 1px 3px 1px rgba(0, 0, 0, 0.15);\n",
              "      filter: drop-shadow(0px 1px 2px rgba(0, 0, 0, 0.3));\n",
              "      fill: #FFFFFF;\n",
              "    }\n",
              "  </style>\n",
              "\n",
              "      <script>\n",
              "        const buttonEl =\n",
              "          document.querySelector('#df-6a289f0d-52a5-4f1c-b8de-aab64663689d button.colab-df-convert');\n",
              "        buttonEl.style.display =\n",
              "          google.colab.kernel.accessAllowed ? 'block' : 'none';\n",
              "\n",
              "        async function convertToInteractive(key) {\n",
              "          const element = document.querySelector('#df-6a289f0d-52a5-4f1c-b8de-aab64663689d');\n",
              "          const dataTable =\n",
              "            await google.colab.kernel.invokeFunction('convertToInteractive',\n",
              "                                                     [key], {});\n",
              "          if (!dataTable) return;\n",
              "\n",
              "          const docLinkHtml = 'Like what you see? Visit the ' +\n",
              "            '<a target=\"_blank\" href=https://colab.research.google.com/notebooks/data_table.ipynb>data table notebook</a>'\n",
              "            + ' to learn more about interactive tables.';\n",
              "          element.innerHTML = '';\n",
              "          dataTable['output_type'] = 'display_data';\n",
              "          await google.colab.output.renderOutput(dataTable, element);\n",
              "          const docLink = document.createElement('div');\n",
              "          docLink.innerHTML = docLinkHtml;\n",
              "          element.appendChild(docLink);\n",
              "        }\n",
              "      </script>\n",
              "    </div>\n",
              "  </div>\n",
              "  "
            ]
          },
          "metadata": {},
          "execution_count": 34
        }
      ]
    },
    {
      "cell_type": "markdown",
      "source": [
        "# Feature selection"
      ],
      "metadata": {
        "id": "3Gz7JPNhE832"
      }
    },
    {
      "cell_type": "markdown",
      "source": [
        "If we consider a smaller number of features the less will be accuracy. The more features given to training the model the more will be the precision."
      ],
      "metadata": {
        "id": "JbiSKfejHh-U"
      }
    },
    {
      "cell_type": "code",
      "source": [
        "#selecting the features as 80.\n",
        "num_features = 80"
      ],
      "metadata": {
        "id": "ZsiEJi01E9t1"
      },
      "execution_count": 35,
      "outputs": []
    },
    {
      "cell_type": "code",
      "source": [
        "# define feature selection\n",
        "fs = SelectKBest(score_func=f_classif, k=num_features)\n",
        "# apply feature selection\n",
        "X_selected = fs.fit_transform(data_df[features], data_df[label])\n",
        "print(X_selected.shape)"
      ],
      "metadata": {
        "colab": {
          "base_uri": "https://localhost:8080/"
        },
        "id": "n2DXh3l8FJ5-",
        "outputId": "b3ef302a-de2a-40da-8561-ff3479bf4d48"
      },
      "execution_count": 36,
      "outputs": [
        {
          "output_type": "stream",
          "name": "stdout",
          "text": [
            "(2498, 80)\n"
          ]
        }
      ]
    },
    {
      "cell_type": "code",
      "source": [
        "scores = -np.log10(fs.pvalues_)\n",
        "scores /= scores.max()"
      ],
      "metadata": {
        "id": "JK-IKHulFMwP"
      },
      "execution_count": 37,
      "outputs": []
    },
    {
      "cell_type": "code",
      "source": [
        "features_scores_df = pd.DataFrame()"
      ],
      "metadata": {
        "id": "MA9u-wneFPe0"
      },
      "execution_count": 38,
      "outputs": []
    },
    {
      "cell_type": "code",
      "source": [
        "features_scores_df[\"feature_name\"] = features\n",
        "features_scores_df[\"univariate_score\"] = scores\n"
      ],
      "metadata": {
        "id": "VzMXYxp0NL3I"
      },
      "execution_count": 39,
      "outputs": []
    },
    {
      "cell_type": "markdown",
      "source": [
        "# plotting univariate scores for features"
      ],
      "metadata": {
        "id": "Nk0QCSL_NVI1"
      }
    },
    {
      "cell_type": "markdown",
      "source": [
        "Plotting univariate score to findout which feature is more useful."
      ],
      "metadata": {
        "id": "vzEKKgLOpN9y"
      }
    },
    {
      "cell_type": "code",
      "source": [
        "import matplotlib.pyplot as plt\n",
        "\n",
        "X_indices = np.arange(len(features))\n",
        "plt.figure(1)\n",
        "plt.clf()\n",
        "plt.bar(X_indices - 0.05, scores, width=0.2)\n",
        "plt.title(\"Feature univariate score\")\n",
        "plt.xlabel(\"Feature number\")\n",
        "plt.ylabel(r\"Univariate score ($-Log(p_{value})$)\")\n",
        "plt.show()"
      ],
      "metadata": {
        "colab": {
          "base_uri": "https://localhost:8080/",
          "height": 295
        },
        "id": "j5yAJWoHNQlv",
        "outputId": "440b1725-7822-4555-e2c9-a1d25752003b"
      },
      "execution_count": 40,
      "outputs": [
        {
          "output_type": "display_data",
          "data": {
            "text/plain": [
              "<Figure size 432x288 with 1 Axes>"
            ],
            "image/png": "[encoded data removed]"
          },
          "metadata": {
            "needs_background": "light"
          }
        }
      ]
    },
    {
      "cell_type": "markdown",
      "source": [
        "### Selecting best features"
      ],
      "metadata": {
        "id": "KHPnr6xhNdy3"
      }
    },
    {
      "cell_type": "code",
      "source": [
        "features_scores_df = features_scores_df.sort_values(by=\"univariate_score\", ascending=False)\n",
        "features_scores_df"
      ],
      "metadata": {
        "colab": {
          "base_uri": "https://localhost:8080/",
          "height": 424
        },
        "id": "3HlvPA1SNZDc",
        "outputId": "ea99b7fc-86ac-4eb2-8000-ba37882b6e65"
      },
      "execution_count": 41,
      "outputs": [
        {
          "output_type": "execute_result",
          "data": {
            "text/plain": [
              "       feature_name  univariate_score\n",
              "70   feature_MFCC_6          1.000000\n",
              "71   feature_MFCC_7          0.925022\n",
              "73   feature_MFCC_9          0.839356\n",
              "72   feature_MFCC_8          0.677310\n",
              "69   feature_MFCC_5          0.477047\n",
              "..              ...               ...\n",
              "15  feature_hist_11          0.003415\n",
              "14  feature_hist_10          0.002258\n",
              "40  feature_hist_36          0.001296\n",
              "24  feature_hist_20          0.000456\n",
              "0     feature_power          0.000405\n",
              "\n",
              "[84 rows x 2 columns]"
            ],
            "text/html": [
              "\n",
              "  <div id=\"df-ef835abb-d5d6-4e9b-b4b9-136ed3c9d0de\">\n",
              "    <div class=\"colab-df-container\">\n",
              "      <div>\n",
              "<style scoped>\n",
              "    .dataframe tbody tr th:only-of-type {\n",
              "        vertical-align: middle;\n",
              "    }\n",
              "\n",
              "    .dataframe tbody tr th {\n",
              "        vertical-align: top;\n",
              "    }\n",
              "\n",
              "    .dataframe thead th {\n",
              "        text-align: right;\n",
              "    }\n",
              "</style>\n",
              "<table border=\"1\" class=\"dataframe\">\n",
              "  <thead>\n",
              "    <tr style=\"text-align: right;\">\n",
              "      <th></th>\n",
              "      <th>feature_name</th>\n",
              "      <th>univariate_score</th>\n",
              "    </tr>\n",
              "  </thead>\n",
              "  <tbody>\n",
              "    <tr>\n",
              "      <th>70</th>\n",
              "      <td>feature_MFCC_6</td>\n",
              "      <td>1.000000</td>\n",
              "    </tr>\n",
              "    <tr>\n",
              "      <th>71</th>\n",
              "      <td>feature_MFCC_7</td>\n",
              "      <td>0.925022</td>\n",
              "    </tr>\n",
              "    <tr>\n",
              "      <th>73</th>\n",
              "      <td>feature_MFCC_9</td>\n",
              "      <td>0.839356</td>\n",
              "    </tr>\n",
              "    <tr>\n",
              "      <th>72</th>\n",
              "      <td>feature_MFCC_8</td>\n",
              "      <td>0.677310</td>\n",
              "    </tr>\n",
              "    <tr>\n",
              "      <th>69</th>\n",
              "      <td>feature_MFCC_5</td>\n",
              "      <td>0.477047</td>\n",
              "    </tr>\n",
              "    <tr>\n",
              "      <th>...</th>\n",
              "      <td>...</td>\n",
              "      <td>...</td>\n",
              "    </tr>\n",
              "    <tr>\n",
              "      <th>15</th>\n",
              "      <td>feature_hist_11</td>\n",
              "      <td>0.003415</td>\n",
              "    </tr>\n",
              "    <tr>\n",
              "      <th>14</th>\n",
              "      <td>feature_hist_10</td>\n",
              "      <td>0.002258</td>\n",
              "    </tr>\n",
              "    <tr>\n",
              "      <th>40</th>\n",
              "      <td>feature_hist_36</td>\n",
              "      <td>0.001296</td>\n",
              "    </tr>\n",
              "    <tr>\n",
              "      <th>24</th>\n",
              "      <td>feature_hist_20</td>\n",
              "      <td>0.000456</td>\n",
              "    </tr>\n",
              "    <tr>\n",
              "      <th>0</th>\n",
              "      <td>feature_power</td>\n",
              "      <td>0.000405</td>\n",
              "    </tr>\n",
              "  </tbody>\n",
              "</table>\n",
              "<p>84 rows × 2 columns</p>\n",
              "</div>\n",
              "      <button class=\"colab-df-convert\" onclick=\"convertToInteractive('df-ef835abb-d5d6-4e9b-b4b9-136ed3c9d0de')\"\n",
              "              title=\"Convert this dataframe to an interactive table.\"\n",
              "              style=\"display:none;\">\n",
              "        \n",
              "  <svg xmlns=\"http://www.w3.org/2000/svg\" height=\"24px\"viewBox=\"0 0 24 24\"\n",
              "       width=\"24px\">\n",
              "    <path d=\"M0 0h24v24H0V0z\" fill=\"none\"/>\n",
              "    <path d=\"M18.56 5.44l.94 2.06.94-2.06 2.06-.94-2.06-.94-.94-2.06-.94 2.06-2.06.94zm-11 1L8.5 8.5l.94-2.06 2.06-.94-2.06-.94L8.5 2.5l-.94 2.06-2.06.94zm10 10l.94 2.06.94-2.06 2.06-.94-2.06-.94-.94-2.06-.94 2.06-2.06.94z\"/><path d=\"M17.41 7.96l-1.37-1.37c-.4-.4-.92-.59-1.43-.59-.52 0-1.04.2-1.43.59L10.3 9.45l-7.72 7.72c-.78.78-.78 2.05 0 2.83L4 21.41c.39.39.9.59 1.41.59.51 0 1.02-.2 1.41-.59l7.78-7.78 2.81-2.81c.8-.78.8-2.07 0-2.86zM5.41 20L4 18.59l7.72-7.72 1.47 1.35L5.41 20z\"/>\n",
              "  </svg>\n",
              "      </button>\n",
              "      \n",
              "  <style>\n",
              "    .colab-df-container {\n",
              "      display:flex;\n",
              "      flex-wrap:wrap;\n",
              "      gap: 12px;\n",
              "    }\n",
              "\n",
              "    .colab-df-convert {\n",
              "      background-color: #E8F0FE;\n",
              "      border: none;\n",
              "      border-radius: 50%;\n",
              "      cursor: pointer;\n",
              "      display: none;\n",
              "      fill: #1967D2;\n",
              "      height: 32px;\n",
              "      padding: 0 0 0 0;\n",
              "      width: 32px;\n",
              "    }\n",
              "\n",
              "    .colab-df-convert:hover {\n",
              "      background-color: #E2EBFA;\n",
              "      box-shadow: 0px 1px 2px rgba(60, 64, 67, 0.3), 0px 1px 3px 1px rgba(60, 64, 67, 0.15);\n",
              "      fill: #174EA6;\n",
              "    }\n",
              "\n",
              "    [theme=dark] .colab-df-convert {\n",
              "      background-color: #3B4455;\n",
              "      fill: #D2E3FC;\n",
              "    }\n",
              "\n",
              "    [theme=dark] .colab-df-convert:hover {\n",
              "      background-color: #434B5C;\n",
              "      box-shadow: 0px 1px 3px 1px rgba(0, 0, 0, 0.15);\n",
              "      filter: drop-shadow(0px 1px 2px rgba(0, 0, 0, 0.3));\n",
              "      fill: #FFFFFF;\n",
              "    }\n",
              "  </style>\n",
              "\n",
              "      <script>\n",
              "        const buttonEl =\n",
              "          document.querySelector('#df-ef835abb-d5d6-4e9b-b4b9-136ed3c9d0de button.colab-df-convert');\n",
              "        buttonEl.style.display =\n",
              "          google.colab.kernel.accessAllowed ? 'block' : 'none';\n",
              "\n",
              "        async function convertToInteractive(key) {\n",
              "          const element = document.querySelector('#df-ef835abb-d5d6-4e9b-b4b9-136ed3c9d0de');\n",
              "          const dataTable =\n",
              "            await google.colab.kernel.invokeFunction('convertToInteractive',\n",
              "                                                     [key], {});\n",
              "          if (!dataTable) return;\n",
              "\n",
              "          const docLinkHtml = 'Like what you see? Visit the ' +\n",
              "            '<a target=\"_blank\" href=https://colab.research.google.com/notebooks/data_table.ipynb>data table notebook</a>'\n",
              "            + ' to learn more about interactive tables.';\n",
              "          element.innerHTML = '';\n",
              "          dataTable['output_type'] = 'display_data';\n",
              "          await google.colab.output.renderOutput(dataTable, element);\n",
              "          const docLink = document.createElement('div');\n",
              "          docLink.innerHTML = docLinkHtml;\n",
              "          element.appendChild(docLink);\n",
              "        }\n",
              "      </script>\n",
              "    </div>\n",
              "  </div>\n",
              "  "
            ]
          },
          "metadata": {},
          "execution_count": 41
        }
      ]
    },
    {
      "cell_type": "markdown",
      "source": [
        "# 8 Results\n",
        "\n",
        "Carry out your experiments here, explain your results."
      ],
      "metadata": {
        "id": "bq0M9hAphFuJ"
      }
    },
    {
      "cell_type": "code",
      "source": [
        "selected_features = features_scores_df[\"feature_name\"].values.tolist()[:num_features]"
      ],
      "metadata": {
        "id": "JgQG5QsENg7A"
      },
      "execution_count": 42,
      "outputs": []
    },
    {
      "cell_type": "code",
      "source": [
        "from sklearn.pipeline import make_pipeline\n",
        "from sklearn.decomposition import PCA\n",
        "from sklearn.linear_model import LogisticRegression\n",
        "from sklearn.svm import LinearSVC\n",
        "from sklearn.svm import SVC\n",
        "from sklearn.neighbors import KNeighborsClassifier\n",
        "from sklearn.tree import DecisionTreeClassifier\n",
        "from sklearn.ensemble import RandomForestClassifier\n",
        "from sklearn.ensemble import GradientBoostingClassifier\n",
        "from sklearn.preprocessing import StandardScaler\n",
        "from sklearn.naive_bayes import GaussianNB\n",
        "from sklearn.model_selection import KFold"
      ],
      "metadata": {
        "id": "XjcTvaQBNnYi"
      },
      "execution_count": 43,
      "outputs": []
    },
    {
      "cell_type": "code",
      "source": [
        "folds = 7\n",
        "models = [LogisticRegression(), LinearSVC(), SVC(), KNeighborsClassifier(), DecisionTreeClassifier(), RandomForestClassifier(), GradientBoostingClassifier(), GaussianNB()]\n",
        "model_names = [\"Logistic Regression\", \"Linear SVC\", \"SVC\",\"K-Neighbors Classifier\", \"Decision Tree Classifier\", \"RandomForest Classifier\", \"Gradient Boosting Classifier\",\"Gaussian Naive Bayes\"]\n",
        "model_scores_df = pd.DataFrame()\n",
        "model_scores_df[\"model_name\"] = model_names"
      ],
      "metadata": {
        "id": "bvAf1Xk3NpzR"
      },
      "execution_count": 44,
      "outputs": []
    },
    {
      "cell_type": "code",
      "source": [
        "kf = KFold(n_splits=folds)\n",
        "\n",
        "accuracy_train = []\n",
        "accuracy_validation = []\n",
        "\n",
        "for model, model_name in zip(models,model_names):\n",
        "    print(f\"Training {model_name} using {folds}-fold cross validation\")\n",
        "    #classifier = make_pipeline(model)\n",
        "    classifier = make_pipeline(StandardScaler(), model)\n",
        "    accuracy_train_CV = []\n",
        "    accuracy_validation_CV = []\n",
        "    for train_index, val_index in kf.split(data_df[selected_features]):\n",
        "        # print(f\"TRAIN INDEX: START - {train_index[0]}, STOP - {train_index[-1]} VALIDATION_INDEX: START - {val_index[0]}, STOP - {val_index[-1]}\")\n",
        "        X_train, X_val = data_df[selected_features].iloc[train_index,:] , data_df[selected_features].iloc[val_index,:]\n",
        "        y_train, y_val = data_df[label].iloc[train_index] , data_df[label].iloc[val_index]\n",
        "        classifier.fit(X_train, y_train)\n",
        "        accuracy_tr = classifier.score(X_train, y_train)\n",
        "        accuracy_val = classifier.score(X_val, y_val)\n",
        "        accuracy_train_CV.append(accuracy_tr)\n",
        "        accuracy_validation_CV.append(accuracy_val)\n",
        "    accuracy_train.append(np.mean(accuracy_train_CV))\n",
        "    accuracy_validation.append(np.mean(accuracy_validation_CV))\n",
        "\n",
        "model_scores_df[\"Train Accuracy\"] = accuracy_train\n",
        "model_scores_df[\"Validation Accuracy\"] = accuracy_validation\n",
        "        "
      ],
      "metadata": {
        "colab": {
          "base_uri": "https://localhost:8080/"
        },
        "id": "ToosL2LsNujD",
        "outputId": "28d1b5c6-6fdc-4d45-c439-3675605520b4"
      },
      "execution_count": 45,
      "outputs": [
        {
          "output_type": "stream",
          "name": "stdout",
          "text": [
            "Training Logistic Regression using 7-fold cross validation\n",
            "Training Linear SVC using 7-fold cross validation\n",
            "Training SVC using 7-fold cross validation\n",
            "Training K-Neighbors Classifier using 7-fold cross validation\n",
            "Training Decision Tree Classifier using 7-fold cross validation\n",
            "Training RandomForest Classifier using 7-fold cross validation\n",
            "Training Gradient Boosting Classifier using 7-fold cross validation\n",
            "Training Gaussian Naive Bayes using 7-fold cross validation\n"
          ]
        }
      ]
    },
    {
      "cell_type": "code",
      "source": [
        "model_scores_df"
      ],
      "metadata": {
        "colab": {
          "base_uri": "https://localhost:8080/",
          "height": 300
        },
        "id": "GOJlvVY1NxsP",
        "outputId": "2fa1b440-e935-438a-c897-080f0c55c92d"
      },
      "execution_count": 46,
      "outputs": [
        {
          "output_type": "execute_result",
          "data": {
            "text/plain": [
              "                     model_name  Train Accuracy  Validation Accuracy\n",
              "0           Logistic Regression        0.796370             0.776630\n",
              "1                    Linear SVC        0.797171             0.772621\n",
              "2                           SVC        0.863024             0.789444\n",
              "3        K-Neighbors Classifier        0.794836             0.672542\n",
              "4      Decision Tree Classifier        1.000000             0.666143\n",
              "5       RandomForest Classifier        1.000000             0.748608\n",
              "6  Gradient Boosting Classifier        0.908127             0.786236\n",
              "7          Gaussian Naive Bayes        0.654258             0.644118"
            ],
            "text/html": [
              "\n",
              "  <div id=\"df-6d8cd73d-d208-4da8-9bc7-68ee7c37502e\">\n",
              "    <div class=\"colab-df-container\">\n",
              "      <div>\n",
              "<style scoped>\n",
              "    .dataframe tbody tr th:only-of-type {\n",
              "        vertical-align: middle;\n",
              "    }\n",
              "\n",
              "    .dataframe tbody tr th {\n",
              "        vertical-align: top;\n",
              "    }\n",
              "\n",
              "    .dataframe thead th {\n",
              "        text-align: right;\n",
              "    }\n",
              "</style>\n",
              "<table border=\"1\" class=\"dataframe\">\n",
              "  <thead>\n",
              "    <tr style=\"text-align: right;\">\n",
              "      <th></th>\n",
              "      <th>model_name</th>\n",
              "      <th>Train Accuracy</th>\n",
              "      <th>Validation Accuracy</th>\n",
              "    </tr>\n",
              "  </thead>\n",
              "  <tbody>\n",
              "    <tr>\n",
              "      <th>0</th>\n",
              "      <td>Logistic Regression</td>\n",
              "      <td>0.796370</td>\n",
              "      <td>0.776630</td>\n",
              "    </tr>\n",
              "    <tr>\n",
              "      <th>1</th>\n",
              "      <td>Linear SVC</td>\n",
              "      <td>0.797171</td>\n",
              "      <td>0.772621</td>\n",
              "    </tr>\n",
              "    <tr>\n",
              "      <th>2</th>\n",
              "      <td>SVC</td>\n",
              "      <td>0.863024</td>\n",
              "      <td>0.789444</td>\n",
              "    </tr>\n",
              "    <tr>\n",
              "      <th>3</th>\n",
              "      <td>K-Neighbors Classifier</td>\n",
              "      <td>0.794836</td>\n",
              "      <td>0.672542</td>\n",
              "    </tr>\n",
              "    <tr>\n",
              "      <th>4</th>\n",
              "      <td>Decision Tree Classifier</td>\n",
              "      <td>1.000000</td>\n",
              "      <td>0.666143</td>\n",
              "    </tr>\n",
              "    <tr>\n",
              "      <th>5</th>\n",
              "      <td>RandomForest Classifier</td>\n",
              "      <td>1.000000</td>\n",
              "      <td>0.748608</td>\n",
              "    </tr>\n",
              "    <tr>\n",
              "      <th>6</th>\n",
              "      <td>Gradient Boosting Classifier</td>\n",
              "      <td>0.908127</td>\n",
              "      <td>0.786236</td>\n",
              "    </tr>\n",
              "    <tr>\n",
              "      <th>7</th>\n",
              "      <td>Gaussian Naive Bayes</td>\n",
              "      <td>0.654258</td>\n",
              "      <td>0.644118</td>\n",
              "    </tr>\n",
              "  </tbody>\n",
              "</table>\n",
              "</div>\n",
              "      <button class=\"colab-df-convert\" onclick=\"convertToInteractive('df-6d8cd73d-d208-4da8-9bc7-68ee7c37502e')\"\n",
              "              title=\"Convert this dataframe to an interactive table.\"\n",
              "              style=\"display:none;\">\n",
              "        \n",
              "  <svg xmlns=\"http://www.w3.org/2000/svg\" height=\"24px\"viewBox=\"0 0 24 24\"\n",
              "       width=\"24px\">\n",
              "    <path d=\"M0 0h24v24H0V0z\" fill=\"none\"/>\n",
              "    <path d=\"M18.56 5.44l.94 2.06.94-2.06 2.06-.94-2.06-.94-.94-2.06-.94 2.06-2.06.94zm-11 1L8.5 8.5l.94-2.06 2.06-.94-2.06-.94L8.5 2.5l-.94 2.06-2.06.94zm10 10l.94 2.06.94-2.06 2.06-.94-2.06-.94-.94-2.06-.94 2.06-2.06.94z\"/><path d=\"M17.41 7.96l-1.37-1.37c-.4-.4-.92-.59-1.43-.59-.52 0-1.04.2-1.43.59L10.3 9.45l-7.72 7.72c-.78.78-.78 2.05 0 2.83L4 21.41c.39.39.9.59 1.41.59.51 0 1.02-.2 1.41-.59l7.78-7.78 2.81-2.81c.8-.78.8-2.07 0-2.86zM5.41 20L4 18.59l7.72-7.72 1.47 1.35L5.41 20z\"/>\n",
              "  </svg>\n",
              "      </button>\n",
              "      \n",
              "  <style>\n",
              "    .colab-df-container {\n",
              "      display:flex;\n",
              "      flex-wrap:wrap;\n",
              "      gap: 12px;\n",
              "    }\n",
              "\n",
              "    .colab-df-convert {\n",
              "      background-color: #E8F0FE;\n",
              "      border: none;\n",
              "      border-radius: 50%;\n",
              "      cursor: pointer;\n",
              "      display: none;\n",
              "      fill: #1967D2;\n",
              "      height: 32px;\n",
              "      padding: 0 0 0 0;\n",
              "      width: 32px;\n",
              "    }\n",
              "\n",
              "    .colab-df-convert:hover {\n",
              "      background-color: #E2EBFA;\n",
              "      box-shadow: 0px 1px 2px rgba(60, 64, 67, 0.3), 0px 1px 3px 1px rgba(60, 64, 67, 0.15);\n",
              "      fill: #174EA6;\n",
              "    }\n",
              "\n",
              "    [theme=dark] .colab-df-convert {\n",
              "      background-color: #3B4455;\n",
              "      fill: #D2E3FC;\n",
              "    }\n",
              "\n",
              "    [theme=dark] .colab-df-convert:hover {\n",
              "      background-color: #434B5C;\n",
              "      box-shadow: 0px 1px 3px 1px rgba(0, 0, 0, 0.15);\n",
              "      filter: drop-shadow(0px 1px 2px rgba(0, 0, 0, 0.3));\n",
              "      fill: #FFFFFF;\n",
              "    }\n",
              "  </style>\n",
              "\n",
              "      <script>\n",
              "        const buttonEl =\n",
              "          document.querySelector('#df-6d8cd73d-d208-4da8-9bc7-68ee7c37502e button.colab-df-convert');\n",
              "        buttonEl.style.display =\n",
              "          google.colab.kernel.accessAllowed ? 'block' : 'none';\n",
              "\n",
              "        async function convertToInteractive(key) {\n",
              "          const element = document.querySelector('#df-6d8cd73d-d208-4da8-9bc7-68ee7c37502e');\n",
              "          const dataTable =\n",
              "            await google.colab.kernel.invokeFunction('convertToInteractive',\n",
              "                                                     [key], {});\n",
              "          if (!dataTable) return;\n",
              "\n",
              "          const docLinkHtml = 'Like what you see? Visit the ' +\n",
              "            '<a target=\"_blank\" href=https://colab.research.google.com/notebooks/data_table.ipynb>data table notebook</a>'\n",
              "            + ' to learn more about interactive tables.';\n",
              "          element.innerHTML = '';\n",
              "          dataTable['output_type'] = 'display_data';\n",
              "          await google.colab.output.renderOutput(dataTable, element);\n",
              "          const docLink = document.createElement('div');\n",
              "          docLink.innerHTML = docLinkHtml;\n",
              "          element.appendChild(docLink);\n",
              "        }\n",
              "      </script>\n",
              "    </div>\n",
              "  </div>\n",
              "  "
            ]
          },
          "metadata": {},
          "execution_count": 46
        }
      ]
    },
    {
      "cell_type": "markdown",
      "source": [
        "# Hyperparameter Tuning (Manual)"
      ],
      "metadata": {
        "id": "bJO1bUHZN-qP"
      }
    },
    {
      "cell_type": "code",
      "source": [
        "models = [LogisticRegression(max_iter=10000, penalty=\"elasticnet\", C= 1.0, solver='saga', l1_ratio=1), LinearSVC(max_iter=10000, C=1e-1), SVC(max_iter=10000, gamma='auto', probability=True), KNeighborsClassifier(n_neighbors=450), DecisionTreeClassifier(max_depth=10, max_features=int(np.around(np.sqrt(num_features))), min_samples_split=10), RandomForestClassifier(n_estimators=250 ,max_depth=8, max_features=int(np.around(np.sqrt(num_features))), min_samples_split=25), GradientBoostingClassifier(n_estimators=200, max_features=60, min_samples_leaf=8), GaussianNB()]\n",
        "\n",
        "#n_estimators=120, max_depth=6, max_features= int(np.around(np.sqrt(num_features))), min_samples_split=200\n",
        "\n",
        "model_names = [\"Logistic Regression\", \"Linear SVC\", \"SVC\",\"K-Neighbors Classifier\", \"Decision Tree Classifier\", \"RandomForest Classifier\", \"Gradient Boosting Classifier\",\"Gaussian Naive Bayes\"]\n",
        "model_scores_df = pd.DataFrame()\n",
        "model_scores_df[\"model_name\"] = model_names"
      ],
      "metadata": {
        "id": "3M-S-QCzN6yg"
      },
      "execution_count": 47,
      "outputs": []
    },
    {
      "cell_type": "code",
      "source": [
        "kf = KFold(n_splits=folds)\n",
        "\n",
        "accuracy_train = []\n",
        "accuracy_validation = []\n",
        "\n",
        "for model, model_name in zip(models,model_names):\n",
        "    print(f\"Training {model_name} using {folds}-fold cross validation\")\n",
        "    #classifier = make_pipeline(model)\n",
        "    classifier = make_pipeline(StandardScaler(), model)\n",
        "    accuracy_train_CV = []\n",
        "    accuracy_validation_CV = []\n",
        "    for train_index, val_index in kf.split(data_df[selected_features]):\n",
        "        # print(f\"TRAIN INDEX: START - {train_index[0]}, STOP - {train_index[-1]} VALIDATION_INDEX: START - {val_index[0]}, STOP - {val_index[-1]}\")\n",
        "        X_train, X_val = data_df[selected_features].iloc[train_index,:] , data_df[selected_features].iloc[val_index,:]\n",
        "        y_train, y_val = data_df[label].iloc[train_index] , data_df[label].iloc[val_index]\n",
        "        classifier.fit(X_train, y_train)\n",
        "        accuracy_tr = classifier.score(X_train, y_train)\n",
        "        accuracy_val = classifier.score(X_val, y_val)\n",
        "        accuracy_train_CV.append(accuracy_tr)\n",
        "        accuracy_validation_CV.append(accuracy_val)\n",
        "    accuracy_train.append(np.mean(accuracy_train_CV))\n",
        "    accuracy_validation.append(np.mean(accuracy_validation_CV))\n",
        "\n",
        "model_scores_df[\"Train Accuracy\"] = accuracy_train\n",
        "model_scores_df[\"Validation Accuracy\"] = accuracy_validation"
      ],
      "metadata": {
        "colab": {
          "base_uri": "https://localhost:8080/"
        },
        "id": "lVD67SViOBm3",
        "outputId": "8fce37b5-92db-4cc0-b24e-5d323147d097"
      },
      "execution_count": 48,
      "outputs": [
        {
          "output_type": "stream",
          "name": "stdout",
          "text": [
            "Training Logistic Regression using 7-fold cross validation\n",
            "Training Linear SVC using 7-fold cross validation\n",
            "Training SVC using 7-fold cross validation\n",
            "Training K-Neighbors Classifier using 7-fold cross validation\n",
            "Training Decision Tree Classifier using 7-fold cross validation\n",
            "Training RandomForest Classifier using 7-fold cross validation\n",
            "Training Gradient Boosting Classifier using 7-fold cross validation\n",
            "Training Gaussian Naive Bayes using 7-fold cross validation\n"
          ]
        }
      ]
    },
    {
      "cell_type": "code",
      "source": [
        "model_scores_df"
      ],
      "metadata": {
        "colab": {
          "base_uri": "https://localhost:8080/",
          "height": 300
        },
        "id": "SAjb33XiODsv",
        "outputId": "7dc06a52-562f-4f71-fbe7-fb50a391a36c"
      },
      "execution_count": 49,
      "outputs": [
        {
          "output_type": "execute_result",
          "data": {
            "text/plain": [
              "                     model_name  Train Accuracy  Validation Accuracy\n",
              "0           Logistic Regression        0.795436             0.780231\n",
              "1                    Linear SVC        0.795703             0.775827\n",
              "2                           SVC        0.863024             0.789444\n",
              "3        K-Neighbors Classifier        0.726982             0.721390\n",
              "4      Decision Tree Classifier        0.876368             0.624500\n",
              "5       RandomForest Classifier        0.914265             0.753813\n",
              "6  Gradient Boosting Classifier        0.954430             0.791845\n",
              "7          Gaussian Naive Bayes        0.654258             0.644118"
            ],
            "text/html": [
              "\n",
              "  <div id=\"df-7854d0bc-56e2-414d-8dc4-7a87bef3079d\">\n",
              "    <div class=\"colab-df-container\">\n",
              "      <div>\n",
              "<style scoped>\n",
              "    .dataframe tbody tr th:only-of-type {\n",
              "        vertical-align: middle;\n",
              "    }\n",
              "\n",
              "    .dataframe tbody tr th {\n",
              "        vertical-align: top;\n",
              "    }\n",
              "\n",
              "    .dataframe thead th {\n",
              "        text-align: right;\n",
              "    }\n",
              "</style>\n",
              "<table border=\"1\" class=\"dataframe\">\n",
              "  <thead>\n",
              "    <tr style=\"text-align: right;\">\n",
              "      <th></th>\n",
              "      <th>model_name</th>\n",
              "      <th>Train Accuracy</th>\n",
              "      <th>Validation Accuracy</th>\n",
              "    </tr>\n",
              "  </thead>\n",
              "  <tbody>\n",
              "    <tr>\n",
              "      <th>0</th>\n",
              "      <td>Logistic Regression</td>\n",
              "      <td>0.795436</td>\n",
              "      <td>0.780231</td>\n",
              "    </tr>\n",
              "    <tr>\n",
              "      <th>1</th>\n",
              "      <td>Linear SVC</td>\n",
              "      <td>0.795703</td>\n",
              "      <td>0.775827</td>\n",
              "    </tr>\n",
              "    <tr>\n",
              "      <th>2</th>\n",
              "      <td>SVC</td>\n",
              "      <td>0.863024</td>\n",
              "      <td>0.789444</td>\n",
              "    </tr>\n",
              "    <tr>\n",
              "      <th>3</th>\n",
              "      <td>K-Neighbors Classifier</td>\n",
              "      <td>0.726982</td>\n",
              "      <td>0.721390</td>\n",
              "    </tr>\n",
              "    <tr>\n",
              "      <th>4</th>\n",
              "      <td>Decision Tree Classifier</td>\n",
              "      <td>0.876368</td>\n",
              "      <td>0.624500</td>\n",
              "    </tr>\n",
              "    <tr>\n",
              "      <th>5</th>\n",
              "      <td>RandomForest Classifier</td>\n",
              "      <td>0.914265</td>\n",
              "      <td>0.753813</td>\n",
              "    </tr>\n",
              "    <tr>\n",
              "      <th>6</th>\n",
              "      <td>Gradient Boosting Classifier</td>\n",
              "      <td>0.954430</td>\n",
              "      <td>0.791845</td>\n",
              "    </tr>\n",
              "    <tr>\n",
              "      <th>7</th>\n",
              "      <td>Gaussian Naive Bayes</td>\n",
              "      <td>0.654258</td>\n",
              "      <td>0.644118</td>\n",
              "    </tr>\n",
              "  </tbody>\n",
              "</table>\n",
              "</div>\n",
              "      <button class=\"colab-df-convert\" onclick=\"convertToInteractive('df-7854d0bc-56e2-414d-8dc4-7a87bef3079d')\"\n",
              "              title=\"Convert this dataframe to an interactive table.\"\n",
              "              style=\"display:none;\">\n",
              "        \n",
              "  <svg xmlns=\"http://www.w3.org/2000/svg\" height=\"24px\"viewBox=\"0 0 24 24\"\n",
              "       width=\"24px\">\n",
              "    <path d=\"M0 0h24v24H0V0z\" fill=\"none\"/>\n",
              "    <path d=\"M18.56 5.44l.94 2.06.94-2.06 2.06-.94-2.06-.94-.94-2.06-.94 2.06-2.06.94zm-11 1L8.5 8.5l.94-2.06 2.06-.94-2.06-.94L8.5 2.5l-.94 2.06-2.06.94zm10 10l.94 2.06.94-2.06 2.06-.94-2.06-.94-.94-2.06-.94 2.06-2.06.94z\"/><path d=\"M17.41 7.96l-1.37-1.37c-.4-.4-.92-.59-1.43-.59-.52 0-1.04.2-1.43.59L10.3 9.45l-7.72 7.72c-.78.78-.78 2.05 0 2.83L4 21.41c.39.39.9.59 1.41.59.51 0 1.02-.2 1.41-.59l7.78-7.78 2.81-2.81c.8-.78.8-2.07 0-2.86zM5.41 20L4 18.59l7.72-7.72 1.47 1.35L5.41 20z\"/>\n",
              "  </svg>\n",
              "      </button>\n",
              "      \n",
              "  <style>\n",
              "    .colab-df-container {\n",
              "      display:flex;\n",
              "      flex-wrap:wrap;\n",
              "      gap: 12px;\n",
              "    }\n",
              "\n",
              "    .colab-df-convert {\n",
              "      background-color: #E8F0FE;\n",
              "      border: none;\n",
              "      border-radius: 50%;\n",
              "      cursor: pointer;\n",
              "      display: none;\n",
              "      fill: #1967D2;\n",
              "      height: 32px;\n",
              "      padding: 0 0 0 0;\n",
              "      width: 32px;\n",
              "    }\n",
              "\n",
              "    .colab-df-convert:hover {\n",
              "      background-color: #E2EBFA;\n",
              "      box-shadow: 0px 1px 2px rgba(60, 64, 67, 0.3), 0px 1px 3px 1px rgba(60, 64, 67, 0.15);\n",
              "      fill: #174EA6;\n",
              "    }\n",
              "\n",
              "    [theme=dark] .colab-df-convert {\n",
              "      background-color: #3B4455;\n",
              "      fill: #D2E3FC;\n",
              "    }\n",
              "\n",
              "    [theme=dark] .colab-df-convert:hover {\n",
              "      background-color: #434B5C;\n",
              "      box-shadow: 0px 1px 3px 1px rgba(0, 0, 0, 0.15);\n",
              "      filter: drop-shadow(0px 1px 2px rgba(0, 0, 0, 0.3));\n",
              "      fill: #FFFFFF;\n",
              "    }\n",
              "  </style>\n",
              "\n",
              "      <script>\n",
              "        const buttonEl =\n",
              "          document.querySelector('#df-7854d0bc-56e2-414d-8dc4-7a87bef3079d button.colab-df-convert');\n",
              "        buttonEl.style.display =\n",
              "          google.colab.kernel.accessAllowed ? 'block' : 'none';\n",
              "\n",
              "        async function convertToInteractive(key) {\n",
              "          const element = document.querySelector('#df-7854d0bc-56e2-414d-8dc4-7a87bef3079d');\n",
              "          const dataTable =\n",
              "            await google.colab.kernel.invokeFunction('convertToInteractive',\n",
              "                                                     [key], {});\n",
              "          if (!dataTable) return;\n",
              "\n",
              "          const docLinkHtml = 'Like what you see? Visit the ' +\n",
              "            '<a target=\"_blank\" href=https://colab.research.google.com/notebooks/data_table.ipynb>data table notebook</a>'\n",
              "            + ' to learn more about interactive tables.';\n",
              "          element.innerHTML = '';\n",
              "          dataTable['output_type'] = 'display_data';\n",
              "          await google.colab.output.renderOutput(dataTable, element);\n",
              "          const docLink = document.createElement('div');\n",
              "          docLink.innerHTML = docLinkHtml;\n",
              "          element.appendChild(docLink);\n",
              "        }\n",
              "      </script>\n",
              "    </div>\n",
              "  </div>\n",
              "  "
            ]
          },
          "metadata": {},
          "execution_count": 49
        }
      ]
    },
    {
      "cell_type": "code",
      "source": [
        "model_scores_df = model_scores_df.sort_values(by=\"Validation Accuracy\", ascending=False)\n",
        "\n",
        "selected_models = [models[model_names.index(x)] for x in model_scores_df[\"model_name\"].values.tolist()[:4]]\n",
        "selected_models"
      ],
      "metadata": {
        "colab": {
          "base_uri": "https://localhost:8080/"
        },
        "id": "1BQcpDftOGQ3",
        "outputId": "4f782479-31d8-4441-b0bf-396f9a584f3f"
      },
      "execution_count": 50,
      "outputs": [
        {
          "output_type": "execute_result",
          "data": {
            "text/plain": [
              "[GradientBoostingClassifier(max_features=60, min_samples_leaf=8,\n",
              "                            n_estimators=200),\n",
              " SVC(gamma='auto', max_iter=10000, probability=True),\n",
              " LogisticRegression(l1_ratio=1, max_iter=10000, penalty='elasticnet',\n",
              "                    solver='saga'),\n",
              " LinearSVC(C=0.1, max_iter=10000)]"
            ]
          },
          "metadata": {},
          "execution_count": 50
        }
      ]
    },
    {
      "cell_type": "markdown",
      "source": [
        "# Voting Classifier"
      ],
      "metadata": {
        "id": "BvbOrdYaOMq5"
      }
    },
    {
      "cell_type": "code",
      "source": [
        "from sklearn.ensemble import VotingClassifier"
      ],
      "metadata": {
        "id": "8-fwoJAmOIod"
      },
      "execution_count": 51,
      "outputs": []
    },
    {
      "cell_type": "code",
      "source": [
        "#create a dictionary of our models\n",
        "estimators = [(x, make_pipeline(StandardScaler(), models[model_names.index(x)])) for x in model_scores_df[\"model_name\"].values.tolist()[:3]]\n"
      ],
      "metadata": {
        "id": "x4xoIHilORur"
      },
      "execution_count": 52,
      "outputs": []
    },
    {
      "cell_type": "code",
      "source": [
        "estimators"
      ],
      "metadata": {
        "colab": {
          "base_uri": "https://localhost:8080/"
        },
        "id": "wVVptJH3OUlI",
        "outputId": "4232f31c-bb61-4c2b-a8c9-efb03a16ab73"
      },
      "execution_count": 53,
      "outputs": [
        {
          "output_type": "execute_result",
          "data": {
            "text/plain": [
              "[('Gradient Boosting Classifier',\n",
              "  Pipeline(steps=[('standardscaler', StandardScaler()),\n",
              "                  ('gradientboostingclassifier',\n",
              "                   GradientBoostingClassifier(max_features=60, min_samples_leaf=8,\n",
              "                                              n_estimators=200))])),\n",
              " ('SVC', Pipeline(steps=[('standardscaler', StandardScaler()),\n",
              "                  ('svc', SVC(gamma='auto', max_iter=10000, probability=True))])),\n",
              " ('Logistic Regression', Pipeline(steps=[('standardscaler', StandardScaler()),\n",
              "                  ('logisticregression',\n",
              "                   LogisticRegression(l1_ratio=1, max_iter=10000,\n",
              "                                      penalty='elasticnet', solver='saga'))]))]"
            ]
          },
          "metadata": {},
          "execution_count": 53
        }
      ]
    },
    {
      "cell_type": "code",
      "source": [
        "#create our voting classifier, inputting our models\n",
        "ensemble = VotingClassifier(estimators, voting='hard')"
      ],
      "metadata": {
        "id": "I0GasmO_OYCy"
      },
      "execution_count": 54,
      "outputs": []
    },
    {
      "cell_type": "code",
      "source": [
        "kf = KFold(n_splits=folds)\n",
        "ensemble_accuracy_train_CV = []\n",
        "ensemble_accuracy_validation_CV = []\n",
        "print(f\"Voting top classifiers with {folds} fold CV.....\")\n",
        "for train_index, val_index in kf.split(data_df[selected_features]):\n",
        "    print(f\"VALIDATION_INDEX: START - {val_index[0]}, STOP - {val_index[-1]}\")\n",
        "    X_train, X_val = data_df[selected_features].iloc[train_index,:] , data_df[selected_features].iloc[val_index,:]\n",
        "    y_train, y_val = data_df[label].iloc[train_index] , data_df[label].iloc[val_index]\n",
        "    ensemble.fit(X_train, y_train)\n",
        "    accuracy_tr = ensemble.score(X_train, y_train)\n",
        "    accuracy_val = ensemble.score(X_val, y_val)\n",
        "    ensemble_accuracy_train_CV.append(accuracy_tr)\n",
        "    ensemble_accuracy_validation_CV.append(accuracy_val)\n",
        "\n",
        "print(f\"Training Accuracy   : {np.mean(ensemble_accuracy_train_CV)}\")\n",
        "print(f\"Validation Accuracy : {np.mean(ensemble_accuracy_validation_CV)}\")"
      ],
      "metadata": {
        "colab": {
          "base_uri": "https://localhost:8080/"
        },
        "id": "P70azO0KObPm",
        "outputId": "f86c9290-201b-45e8-d94f-5bc238e6cc28"
      },
      "execution_count": 55,
      "outputs": [
        {
          "output_type": "stream",
          "name": "stdout",
          "text": [
            "Voting top classifiers with 7 fold CV.....\n",
            "VALIDATION_INDEX: START - 0, STOP - 356\n",
            "VALIDATION_INDEX: START - 357, STOP - 713\n",
            "VALIDATION_INDEX: START - 714, STOP - 1070\n",
            "VALIDATION_INDEX: START - 1071, STOP - 1427\n",
            "VALIDATION_INDEX: START - 1428, STOP - 1784\n",
            "VALIDATION_INDEX: START - 1785, STOP - 2141\n",
            "VALIDATION_INDEX: START - 2142, STOP - 2497\n",
            "Training Accuracy   : 0.8767015758506425\n",
            "Validation Accuracy : 0.8018533255999029\n"
          ]
        }
      ]
    },
    {
      "cell_type": "markdown",
      "source": [
        "# Predicting on new audio samples\n",
        "\n"
      ],
      "metadata": {
        "id": "5vo1vblRniky"
      }
    },
    {
      "cell_type": "markdown",
      "source": [
        "The following class inherits from PreprocAndFeatureExtraction class, so that we can use all methods to extract features from new audio. \n"
      ],
      "metadata": {
        "id": "nXThLbFMoOaL"
      }
    },
    {
      "cell_type": "code",
      "source": [
        "#Defining the child class PredictSurrounding that inherits from parent class named PreprocAndFeatureExtraction \n",
        "#To create a class that inherits the functionality from another class, sending the parent class as a parameter.\n",
        "\n",
        "class PredictSurrounding (PreprocAndFeatureExtraction):\n",
        "    def __init__(self, base_path, zip_files, sampling_rate, ensemble_pipeline, feature_names, class_names):\n",
        "        #super() function will make the child class inherit all the methods and properties from its parent\n",
        "        super().__init__(base_path, zip_files, sampling_rate)\n",
        "        self.ensemblePipeline = ensemble_pipeline\n",
        "        self.classeNames = class_names\n",
        "        self.selectedFeatures = feature_names\n",
        "        self.selectedFeatureIndices = [self.featureColumnNames.index(x) for x in self.selectedFeatures]\n",
        "    \n",
        "    def predictOnAudio(self, audio_path):\n",
        "        audioSample, _ = librosa.load(audio_path, sr= self.samplingRate)\n",
        "        power_pitch_voice_features = self.features_power_pitch_voicedFr(audioSample)\n",
        "        hist_features = self.extract_amplitude_features(audioSample)\n",
        "        zero_crossing_features = self.extract_zero_crossings_ratio_features(audioSample)\n",
        "        spectral_centroid_features = self.features_from_spectral_centroids(audioSample)\n",
        "        spectral_rolloff_features = self.features_from_spectral_rolloff(audioSample)\n",
        "        mfcc_features = self.features_from_mfcc(audioSample)\n",
        "        sample_X = np.concatenate((power_pitch_voice_features, hist_features, zero_crossing_features, spectral_centroid_features, spectral_rolloff_features, mfcc_features))\n",
        "        sample_pred = self.ensemblePipeline.predict(np.expand_dims(sample_X[self.selectedFeatureIndices], 0))\n",
        "        return self.classeNames[sample_pred[0]]\n",
        "\n",
        "\n"
      ],
      "metadata": {
        "id": "68Sd3DPsOd-t"
      },
      "execution_count": 56,
      "outputs": []
    },
    {
      "cell_type": "code",
      "source": [
        "predictor = PredictSurrounding(BASE_PATH, ZIP_FILES, SAMPLING_RATE, ensemble, selected_features,le.classes_)"
      ],
      "metadata": {
        "id": "hSLQd5FxuPmA"
      },
      "execution_count": 57,
      "outputs": []
    },
    {
      "cell_type": "code",
      "source": [
        "predicted_class = predictor.predictOnAudio('/content/drive/MyDrive/Data/MLEndLS/sample/MLEndLS_Sample/0274.wav')"
      ],
      "metadata": {
        "id": "DsGpBv_DutQS"
      },
      "execution_count": 58,
      "outputs": []
    },
    {
      "cell_type": "code",
      "source": [
        "predicted_class"
      ],
      "metadata": {
        "colab": {
          "base_uri": "https://localhost:8080/",
          "height": 36
        },
        "id": "TSeRDp9Zu6TW",
        "outputId": "c5d39184-0e27-497f-af90-dc863bda3fb1"
      },
      "execution_count": 59,
      "outputs": [
        {
          "output_type": "execute_result",
          "data": {
            "text/plain": [
              "'outdoor'"
            ],
            "application/vnd.google.colaboratory.intrinsic+json": {
              "type": "string"
            }
          },
          "metadata": {},
          "execution_count": 59
        }
      ]
    },
    {
      "cell_type": "markdown",
      "source": [
        "# 9 Conclusions\n",
        "\n",
        "**Conclusion:** \n",
        "The accuracy has been increased from the models without hyperparameter tuning to the models after hyperparameter tuning. The accuracy has been increased after performing the voting classifier ensemble.\n",
        "The final accuray of the model is around 80% as we are performing cross validation there might be negligible change in the final accuracy."
      ],
      "metadata": {
        "id": "BKLI-h59hNbt"
      }
    },
    {
      "cell_type": "code",
      "source": [],
      "metadata": {
        "id": "Q7frWjURnVQt"
      },
      "execution_count": 59,
      "outputs": []
    }
  ]
}