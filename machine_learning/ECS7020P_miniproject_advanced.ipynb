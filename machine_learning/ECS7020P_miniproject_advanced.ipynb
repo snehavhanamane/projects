{
  "nbformat": 4,
  "nbformat_minor": 0,
  "metadata": {
    "colab": {
      "provenance": []
    },
    "kernelspec": {
      "name": "python3",
      "display_name": "Python 3"
    },
    "language_info": {
      "name": "python"
    }
  },
  "cells": [
    {
      "cell_type": "markdown",
      "source": [
        "# 1 Author\n",
        "\n",
        "**Student Name**: Sneha Gadade \n",
        "\n",
        "**Student ID**:  220798659"
      ],
      "metadata": {
        "id": "WB_f-1ycq8v-"
      }
    },
    {
      "cell_type": "code",
      "execution_count": 1,
      "metadata": {
        "colab": {
          "base_uri": "https://localhost:8080/"
        },
        "id": "uSy-XYDgJUL8",
        "outputId": "9e449c77-3c91-40e2-9881-a21d09505cb7"
      },
      "outputs": [
        {
          "output_type": "stream",
          "name": "stdout",
          "text": [
            "Mounted at /content/drive\n"
          ]
        }
      ],
      "source": [
        "from google.colab import drive\n",
        "\n",
        "import pandas as pd\n",
        "import numpy as np\n",
        "from sklearn.decomposition import PCA\n",
        "from sklearn.preprocessing import StandardScaler\n",
        "from sklearn.model_selection import train_test_split\n",
        "from numpy import dot\n",
        "from numpy.linalg import norm\n",
        "\n",
        "drive.mount('/content/drive')"
      ]
    },
    {
      "cell_type": "code",
      "source": [
        "BASE_PATH = '/content/drive/MyDrive/Data/MLEndLS/'"
      ],
      "metadata": {
        "id": "8-8aXVJvJf1_"
      },
      "execution_count": 2,
      "outputs": []
    },
    {
      "cell_type": "markdown",
      "source": [
        "# 2 Problem formulation \n",
        "\n",
        "\n",
        "\n",
        "**Crime suspects identification using dimensionality reduction(Unsupervised learning)** \n",
        "\n",
        "Lets assume, a crime department in Mile End Campus has MLEnd London Sounds dataset (Train) as a database of all past criminals with their audio samples. There has been a new crime in MileEnd Campus and crime department has found audio(test) of the criminal as evidence only. The department has no other way to find the real criminal. So, the department decides to use the past criminals database to find some suspects to start with. \n",
        "\n",
        "The objective of the problem is to get top 10 suspects for the given audio sample of the real criminal from MLEnd London Sounds dataset.\n",
        "we will use **Participant** column as name of the criminals. We will split the dataset into train and test data. The train data represents the database of criminals that resides with crime department of Mile End Campus. We will use test data as data from real criminals. At tthe end of notebook we can observe suspects and criminals based on audio samples from test data.  \n",
        "\n",
        "Using the MLEnd London Sounds dataset, we will build a machine learning pipeline that takes input as an audio segment and predicts whether the input audio segment is similar to any participants from the saved data."
      ],
      "metadata": {
        "id": "Ummtpemf814g"
      }
    },
    {
      "cell_type": "markdown",
      "source": [
        "Crime suspects identification using dimensionality reduction"
      ],
      "metadata": {
        "id": "8ivsIfWmjopM"
      }
    },
    {
      "cell_type": "code",
      "source": [
        "BASE_PATH = '/content/drive/MyDrive/Data/MLEndLS/'"
      ],
      "metadata": {
        "id": "qIaLgr4cPqrK"
      },
      "execution_count": 3,
      "outputs": []
    },
    {
      "cell_type": "markdown",
      "source": [],
      "metadata": {
        "id": "WWWHheExjzdc"
      }
    },
    {
      "cell_type": "code",
      "source": [
        "MLEndLS_df = pd.read_csv('/content/drive/MyDrive/Data/MLEndLS/data/data.csv')"
      ],
      "metadata": {
        "id": "gB6_717cjzzg"
      },
      "execution_count": 4,
      "outputs": []
    },
    {
      "cell_type": "code",
      "source": [
        "MLEndLS_df.head()"
      ],
      "metadata": {
        "colab": {
          "base_uri": "https://localhost:8080/",
          "height": 299
        },
        "id": "q08pdTJij6R3",
        "outputId": "48719401-c681-4ab5-e719-69541e78b793"
      },
      "execution_count": 5,
      "outputs": [
        {
          "output_type": "execute_result",
          "data": {
            "text/plain": [
              "    file_id  feature_power  feature_pitch_mean  feature_pitch_std  \\\n",
              "0  0001.wav       0.026341           86.945514           2.278420   \n",
              "1  0002.wav       0.010308          193.033652          34.995743   \n",
              "2  0003.wav       0.005994          118.204789          13.032931   \n",
              "3  0004.wav       0.016374          127.450592          18.197021   \n",
              "4  0005.wav       0.002628          160.158646          25.790774   \n",
              "\n",
              "   feature_voiced_fr  feature_hist_0  feature_hist_1  feature_hist_2  \\\n",
              "0           0.016929        0.000007        0.000004        0.000001   \n",
              "1           0.131796        0.000006        0.000010        0.000011   \n",
              "2           0.053735        0.000012        0.000024        0.000019   \n",
              "3           0.105263        0.000004        0.000001        0.000006   \n",
              "4           0.067073        0.000006        0.000020        0.000044   \n",
              "\n",
              "   feature_hist_3  feature_hist_4  ...  feature_MFCC_14  feature_MFCC_15  \\\n",
              "0        0.000006        0.000012  ...        -3.208296        -0.176207   \n",
              "1        0.000016        0.000013  ...        -2.241410        -6.907155   \n",
              "2        0.000009        0.000010  ...         1.312150        16.873102   \n",
              "3        0.000013        0.000037  ...        -3.125193        -3.332724   \n",
              "4        0.000054        0.000059  ...        -3.904656        -4.678980   \n",
              "\n",
              "   feature_MFCC_16  feature_MFCC_17  feature_MFCC_18  feature_MFCC_19  \\\n",
              "0         7.756495        -8.273263        16.583691        -8.927471   \n",
              "1         7.761998        -5.321468        -0.472251         3.177591   \n",
              "2       -15.021708         3.989271         0.975474        -7.571914   \n",
              "3        -7.483416        -2.683595        -6.539318         1.335392   \n",
              "4         0.059519        -1.126336        -2.390231        -3.384028   \n",
              "\n",
              "         area      spot   in_out  Participant  \n",
              "0     british    street  outdoor         S151  \n",
              "1  kensington  dinosaur   indoor         S127  \n",
              "2      campus    square  outdoor          S18  \n",
              "3  kensington    hintze   indoor         S179  \n",
              "4      campus    square  outdoor         S176  \n",
              "\n",
              "[5 rows x 89 columns]"
            ],
            "text/html": [
              "\n",
              "  <div id=\"df-fa306ac3-624f-4948-9853-ba980ebe7238\">\n",
              "    <div class=\"colab-df-container\">\n",
              "      <div>\n",
              "<style scoped>\n",
              "    .dataframe tbody tr th:only-of-type {\n",
              "        vertical-align: middle;\n",
              "    }\n",
              "\n",
              "    .dataframe tbody tr th {\n",
              "        vertical-align: top;\n",
              "    }\n",
              "\n",
              "    .dataframe thead th {\n",
              "        text-align: right;\n",
              "    }\n",
              "</style>\n",
              "<table border=\"1\" class=\"dataframe\">\n",
              "  <thead>\n",
              "    <tr style=\"text-align: right;\">\n",
              "      <th></th>\n",
              "      <th>file_id</th>\n",
              "      <th>feature_power</th>\n",
              "      <th>feature_pitch_mean</th>\n",
              "      <th>feature_pitch_std</th>\n",
              "      <th>feature_voiced_fr</th>\n",
              "      <th>feature_hist_0</th>\n",
              "      <th>feature_hist_1</th>\n",
              "      <th>feature_hist_2</th>\n",
              "      <th>feature_hist_3</th>\n",
              "      <th>feature_hist_4</th>\n",
              "      <th>...</th>\n",
              "      <th>feature_MFCC_14</th>\n",
              "      <th>feature_MFCC_15</th>\n",
              "      <th>feature_MFCC_16</th>\n",
              "      <th>feature_MFCC_17</th>\n",
              "      <th>feature_MFCC_18</th>\n",
              "      <th>feature_MFCC_19</th>\n",
              "      <th>area</th>\n",
              "      <th>spot</th>\n",
              "      <th>in_out</th>\n",
              "      <th>Participant</th>\n",
              "    </tr>\n",
              "  </thead>\n",
              "  <tbody>\n",
              "    <tr>\n",
              "      <th>0</th>\n",
              "      <td>0001.wav</td>\n",
              "      <td>0.026341</td>\n",
              "      <td>86.945514</td>\n",
              "      <td>2.278420</td>\n",
              "      <td>0.016929</td>\n",
              "      <td>0.000007</td>\n",
              "      <td>0.000004</td>\n",
              "      <td>0.000001</td>\n",
              "      <td>0.000006</td>\n",
              "      <td>0.000012</td>\n",
              "      <td>...</td>\n",
              "      <td>-3.208296</td>\n",
              "      <td>-0.176207</td>\n",
              "      <td>7.756495</td>\n",
              "      <td>-8.273263</td>\n",
              "      <td>16.583691</td>\n",
              "      <td>-8.927471</td>\n",
              "      <td>british</td>\n",
              "      <td>street</td>\n",
              "      <td>outdoor</td>\n",
              "      <td>S151</td>\n",
              "    </tr>\n",
              "    <tr>\n",
              "      <th>1</th>\n",
              "      <td>0002.wav</td>\n",
              "      <td>0.010308</td>\n",
              "      <td>193.033652</td>\n",
              "      <td>34.995743</td>\n",
              "      <td>0.131796</td>\n",
              "      <td>0.000006</td>\n",
              "      <td>0.000010</td>\n",
              "      <td>0.000011</td>\n",
              "      <td>0.000016</td>\n",
              "      <td>0.000013</td>\n",
              "      <td>...</td>\n",
              "      <td>-2.241410</td>\n",
              "      <td>-6.907155</td>\n",
              "      <td>7.761998</td>\n",
              "      <td>-5.321468</td>\n",
              "      <td>-0.472251</td>\n",
              "      <td>3.177591</td>\n",
              "      <td>kensington</td>\n",
              "      <td>dinosaur</td>\n",
              "      <td>indoor</td>\n",
              "      <td>S127</td>\n",
              "    </tr>\n",
              "    <tr>\n",
              "      <th>2</th>\n",
              "      <td>0003.wav</td>\n",
              "      <td>0.005994</td>\n",
              "      <td>118.204789</td>\n",
              "      <td>13.032931</td>\n",
              "      <td>0.053735</td>\n",
              "      <td>0.000012</td>\n",
              "      <td>0.000024</td>\n",
              "      <td>0.000019</td>\n",
              "      <td>0.000009</td>\n",
              "      <td>0.000010</td>\n",
              "      <td>...</td>\n",
              "      <td>1.312150</td>\n",
              "      <td>16.873102</td>\n",
              "      <td>-15.021708</td>\n",
              "      <td>3.989271</td>\n",
              "      <td>0.975474</td>\n",
              "      <td>-7.571914</td>\n",
              "      <td>campus</td>\n",
              "      <td>square</td>\n",
              "      <td>outdoor</td>\n",
              "      <td>S18</td>\n",
              "    </tr>\n",
              "    <tr>\n",
              "      <th>3</th>\n",
              "      <td>0004.wav</td>\n",
              "      <td>0.016374</td>\n",
              "      <td>127.450592</td>\n",
              "      <td>18.197021</td>\n",
              "      <td>0.105263</td>\n",
              "      <td>0.000004</td>\n",
              "      <td>0.000001</td>\n",
              "      <td>0.000006</td>\n",
              "      <td>0.000013</td>\n",
              "      <td>0.000037</td>\n",
              "      <td>...</td>\n",
              "      <td>-3.125193</td>\n",
              "      <td>-3.332724</td>\n",
              "      <td>-7.483416</td>\n",
              "      <td>-2.683595</td>\n",
              "      <td>-6.539318</td>\n",
              "      <td>1.335392</td>\n",
              "      <td>kensington</td>\n",
              "      <td>hintze</td>\n",
              "      <td>indoor</td>\n",
              "      <td>S179</td>\n",
              "    </tr>\n",
              "    <tr>\n",
              "      <th>4</th>\n",
              "      <td>0005.wav</td>\n",
              "      <td>0.002628</td>\n",
              "      <td>160.158646</td>\n",
              "      <td>25.790774</td>\n",
              "      <td>0.067073</td>\n",
              "      <td>0.000006</td>\n",
              "      <td>0.000020</td>\n",
              "      <td>0.000044</td>\n",
              "      <td>0.000054</td>\n",
              "      <td>0.000059</td>\n",
              "      <td>...</td>\n",
              "      <td>-3.904656</td>\n",
              "      <td>-4.678980</td>\n",
              "      <td>0.059519</td>\n",
              "      <td>-1.126336</td>\n",
              "      <td>-2.390231</td>\n",
              "      <td>-3.384028</td>\n",
              "      <td>campus</td>\n",
              "      <td>square</td>\n",
              "      <td>outdoor</td>\n",
              "      <td>S176</td>\n",
              "    </tr>\n",
              "  </tbody>\n",
              "</table>\n",
              "<p>5 rows × 89 columns</p>\n",
              "</div>\n",
              "      <button class=\"colab-df-convert\" onclick=\"convertToInteractive('df-fa306ac3-624f-4948-9853-ba980ebe7238')\"\n",
              "              title=\"Convert this dataframe to an interactive table.\"\n",
              "              style=\"display:none;\">\n",
              "        \n",
              "  <svg xmlns=\"http://www.w3.org/2000/svg\" height=\"24px\"viewBox=\"0 0 24 24\"\n",
              "       width=\"24px\">\n",
              "    <path d=\"M0 0h24v24H0V0z\" fill=\"none\"/>\n",
              "    <path d=\"M18.56 5.44l.94 2.06.94-2.06 2.06-.94-2.06-.94-.94-2.06-.94 2.06-2.06.94zm-11 1L8.5 8.5l.94-2.06 2.06-.94-2.06-.94L8.5 2.5l-.94 2.06-2.06.94zm10 10l.94 2.06.94-2.06 2.06-.94-2.06-.94-.94-2.06-.94 2.06-2.06.94z\"/><path d=\"M17.41 7.96l-1.37-1.37c-.4-.4-.92-.59-1.43-.59-.52 0-1.04.2-1.43.59L10.3 9.45l-7.72 7.72c-.78.78-.78 2.05 0 2.83L4 21.41c.39.39.9.59 1.41.59.51 0 1.02-.2 1.41-.59l7.78-7.78 2.81-2.81c.8-.78.8-2.07 0-2.86zM5.41 20L4 18.59l7.72-7.72 1.47 1.35L5.41 20z\"/>\n",
              "  </svg>\n",
              "      </button>\n",
              "      \n",
              "  <style>\n",
              "    .colab-df-container {\n",
              "      display:flex;\n",
              "      flex-wrap:wrap;\n",
              "      gap: 12px;\n",
              "    }\n",
              "\n",
              "    .colab-df-convert {\n",
              "      background-color: #E8F0FE;\n",
              "      border: none;\n",
              "      border-radius: 50%;\n",
              "      cursor: pointer;\n",
              "      display: none;\n",
              "      fill: #1967D2;\n",
              "      height: 32px;\n",
              "      padding: 0 0 0 0;\n",
              "      width: 32px;\n",
              "    }\n",
              "\n",
              "    .colab-df-convert:hover {\n",
              "      background-color: #E2EBFA;\n",
              "      box-shadow: 0px 1px 2px rgba(60, 64, 67, 0.3), 0px 1px 3px 1px rgba(60, 64, 67, 0.15);\n",
              "      fill: #174EA6;\n",
              "    }\n",
              "\n",
              "    [theme=dark] .colab-df-convert {\n",
              "      background-color: #3B4455;\n",
              "      fill: #D2E3FC;\n",
              "    }\n",
              "\n",
              "    [theme=dark] .colab-df-convert:hover {\n",
              "      background-color: #434B5C;\n",
              "      box-shadow: 0px 1px 3px 1px rgba(0, 0, 0, 0.15);\n",
              "      filter: drop-shadow(0px 1px 2px rgba(0, 0, 0, 0.3));\n",
              "      fill: #FFFFFF;\n",
              "    }\n",
              "  </style>\n",
              "\n",
              "      <script>\n",
              "        const buttonEl =\n",
              "          document.querySelector('#df-fa306ac3-624f-4948-9853-ba980ebe7238 button.colab-df-convert');\n",
              "        buttonEl.style.display =\n",
              "          google.colab.kernel.accessAllowed ? 'block' : 'none';\n",
              "\n",
              "        async function convertToInteractive(key) {\n",
              "          const element = document.querySelector('#df-fa306ac3-624f-4948-9853-ba980ebe7238');\n",
              "          const dataTable =\n",
              "            await google.colab.kernel.invokeFunction('convertToInteractive',\n",
              "                                                     [key], {});\n",
              "          if (!dataTable) return;\n",
              "\n",
              "          const docLinkHtml = 'Like what you see? Visit the ' +\n",
              "            '<a target=\"_blank\" href=https://colab.research.google.com/notebooks/data_table.ipynb>data table notebook</a>'\n",
              "            + ' to learn more about interactive tables.';\n",
              "          element.innerHTML = '';\n",
              "          dataTable['output_type'] = 'display_data';\n",
              "          await google.colab.output.renderOutput(dataTable, element);\n",
              "          const docLink = document.createElement('div');\n",
              "          docLink.innerHTML = docLinkHtml;\n",
              "          element.appendChild(docLink);\n",
              "        }\n",
              "      </script>\n",
              "    </div>\n",
              "  </div>\n",
              "  "
            ]
          },
          "metadata": {},
          "execution_count": 5
        }
      ]
    },
    {
      "cell_type": "code",
      "source": [
        "is_multi = MLEndLS_df[\"Participant\"].value_counts() > 1\n",
        "MLEndLS_df = MLEndLS_df[MLEndLS_df[\"Participant\"].isin(is_multi[is_multi].index)]"
      ],
      "metadata": {
        "id": "w1HDtkBrkScd"
      },
      "execution_count": 6,
      "outputs": []
    },
    {
      "cell_type": "code",
      "source": [
        "features = [column for column in MLEndLS_df.columns if column.startswith('feature_')]"
      ],
      "metadata": {
        "id": "5mbvO5HCkXEn"
      },
      "execution_count": 7,
      "outputs": []
    },
    {
      "cell_type": "markdown",
      "source": [
        "# 3 Modelling and  Machine Learning pipeline\n",
        "\n",
        "\n",
        "We will split the dataset into train and test data. The train data represents the database of criminals that resides with crime department of Mile End Campus. We will use test data as data from real criminals. At tthe end of notebook we can observe suspects and criminals based on audio samples from test data.  "
      ],
      "metadata": {
        "id": "266TopkwzLAm"
      }
    },
    {
      "cell_type": "code",
      "source": [
        "train_df, test_df, participants_train, participants_test = train_test_split(MLEndLS_df, MLEndLS_df[[\"file_id\", \"Participant\"]], test_size=0.07, stratify=MLEndLS_df[\"Participant\"])"
      ],
      "metadata": {
        "id": "IaZeLSiGkZir"
      },
      "execution_count": 8,
      "outputs": []
    },
    {
      "cell_type": "markdown",
      "source": [
        "# 4 Transformation stage\n",
        "\n",
        "We will use same extracted features for this problem. We will scale the features using StandardScalar from scikit-learn. We will obtain embeddings of samples from the training data using demensionality reduction. For test sample, we will use same similar transformation to obtain the embedding and compare it against all embeddings in train dataset using Cosine Similarity. Higher the cosine similarity for the particiant, higher the chance that the participant is a suspect. "
      ],
      "metadata": {
        "id": "bf-VbmJvw-25"
      }
    },
    {
      "cell_type": "code",
      "source": [
        "class CriminalsPCA:\n",
        "    def __init__(self, train_dataframe, test_dataframe, feature_names):\n",
        "        self.trainDataframe = train_dataframe\n",
        "        self.testDataframe = test_dataframe\n",
        "        self.testDFfileIDs = self.testDataframe[\"file_id\"].values.tolist()\n",
        "        self.featureNames = feature_names\n",
        "        self.scaleEstimator = StandardScaler()\n",
        "        self.scaleEstimator.fit(train_dataframe[self.featureNames])\n",
        "        self.X = self.scaleEstimator.transform(train_dataframe[self.featureNames])\n",
        "        self.pca = PCA(n_components= 20)\n",
        "        self.pca.fit(self.X)\n",
        "        self.embeddings = self.pca.transform(self.X)\n",
        "    \n",
        "    def cosine_similarity(self, a, b):\n",
        "        return dot(a, b)/(norm(a)*norm(b))\n",
        "    \n",
        "    def get_similarities(self, input_vec, arr):\n",
        "        similarities = []\n",
        "        for i in range(arr.shape[0]):\n",
        "            similarities.append(self.cosine_similarity(input_vec, arr[ i,:]))\n",
        "        return similarities\n",
        "    \n",
        "    def identify_suspects(self, file_id):\n",
        "        feature_vector = self.testDataframe[self.featureNames].iloc[self.testDFfileIDs.index(file_id),:]\n",
        "        similarSuspectsDF = pd.DataFrame()\n",
        "        similarSuspectsDF[\"file_id\"] = self.trainDataframe[\"file_id\"].values.tolist()\n",
        "        similarSuspectsDF[\"Participant\"] = self.trainDataframe[\"Participant\"].values.tolist()\n",
        "        featureVector_scaled = self.scaleEstimator.transform(np.expand_dims(feature_vector,0))\n",
        "        featureVector_embedding = self.pca.transform(featureVector_scaled)\n",
        "        similarities = self.get_similarities(featureVector_embedding, self.embeddings)\n",
        "        similarSuspectsDF[\"similarity\"] = similarities\n",
        "        similarSuspectsDF = similarSuspectsDF.sort_values(by = \"similarity\", ascending=False)\n",
        "        suspects = similarSuspectsDF['Participant'].head(10).values.tolist()\n",
        "        print(\"TOP 10 SUSPECTS ....\")\n",
        "        print(f\"{suspects}\")\n",
        "        return suspects"
      ],
      "metadata": {
        "id": "C1IHk4i2kbwo"
      },
      "execution_count": 9,
      "outputs": []
    },
    {
      "cell_type": "markdown",
      "source": [
        "# 8 Results\n",
        "In this section we will detect top 10 suspects for the audio files in test dataset."
      ],
      "metadata": {
        "id": "d-kjqQcRz0tb"
      }
    },
    {
      "cell_type": "code",
      "source": [
        "suspect_identifier = CriminalsPCA(train_dataframe=train_df, test_dataframe=test_df, feature_names=features)"
      ],
      "metadata": {
        "id": "q-muTesakwwC"
      },
      "execution_count": 10,
      "outputs": []
    },
    {
      "cell_type": "code",
      "source": [
        "criminal_voice_fileIDs = participants_test[\"file_id\"].values.tolist()\n",
        "criminal_voice_fileIDs[:10]"
      ],
      "metadata": {
        "colab": {
          "base_uri": "https://localhost:8080/"
        },
        "id": "axD460fdkzMZ",
        "outputId": "fcdff0b3-67eb-4636-99ab-67a0dc7cae32"
      },
      "execution_count": 11,
      "outputs": [
        {
          "output_type": "execute_result",
          "data": {
            "text/plain": [
              "['0542.wav',\n",
              " '2383.wav',\n",
              " '1171.wav',\n",
              " '0840.wav',\n",
              " '0670.wav',\n",
              " '1809.wav',\n",
              " '0315.wav',\n",
              " '0330.wav',\n",
              " '0593.wav',\n",
              " '1467.wav']"
            ]
          },
          "metadata": {},
          "execution_count": 11
        }
      ]
    },
    {
      "cell_type": "code",
      "source": [
        "criminal_voice_file_id = criminal_voice_fileIDs[1]\n",
        "criminal_voice_file_id"
      ],
      "metadata": {
        "colab": {
          "base_uri": "https://localhost:8080/",
          "height": 36
        },
        "id": "wUyeSUyKk2Br",
        "outputId": "4ff526ce-da20-4193-d583-0d8ad31016cd"
      },
      "execution_count": 16,
      "outputs": [
        {
          "output_type": "execute_result",
          "data": {
            "text/plain": [
              "'2383.wav'"
            ],
            "application/vnd.google.colaboratory.intrinsic+json": {
              "type": "string"
            }
          },
          "metadata": {},
          "execution_count": 16
        }
      ]
    },
    {
      "cell_type": "code",
      "source": [
        "print(f'Real Criminal is {participants_test[\"Participant\"][participants_test[\"file_id\"] == criminal_voice_file_id].values[0]}')\n",
        "prime_suspects = suspect_identifier.identify_suspects(criminal_voice_file_id)"
      ],
      "metadata": {
        "colab": {
          "base_uri": "https://localhost:8080/"
        },
        "id": "-RizAs2Qk5Y1",
        "outputId": "73c818d3-161a-44a1-ae95-9da00f605109"
      },
      "execution_count": 17,
      "outputs": [
        {
          "output_type": "stream",
          "name": "stdout",
          "text": [
            "Real Criminal is S129\n",
            "TOP 10 SUSPECTS ....\n",
            "['S129', 'S61', 'S129', 'S46', 'S118', 'S78', 'S181', 'S118', 'S72', 'S78']\n"
          ]
        },
        {
          "output_type": "stream",
          "name": "stderr",
          "text": [
            "/usr/local/lib/python3.8/dist-packages/sklearn/base.py:450: UserWarning: X does not have valid feature names, but StandardScaler was fitted with feature names\n",
            "  warnings.warn(\n"
          ]
        }
      ]
    },
    {
      "cell_type": "markdown",
      "source": [
        "# 9 Conclusions\n",
        " We can observe that for most of the samples in test data we are able to find real criminals as primary top 10 suspects using similarity ranking."
      ],
      "metadata": {
        "id": "sqLLFzVCz4tQ"
      }
    },
    {
      "cell_type": "code",
      "source": [],
      "metadata": {
        "id": "1AiTbf21k8J-"
      },
      "execution_count": 15,
      "outputs": []
    }
  ]
}